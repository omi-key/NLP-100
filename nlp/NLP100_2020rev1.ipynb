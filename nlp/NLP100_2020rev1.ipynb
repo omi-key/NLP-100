{
 "cells": [
  {
   "cell_type": "code",
   "execution_count": 1,
   "metadata": {},
   "outputs": [
    {
     "output_type": "execute_result",
     "data": {
      "text/plain": "'3.8.0 (default, Oct 28 2019, 16:14:01) \\n[GCC 8.3.0]'"
     },
     "metadata": {},
     "execution_count": 1
    }
   ],
   "source": [
    "import sys\n",
    "sys.version"
   ]
  },
  {
   "cell_type": "markdown",
   "metadata": {},
   "source": [
    "# 第1章\n",
    "https://nlp100.github.io/ja/ch01.html"
   ]
  },
  {
   "cell_type": "markdown",
   "metadata": {},
   "source": [
    "## 00. 文字列の逆順\n",
    "文字列”stressed”の文字を逆に（末尾から先頭に向かって）並べた文字列を得よ．"
   ]
  },
  {
   "cell_type": "code",
   "execution_count": 2,
   "metadata": {},
   "outputs": [
    {
     "output_type": "execute_result",
     "data": {
      "text/plain": "'desserts'"
     },
     "metadata": {},
     "execution_count": 2
    }
   ],
   "source": [
    "\"stressed\"[::-1]"
   ]
  },
  {
   "cell_type": "markdown",
   "metadata": {},
   "source": [
    "## 01. 「パタトクカシーー」\n",
    "「パタトクカシーー」という文字列の1,3,5,7文字目を取り出して連結した文字列を得よ．"
   ]
  },
  {
   "cell_type": "code",
   "execution_count": 3,
   "metadata": {},
   "outputs": [
    {
     "output_type": "execute_result",
     "data": {
      "text/plain": "'パトカー'"
     },
     "metadata": {},
     "execution_count": 3
    }
   ],
   "source": [
    "\"パタトクカシーー\"[::2]"
   ]
  },
  {
   "cell_type": "markdown",
   "metadata": {},
   "source": [
    "## 02. 「パトカー」＋「タクシー」＝「パタトクカシーー」\n",
    "「パトカー」＋「タクシー」の文字を先頭から交互に連結して文字列「パタトクカシーー」を得よ．"
   ]
  },
  {
   "cell_type": "code",
   "execution_count": 4,
   "metadata": {},
   "outputs": [
    {
     "output_type": "execute_result",
     "data": {
      "text/plain": "'パタトクカシーー'"
     },
     "metadata": {},
     "execution_count": 4
    }
   ],
   "source": [
    "nulljoin = lambda x: \"\".join(x)\n",
    "nulljoin([nulljoin(t) for t in zip(\"パトカー\", \"タクシー\")])"
   ]
  },
  {
   "cell_type": "markdown",
   "metadata": {},
   "source": [
    "## 03. 円周率\n",
    "“Now I need a drink, alcoholic of course, after the heavy lectures involving quantum mechanics.”という文を単語に分解し，各単語の（アルファベットの）文字数を先頭から出現順に並べたリストを作成せよ．"
   ]
  },
  {
   "cell_type": "code",
   "execution_count": 5,
   "metadata": {},
   "outputs": [
    {
     "output_type": "execute_result",
     "data": {
      "text/plain": "[3, 1, 4, 1, 5, 9, 2, 6, 5, 3, 5, 8, 9, 7, 9]"
     },
     "metadata": {},
     "execution_count": 5
    }
   ],
   "source": [
    "import re\n",
    "s = \"Now I need a drink, alcoholic of course, after the heavy lectures involving quantum mechanics.\"\n",
    "list(map(lambda x: len(x), re.findall(r\"[\\w\\-]+\", s)))"
   ]
  },
  {
   "cell_type": "markdown",
   "metadata": {},
   "source": [
    "## 04. 元素記号\n",
    "“Hi He Lied Because Boron Could Not Oxidize Fluorine. New Nations Might Also Sign Peace Security Clause. Arthur King Can.”という文を単語に分解し，1, 5, 6, 7, 8, 9, 15, 16, 19番目の単語は先頭の1文字，それ以外の単語は先頭の2文字を取り出し，取り出した文字列から単語の位置（先頭から何番目の単語か）への連想配列（辞書型もしくはマップ型）を作成せよ．"
   ]
  },
  {
   "cell_type": "code",
   "execution_count": 6,
   "metadata": {},
   "outputs": [
    {
     "output_type": "execute_result",
     "data": {
      "text/plain": "{'H': 1,\n 'He': 2,\n 'Li': 3,\n 'Be': 4,\n 'B': 5,\n 'C': 6,\n 'N': 7,\n 'O': 8,\n 'F': 9,\n 'Ne': 10,\n 'Na': 11,\n 'Mi': 12,\n 'Al': 13,\n 'Si': 14,\n 'P': 15,\n 'S': 16,\n 'Cl': 17,\n 'Ar': 18,\n 'K': 19,\n 'Ca': 20}"
     },
     "metadata": {},
     "execution_count": 6
    }
   ],
   "source": [
    "s = \"Hi He Lied Because Boron Could Not Oxidize Fluorine. New Nations Might Also Sign Peace Security Clause. Arthur King Can.\"\n",
    "ONE_LETTER = [1, 5, 6, 7, 8, 9, 15, 16, 19]\n",
    "d = {}\n",
    "for ind, word in enumerate(re.findall(r\"[\\w\\-]+\", s)):\n",
    "    n_take = 1 if ind+1 in ONE_LETTER else 2\n",
    "    atom = word[:n_take]\n",
    "    d[atom] = ind+1\n",
    "d"
   ]
  },
  {
   "cell_type": "markdown",
   "metadata": {},
   "source": [
    "## 05. n-gram\n",
    "与えられたシーケンス（文字列やリストなど）からn-gramを作る関数を作成せよ．この関数を用い，”I am an NLPer”という文から単語bi-gram，文字bi-gramを得よ．"
   ]
  },
  {
   "cell_type": "code",
   "execution_count": 7,
   "metadata": {
    "tags": []
   },
   "outputs": [
    {
     "output_type": "stream",
     "name": "stdout",
     "text": "[['I', 'am'], ['am', 'an'], ['an', 'NLPer']]\n['I ', ' a', 'am', 'm ', ' a', 'an', 'n ', ' N', 'NL', 'LP', 'Pe', 'er']\n"
    }
   ],
   "source": [
    "def n_gram(seq, n):\n",
    "    return [seq[i:i+n] for i in range(len(seq)-n+1)]\n",
    "\n",
    "s = \"I am an NLPer\"\n",
    "wordwise = re.findall(r\"[\\w\\-]+\", s)\n",
    "print(n_gram(wordwise, 2))\n",
    "print(n_gram(s,2))"
   ]
  },
  {
   "cell_type": "markdown",
   "metadata": {},
   "source": [
    "## 06. 集合\n",
    "“paraparaparadise”と”paragraph”に含まれる文字bi-gramの集合を，それぞれ, XとYとして求め，XとYの和集合，積集合，差集合を求めよ．さらに，’se’というbi-gramがXおよびYに含まれるかどうかを調べよ．"
   ]
  },
  {
   "cell_type": "code",
   "execution_count": 8,
   "metadata": {
    "tags": []
   },
   "outputs": [
    {
     "output_type": "stream",
     "name": "stdout",
     "text": "{'ad', 'ap', 'se', 'ph', 'ag', 'ra', 'pa', 'is', 'ar', 'di', 'gr'}\n{'ra', 'pa', 'ap', 'ar'}\n{'se', 'di', 'is', 'ad'}\nTrue False\n"
    }
   ],
   "source": [
    "sx = \"paraparaparadise\"\n",
    "sy = \"paragraph\"\n",
    "X = set(n_gram(sx,2))\n",
    "Y = set(n_gram(sy,2))\n",
    "print(X|Y)\n",
    "print(X&Y)\n",
    "print(X-Y)\n",
    "print(\"se\" in X, \"se\" in Y)"
   ]
  },
  {
   "cell_type": "markdown",
   "metadata": {},
   "source": [
    "## 07. テンプレートによる文生成\n",
    "引数x, y, zを受け取り「x時のyはz」という文字列を返す関数を実装せよ．さらに，x=12, y=”気温”, z=22.4として，実行結果を確認せよ．"
   ]
  },
  {
   "cell_type": "code",
   "execution_count": 9,
   "metadata": {},
   "outputs": [
    {
     "output_type": "execute_result",
     "data": {
      "text/plain": "'12時の気温は22.4'"
     },
     "metadata": {},
     "execution_count": 9
    }
   ],
   "source": [
    "template = lambda x,y,z: \"{}時の{}は{}\".format(x,y,z)\n",
    "template(12, \"気温\", 22.4)"
   ]
  },
  {
   "cell_type": "markdown",
   "metadata": {},
   "source": [
    "## 08. 暗号文\n",
    "与えられた文字列の各文字を，以下の仕様で変換する関数cipherを実装せよ．\n",
    "\n",
    "- 英小文字ならば(219 - 文字コード)の文字に置換\n",
    "- その他の文字はそのまま出力\n",
    "\n",
    "この関数を用い，英語のメッセージを暗号化・復号化せよ．"
   ]
  },
  {
   "cell_type": "code",
   "execution_count": 10,
   "metadata": {
    "tags": []
   },
   "outputs": [
    {
     "output_type": "stream",
     "name": "stdout",
     "text": "I am an NLPer\nI zn zm NLPvi\nI am an NLPer\n"
    }
   ],
   "source": [
    "def cipher(s):\n",
    "    return nulljoin([chr(219-ord(c)) if c.islower() else c for c in s])\n",
    "print(s)\n",
    "print(cipher(s))\n",
    "print(cipher(cipher(s)))"
   ]
  },
  {
   "cell_type": "markdown",
   "metadata": {},
   "source": [
    "## 09. TypoglycemiaPermalink\n",
    "スペースで区切られた単語列に対して，各単語の先頭と末尾の文字は残し，それ以外の文字の順序をランダムに並び替えるプログラムを作成せよ．ただし，長さが４以下の単語は並び替えないこととする．適当な英語の文（例えば”I couldn’t believe that I could actually understand what I was reading : the phenomenal power of the human mind .”）を与え，その実行結果を確認せよ．"
   ]
  },
  {
   "cell_type": "code",
   "execution_count": 11,
   "metadata": {},
   "outputs": [
    {
     "output_type": "execute_result",
     "data": {
      "text/plain": "'I coduln’t blvieee that I cluod acltluay uadrsentnd what I was rdneiag : the pehonnaeml pewor of the hmuan mind.'"
     },
     "metadata": {},
     "execution_count": 11
    }
   ],
   "source": [
    "from random import seed, sample\n",
    "seed(42)\n",
    "\n",
    "s = \"I couldn’t believe that I could actually understand what I was reading : the phenomenal power of the human mind.\"\n",
    "words = re.findall(r\"[\\w\\-]+\", s)\n",
    "others = re.findall(r\"[^\\w\\-]+\", s)\n",
    "ret = \"\"\n",
    "for w,o in zip(words, others):\n",
    "    if len(w) <= 4:\n",
    "        ret += w\n",
    "    else:\n",
    "        ret += w[0] + nulljoin(sample(w[1:-1], len(w)-2)) + w[-1]\n",
    "    ret += o\n",
    "ret"
   ]
  },
  {
   "cell_type": "markdown",
   "metadata": {},
   "source": [
    "----"
   ]
  },
  {
   "cell_type": "markdown",
   "metadata": {},
   "source": [
    "# 第2章\n",
    "https://nlp100.github.io/ja/ch02.html\n",
    "\n",
    "popular-names.txtは，アメリカで生まれた赤ちゃんの「名前」「性別」「人数」「年」をタブ区切り形式で格納したファイルである．以下の処理を行うプログラムを作成し，popular-names.txtを入力ファイルとして実行せよ．さらに，同様の処理をUNIXコマンドでも実行し，プログラムの実行結果を確認せよ．"
   ]
  },
  {
   "cell_type": "code",
   "execution_count": 12,
   "metadata": {
    "tags": []
   },
   "outputs": [
    {
     "output_type": "stream",
     "name": "stdout",
     "text": "File ‘popular-names.txt’ already there; not retrieving.\n\n"
    }
   ],
   "source": [
    "!wget -nc https://nlp100.github.io/data/popular-names.txt\n",
    "!INPUT_FILE=\"popular-names.txt\"\n",
    "INPUT_FILE = \"popular-names.txt\""
   ]
  },
  {
   "cell_type": "markdown",
   "metadata": {},
   "source": [
    "## 10. 行数のカウント\n",
    "行数をカウントせよ．確認にはwcコマンドを用いよ．"
   ]
  },
  {
   "cell_type": "code",
   "execution_count": 13,
   "metadata": {
    "tags": []
   },
   "outputs": [
    {
     "output_type": "stream",
     "name": "stdout",
     "text": "2780\n"
    }
   ],
   "source": [
    "with open(INPUT_FILE) as f:\n",
    "    print(f.read().count('\\n'))"
   ]
  },
  {
   "cell_type": "code",
   "execution_count": 14,
   "metadata": {
    "tags": []
   },
   "outputs": [
    {
     "output_type": "stream",
     "name": "stdout",
     "text": "2780 popular-names.txt\n"
    }
   ],
   "source": [
    "!wc -l $INPUT_FILE"
   ]
  },
  {
   "cell_type": "markdown",
   "metadata": {},
   "source": [
    "## 11. タブをスペースに置換\n",
    "\n",
    "タブ1文字につきスペース1文字に置換せよ．確認にはsedコマンド，trコマンド，もしくはexpandコマンドを用いよ．タブ1文字につきスペース1文字に置換せよ．確認にはsedコマンド，trコマンド，もしくはexpandコマンドを用いよ．"
   ]
  },
  {
   "cell_type": "code",
   "execution_count": 15,
   "metadata": {},
   "outputs": [],
   "source": [
    "with open(INPUT_FILE) as f:\n",
    "    with open(\"11_pyout_\" + INPUT_FILE, 'w') as g:\n",
    "        for c in f.read():\n",
    "            g.write(c if c != '\\t' else ' ')"
   ]
  },
  {
   "cell_type": "code",
   "execution_count": 16,
   "metadata": {},
   "outputs": [],
   "source": [
    "!cp $INPUT_FILE 11_cmdout_$INPUT_FILE; sed -i -e \"s/\\t/ /g\" 11_cmdout_$INPUT_FILE\n",
    "!diff 11_cmdout_$INPUT_FILE 11_pyout_$INPUT_FILE"
   ]
  },
  {
   "cell_type": "markdown",
   "metadata": {},
   "source": [
    "## 12. 1列目をcol1.txtに，2列目をcol2.txtに保存\n",
    "\n",
    "各行の1列目だけを抜き出したものをcol1.txtに，2列目だけを抜き出したものをcol2.txtとしてファイルに保存せよ．確認にはcutコマンドを用いよ．"
   ]
  },
  {
   "cell_type": "code",
   "execution_count": 17,
   "metadata": {},
   "outputs": [],
   "source": [
    "c1, c2 = [], []\n",
    "with open(INPUT_FILE) as f:\n",
    "    while line := f.readline():\n",
    "        c = line.split()\n",
    "        c1.append(c[0] + \"\\n\")\n",
    "        c2.append(c[1] + \"\\n\")\n",
    "with open(\"col1.txt\", 'w') as f:\n",
    "    f.writelines(c1)\n",
    "with open(\"col2.txt\", 'w') as f:\n",
    "    f.writelines(c2)"
   ]
  },
  {
   "cell_type": "code",
   "execution_count": 18,
   "metadata": {
    "tags": []
   },
   "outputs": [],
   "source": [
    "!cut -f 1 $INPUT_FILE > cmd_col1.txt\n",
    "!cut -f 2 $INPUT_FILE > cmd_col2.txt\n",
    "!diff col1.txt cmd_col1.txt\n",
    "!diff col2.txt cmd_col2.txt"
   ]
  },
  {
   "cell_type": "markdown",
   "metadata": {},
   "source": [
    "## 13. col1.txtとcol2.txtをマージ\n",
    "\n",
    "12で作ったcol1.txtとcol2.txtを結合し，元のファイルの1列目と2列目をタブ区切りで並べたテキストファイルを作成せよ．確認にはpasteコマンドを用いよ.\n"
   ]
  },
  {
   "cell_type": "code",
   "execution_count": 19,
   "metadata": {},
   "outputs": [],
   "source": [
    "writebuf = []\n",
    "with open(\"col1.txt\") as c1:\n",
    "    with open(\"col2.txt\") as c2:\n",
    "        while (c1line := c1.readline().rstrip()) and \\\n",
    "            (c2line := c2.readline().rstrip()):\n",
    "            writebuf.append(c1line + \"\\t\" + c2line + \"\\n\")\n",
    "with open(\"13_pyout.txt\", 'w') as f:\n",
    "    f.writelines(writebuf)"
   ]
  },
  {
   "cell_type": "code",
   "execution_count": 20,
   "metadata": {},
   "outputs": [],
   "source": [
    "!paste col1.txt col2.txt > 13_cmdout.txt\n",
    "!diff 13_pyout.txt 13_cmdout.txt"
   ]
  },
  {
   "cell_type": "markdown",
   "metadata": {},
   "source": [
    "## 14. 先頭からN行を出力\n",
    "\n",
    "自然数Nをコマンドライン引数などの手段で受け取り，入力のうち先頭のN行だけを表示せよ．確認にはheadコマンドを用いよ．"
   ]
  },
  {
   "cell_type": "code",
   "execution_count": 21,
   "metadata": {
    "tags": []
   },
   "outputs": [
    {
     "output_type": "stream",
     "name": "stdout",
     "text": "Mary\tF\t7065\t1880\nAnna\tF\t2604\t1880\nEmma\tF\t2003\t1880\nElizabeth\tF\t1939\t1880\nMinnie\tF\t1746\t1880\nMargaret\tF\t1578\t1880\nIda\tF\t1472\t1880\nAlice\tF\t1414\t1880\nBertha\tF\t1320\t1880\nSarah\tF\t1288\t1880\n"
    }
   ],
   "source": [
    "def head(n):\n",
    "    with open(INPUT_FILE) as f:\n",
    "        while (line := f.readline()) and \\\n",
    "            (n := n-1) >= 0:\n",
    "            print(line, end=\"\")\n",
    "head(10)"
   ]
  },
  {
   "cell_type": "code",
   "execution_count": 22,
   "metadata": {
    "tags": []
   },
   "outputs": [
    {
     "output_type": "stream",
     "name": "stdout",
     "text": "Mary\tF\t7065\t1880\nAnna\tF\t2604\t1880\nEmma\tF\t2003\t1880\nElizabeth\tF\t1939\t1880\nMinnie\tF\t1746\t1880\nMargaret\tF\t1578\t1880\nIda\tF\t1472\t1880\nAlice\tF\t1414\t1880\nBertha\tF\t1320\t1880\nSarah\tF\t1288\t1880\n"
    }
   ],
   "source": [
    "!head $INPUT_FILE"
   ]
  },
  {
   "cell_type": "markdown",
   "metadata": {},
   "source": [
    "## 15. 末尾のN行を出力\n",
    "\n",
    "自然数Nをコマンドライン引数などの手段で受け取り，入力のうち末尾のN行だけを表示せよ．確認にはtailコマンドを用いよ．"
   ]
  },
  {
   "cell_type": "code",
   "execution_count": 23,
   "metadata": {
    "tags": []
   },
   "outputs": [
    {
     "output_type": "stream",
     "name": "stdout",
     "text": "Liam\tM\t19837\t2018\nNoah\tM\t18267\t2018\nWilliam\tM\t14516\t2018\nJames\tM\t13525\t2018\nOliver\tM\t13389\t2018\nBenjamin\tM\t13381\t2018\nElijah\tM\t12886\t2018\nLucas\tM\t12585\t2018\nMason\tM\t12435\t2018\nLogan\tM\t12352\t2018\n"
    }
   ],
   "source": [
    "def tail(n):\n",
    "    with open(INPUT_FILE) as f:\n",
    "        lines = f.readlines()\n",
    "        print(nulljoin(lines[-n:]), end=\"\")\n",
    "tail(10)"
   ]
  },
  {
   "cell_type": "code",
   "execution_count": 24,
   "metadata": {
    "tags": []
   },
   "outputs": [
    {
     "output_type": "stream",
     "name": "stdout",
     "text": "Liam\tM\t19837\t2018\nNoah\tM\t18267\t2018\nWilliam\tM\t14516\t2018\nJames\tM\t13525\t2018\nOliver\tM\t13389\t2018\nBenjamin\tM\t13381\t2018\nElijah\tM\t12886\t2018\nLucas\tM\t12585\t2018\nMason\tM\t12435\t2018\nLogan\tM\t12352\t2018\n"
    }
   ],
   "source": [
    "!tail $INPUT_FILE"
   ]
  },
  {
   "cell_type": "markdown",
   "metadata": {},
   "source": [
    "## 16. ファイルをN分割する\n",
    "\n",
    "自然数Nをコマンドライン引数などの手段で受け取り，入力のファイルを行単位でN分割せよ．同様の処理をsplitコマンドで実現せよ．"
   ]
  },
  {
   "cell_type": "code",
   "execution_count": 25,
   "metadata": {},
   "outputs": [],
   "source": [
    "def splitfile(n):\n",
    "    with open(INPUT_FILE) as f:\n",
    "        lines = f.readlines()\n",
    "        n_line = len(lines)\n",
    "        for i in range(n):\n",
    "            with open(\"16_{:02d}_{}\".format(i+1, INPUT_FILE), 'w') as w:\n",
    "                w.write(nulljoin(lines[n_line*i//n : n_line*(i+1)//n]))\n",
    "splitfile(5)"
   ]
  },
  {
   "cell_type": "code",
   "execution_count": 26,
   "metadata": {
    "tags": []
   },
   "outputs": [
    {
     "output_type": "stream",
     "name": "stdout",
     "text": "557,587d556\n< Joseph\tM\t3844\t1907\n< Frank\tM\t2943\t1907\n< Edward\tM\t2576\t1907\n< Henry\tM\t2203\t1907\n< Mary\tF\t18665\t1908\n< Helen\tF\t8439\t1908\n< Margaret\tF\t6976\t1908\n< Ruth\tF\t6180\t1908\n< Anna\tF\t5860\t1908\n< Dorothy\tF\t5703\t1908\n< Elizabeth\tF\t4904\t1908\n< Mildred\tF\t4624\t1908\n< Alice\tF\t4270\t1908\n< Marie\tF\t4076\t1908\n< John\tM\t9342\t1908\n< William\tM\t7528\t1908\n< James\tM\t7012\t1908\n< George\tM\t4584\t1908\n< Robert\tM\t4219\t1908\n< Joseph\tM\t4162\t1908\n< Charles\tM\t3929\t1908\n< Frank\tM\t3146\t1908\n< Edward\tM\t2707\t1908\n< Thomas\tM\t2301\t1908\n< Mary\tF\t19259\t1909\n< Helen\tF\t9250\t1909\n< Margaret\tF\t7359\t1909\n< Ruth\tF\t6509\t1909\n< Dorothy\tF\t6253\t1909\n< Anna\tF\t5804\t1909\n< Elizabeth\tF\t5176\t1909\n"
    }
   ],
   "source": [
    "# なんで合わないんだろ\n",
    "\n",
    "!split -n l/5 $INPUT_FILE 16_\n",
    "!diff 16_aa 16_01_$INPUT_FILE"
   ]
  },
  {
   "cell_type": "markdown",
   "metadata": {},
   "source": [
    "## 17. １列目の文字列の異なり\n",
    "\n",
    "1列目の文字列の種類（異なる文字列の集合）を求めよ．確認にはcut, sort, uniqコマンドを用いよ．"
   ]
  },
  {
   "cell_type": "code",
   "execution_count": 27,
   "metadata": {},
   "outputs": [
    {
     "output_type": "execute_result",
     "data": {
      "text/plain": "136"
     },
     "metadata": {},
     "execution_count": 27
    }
   ],
   "source": [
    "s = set()\n",
    "with open(INPUT_FILE) as f:\n",
    "    while line := f.readline():\n",
    "        s.add(line.split()[0])\n",
    "len(s)"
   ]
  },
  {
   "cell_type": "code",
   "execution_count": 28,
   "metadata": {
    "tags": []
   },
   "outputs": [
    {
     "output_type": "stream",
     "name": "stdout",
     "text": "136\n"
    }
   ],
   "source": [
    "!cut -f1 $INPUT_FILE | sort | uniq | wc -l"
   ]
  },
  {
   "cell_type": "markdown",
   "metadata": {},
   "source": [
    "## 18. 各行を3コラム目の数値の降順にソート\n",
    "\n",
    "各行を3コラム目の数値の逆順で整列せよ（注意: 各行の内容は変更せずに並び替えよ）．確認にはsortコマンドを用いよ（この問題はコマンドで実行した時の結果と合わなくてもよい）．"
   ]
  },
  {
   "cell_type": "code",
   "execution_count": 29,
   "metadata": {
    "tags": []
   },
   "outputs": [
    {
     "output_type": "stream",
     "name": "stdout",
     "text": "Linda\tF\t99689\t1947\nLinda\tF\t96211\t1948\nJames\tM\t94757\t1947\nMichael\tM\t92704\t1957\nRobert\tM\t91640\t1947\nLinda\tF\t91016\t1949\nMichael\tM\t90656\t1956\nMichael\tM\t90517\t1958\nJames\tM\t88584\t1948\nMichael\tM\t88528\t1954\nMichael\tM\t88327\t1955\nJohn\tM\t88319\t1947\nJames\tM\t87436\t1946\nJames\tM\t87261\t1951\nJames\tM\t87063\t1952\nMichael\tM\t86917\t1961\nJames\tM\t86857\t1949\nRobert\tM\t86604\t1952\nRobert\tM\t86351\t1951\nRobert\tM\t86298\t1954\n\n"
    }
   ],
   "source": [
    "with open(INPUT_FILE) as f:\n",
    "    lines = f.readlines()\n",
    "    sortlines = sorted(lines, key=lambda x: -int(x.split()[2]))\n",
    "print(nulljoin(sortlines[:20]))"
   ]
  },
  {
   "cell_type": "code",
   "execution_count": 30,
   "metadata": {
    "tags": []
   },
   "outputs": [
    {
     "output_type": "stream",
     "name": "stdout",
     "text": "Linda\tF\t99689\t1947\nLinda\tF\t96211\t1948\nJames\tM\t94757\t1947\nMichael\tM\t92704\t1957\nRobert\tM\t91640\t1947\nLinda\tF\t91016\t1949\nMichael\tM\t90656\t1956\nMichael\tM\t90517\t1958\nJames\tM\t88584\t1948\nMichael\tM\t88528\t1954\nMichael\tM\t88327\t1955\nJohn\tM\t88319\t1947\nJames\tM\t87436\t1946\nJames\tM\t87261\t1951\nJames\tM\t87063\t1952\nMichael\tM\t86917\t1961\nJames\tM\t86857\t1949\nRobert\tM\t86604\t1952\nRobert\tM\t86351\t1951\nRobert\tM\t86298\t1954\n"
    }
   ],
   "source": [
    "!sort -nr -k3 $INPUT_FILE | head -n20"
   ]
  },
  {
   "cell_type": "markdown",
   "metadata": {},
   "source": [
    "## 19. 各行の1コラム目の文字列の出現頻度を求め，出現頻度の高い順に並べる\n",
    "\n",
    "各行の1列目の文字列の出現頻度を求め，その高い順に並べて表示せよ．確認にはcut, uniq, sortコマンドを用いよ．"
   ]
  },
  {
   "cell_type": "code",
   "execution_count": 31,
   "metadata": {
    "tags": []
   },
   "outputs": [
    {
     "output_type": "stream",
     "name": "stdout",
     "text": "James\nWilliam\nJohn\nRobert\nMary\nCharles\nMichael\nElizabeth\nJoseph\nMargaret\nGeorge\nThomas\nDavid\nRichard\nHelen\nFrank\nChristopher\nAnna\nEdward\nRuth\nPatricia\nMatthew\nDorothy\nEmma\nBarbara\nDaniel\nJoshua\nSarah\nLinda\nJennifer\nEmily\nJessica\nJacob\nMildred\nBetty\nSusan\nHenry\nAshley\nNancy\nAndrew\nFlorence\nMarie\nDonald\nAmanda\nSamantha\nKaren\nLisa\nMelissa\nMadison\nOlivia\nStephanie\nAbigail\nEthel\nSandra\nMark\nFrances\nCarol\nAngela\nMichelle\nHeather\nEthan\nIsabella\nShirley\nKimberly\nAmy\nAva\nVirginia\nDeborah\nBrian\nJason\nNicole\nHannah\nSophia\nMinnie\nBertha\nDonna\nCynthia\nAlice\nDoris\nRonald\nBrittany\nNicholas\nMia\nNoah\nJoan\nDebra\nTyler\nIda\nClara\nJudith\nTaylor\nAlexis\nAlexander\nMason\nHarry\nSharon\nSteven\nTammy\nBrandon\nLiam\nAnthony\nAnnie\nGary\nJeffrey\nJayden\nCharlotte\nLillian\nKathleen\nJustin\nAustin\nChloe\nBenjamin\nEvelyn\nMegan\nAiden\nHarper\nElijah\nBessie\nLarry\nRebecca\nLauren\nAmelia\nLogan\nOliver\nWalter\nCarolyn\nPamela\nLori\nLaura\nTracy\nJulie\nScott\nKelly\nCrystal\nRachel\nLucas\n"
    }
   ],
   "source": [
    "from collections import defaultdict\n",
    "d = defaultdict(int)\n",
    "with open(INPUT_FILE) as f:\n",
    "    while line := f.readline():\n",
    "        d[line.split()[0]] += 1\n",
    "p = sorted(list(d.items()), key=lambda x:-x[1])\n",
    "for i in p: print(i[0])\n"
   ]
  },
  {
   "cell_type": "code",
   "execution_count": 32,
   "metadata": {
    "tags": []
   },
   "outputs": [
    {
     "output_type": "stream",
     "name": "stdout",
     "text": "James\nWilliam\nRobert\nJohn\nMary\nCharles\nMichael\nElizabeth\nJoseph\nMargaret\nThomas\nGeorge\nDavid\nRichard\nHelen\nFrank\nChristopher\nAnna\nEdward\nRuth\nPatricia\nMatthew\nDorothy\nEmma\nBarbara\nJoshua\nDaniel\nSarah\nLinda\nJennifer\nEmily\nJessica\nJacob\nSusan\nMildred\nBetty\nHenry\nAshley\nNancy\nAndrew\nMarie\nFlorence\nDonald\nAmanda\nSamantha\nOlivia\nMelissa\nMadison\nLisa\nKaren\nStephanie\nAbigail\nSandra\nMark\nEthel\nMichelle\nIsabella\nHeather\nFrances\nEthan\nCarol\nAngela\nShirley\nKimberly\nAva\nAmy\nVirginia\nSophia\nNicole\nJason\nHannah\nDeborah\nBrian\nMinnie\nDonna\nBertha\nCynthia\nRonald\nNoah\nNicholas\nMia\nDoris\nBrittany\nAlice\nTyler\nJoan\nDebra\nTaylor\nMason\nJudith\nIda\nClara\nAlexis\nAlexander\nTammy\nSteven\nSharon\nLiam\nHarry\nBrandon\nAnthony\nJeffrey\nJayden\nGary\nCharlotte\nAnnie\nLillian\nKathleen\nJustin\nChloe\nBenjamin\nAustin\nMegan\nHarper\nEvelyn\nElijah\nAiden\nRebecca\nOliver\nLogan\nLauren\nLarry\nBessie\nAmelia\nWalter\nTracy\nScott\nRachel\nPamela\nLucas\nLori\nLaura\nKelly\nJulie\nCrystal\nCarolyn\n"
    }
   ],
   "source": [
    "!cut -f1 $INPUT_FILE | sort | uniq -c | sort -nr -k1 | cut -c 9-"
   ]
  },
  {
   "cell_type": "markdown",
   "metadata": {},
   "source": [
    "# 第3章: 正規表現\n",
    "\n",
    "https://nlp100.github.io/ja/ch03.html\n",
    "\n",
    "Wikipediaの記事を以下のフォーマットで書き出したファイル jawiki-country.json.gz がある．\n",
    "\n",
    "- 1行に1記事の情報がJSON形式で格納される\n",
    "- 各行には記事名が”title”キーに，記事本文が”text”キーの辞書オブジェクトに格納され，そのオブジェクトがJSON形式で書き出される\n",
    "- ファイル全体はgzipで圧縮される\n",
    "\n",
    "以下の処理を行うプログラムを作成せよ．\n"
   ]
  },
  {
   "cell_type": "code",
   "execution_count": 33,
   "metadata": {
    "tags": []
   },
   "outputs": [
    {
     "output_type": "stream",
     "name": "stdout",
     "text": "File ‘jawiki-country.json.gz’ already there; not retrieving.\n\n"
    }
   ],
   "source": [
    "!wget -nc https://nlp100.github.io/data/jawiki-country.json.gz"
   ]
  },
  {
   "cell_type": "markdown",
   "metadata": {},
   "source": [
    "## 20. JSONデータの読み込み\n",
    "\n",
    "Wikipedia記事のJSONファイルを読み込み，「イギリス」に関する記事本文を表示せよ．問題21-29では，ここで抽出した記事本文に対して実行せよ．"
   ]
  },
  {
   "cell_type": "code",
   "execution_count": 34,
   "metadata": {
    "tags": []
   },
   "outputs": [],
   "source": [
    "import gzip, json\n",
    "JAWIKI = []\n",
    "with gzip.open(\"jawiki-country.json.gz\") as f:\n",
    "    JAWIKI = [json.loads(line) for line in f]\n",
    "UKtext = tuple(filter(lambda x: x['title'] == 'イギリス', JAWIKI))[0]['text']"
   ]
  },
  {
   "cell_type": "markdown",
   "metadata": {},
   "source": [
    "## 21. カテゴリ名を含む行を抽出\n",
    "\n",
    "記事中でカテゴリ名を宣言している行を抽出せよ．"
   ]
  },
  {
   "cell_type": "code",
   "execution_count": 35,
   "metadata": {},
   "outputs": [
    {
     "output_type": "execute_result",
     "data": {
      "text/plain": "['[[Category:イギリス|*]]',\n '[[Category:イギリス連邦加盟国]]',\n '[[Category:英連邦王国|*]]',\n '[[Category:G8加盟国]]',\n '[[Category:欧州連合加盟国|元]]',\n '[[Category:海洋国家]]',\n '[[Category:現存する君主国]]',\n '[[Category:島国]]',\n '[[Category:1801年に成立した国家・領域]]']"
     },
     "metadata": {},
     "execution_count": 35
    }
   ],
   "source": [
    "import re\n",
    "re.findall(r\"\\[\\[Category:.+\\]\\]\",UKtext)"
   ]
  },
  {
   "cell_type": "markdown",
   "metadata": {},
   "source": [
    "## 22. カテゴリ名を抽出\n",
    "\n",
    "記事中でカテゴリ名を（行単位ではなく名前で）抽出せよ．"
   ]
  },
  {
   "cell_type": "code",
   "execution_count": 36,
   "metadata": {},
   "outputs": [
    {
     "output_type": "execute_result",
     "data": {
      "text/plain": "['イギリス|*',\n 'イギリス連邦加盟国',\n '英連邦王国|*',\n 'G8加盟国',\n '欧州連合加盟国|元',\n '海洋国家',\n '現存する君主国',\n '島国',\n '1801年に成立した国家・領域']"
     },
     "metadata": {},
     "execution_count": 36
    }
   ],
   "source": [
    "re.findall(r\"\\[\\[Category:(.+)\\]\\]\",UKtext)"
   ]
  },
  {
   "cell_type": "markdown",
   "metadata": {},
   "source": [
    "## 23. セクション構造\n",
    "\n",
    "記事中に含まれるセクション名とそのレベル（例えば”== セクション名 ==”なら1）を表示せよ．"
   ]
  },
  {
   "cell_type": "code",
   "execution_count": 37,
   "metadata": {
    "tags": []
   },
   "outputs": [
    {
     "output_type": "stream",
     "name": "stdout",
     "text": "国名 , 1\n歴史 , 1\n地理 , 1\n主要都市 , 2\n気候 , 2\n政治 , 1\n元首 , 2\n法 , 2\n内政 , 2\n地方行政区分 , 2\n外交・軍事 , 2\n経済 , 1\n鉱業 , 2\n農業 , 2\n貿易 , 2\n不動産 , 2\nエネルギー政策 , 2\n通貨 , 2\n企業 , 2\n通信 , 3\n交通 , 1\n道路 , 2\n鉄道 , 2\n海運 , 2\n航空 , 2\n科学技術 , 1\n国民 , 1\n言語 , 2\n宗教 , 2\n婚姻 , 2\n移住 , 2\n教育 , 2\n医療 , 2\n文化 , 1\n食文化 , 2\n文学 , 2\n哲学 , 2\n音楽 , 2\nポピュラー音楽 , 3\n映画 , 2\nコメディ , 2\n国花 , 2\n世界遺産 , 2\n祝祭日 , 2\nスポーツ , 2\nサッカー , 3\nクリケット , 3\n競馬 , 3\nモータースポーツ , 3\n野球 , 3\nカーリング , 3\n自転車競技 , 3\n脚注 , 1\n関連項目 , 1\n外部リンク , 1\n"
    }
   ],
   "source": [
    "for tpl in re.findall(r\"={2,}(.+?)(={2,})\", UKtext):\n",
    "    print(tpl[0].strip(), \",\", len(tpl[1])-1)"
   ]
  },
  {
   "cell_type": "markdown",
   "metadata": {},
   "source": [
    "## 24. ファイル参照の抽出\n",
    "\n",
    "記事から参照されているメディアファイルをすべて抜き出せ．"
   ]
  },
  {
   "cell_type": "code",
   "execution_count": 38,
   "metadata": {},
   "outputs": [
    {
     "output_type": "execute_result",
     "data": {
      "text/plain": "['Royal Coat of Arms of the United Kingdom.svg',\n 'Descriptio Prime Tabulae Europae.jpg',\n \"Lenepveu, Jeanne d'Arc au siège d'Orléans.jpg\",\n 'London.bankofengland.arp.jpg',\n 'Battle of Waterloo 1815.PNG',\n 'Uk topo en.jpg',\n 'BenNevis2005.jpg',\n 'Population density UK 2011 census.png',\n '2019 Greenwich Peninsula & Canary Wharf.jpg',\n 'Birmingham Skyline from Edgbaston Cricket Ground crop.jpg',\n 'Leeds CBD at night.jpg',\n 'Glasgow and the Clyde from the air (geograph 4665720).jpg',\n 'Palace of Westminster, London - Feb 2007.jpg',\n 'Scotland Parliament Holyrood.jpg',\n 'Donald Trump and Theresa May (33998675310) (cropped).jpg',\n 'Soldiers Trooping the Colour, 16th June 2007.jpg',\n 'City of London skyline from London City Hall - Oct 2008.jpg',\n 'Oil platform in the North SeaPros.jpg',\n 'Eurostar at St Pancras Jan 2008.jpg',\n 'Heathrow Terminal 5C Iwelumo-1.jpg',\n 'Airbus A380-841 G-XLEB British Airways (10424102995).jpg',\n 'UKpop.svg',\n 'Anglospeak.svg',\n \"Royal Aberdeen Children's Hospital.jpg\",\n 'CHANDOS3.jpg',\n 'The Fabs.JPG',\n 'Wembley Stadium, illuminated.jpg']"
     },
     "metadata": {},
     "execution_count": 38
    }
   ],
   "source": [
    "re.findall(r\"ファイル:(.+?\\..+?)\\|\", UKtext)"
   ]
  },
  {
   "cell_type": "markdown",
   "metadata": {},
   "source": [
    "## 25. テンプレートの抽出\n",
    "\n",
    "記事中に含まれる「基礎情報」テンプレートのフィールド名と値を抽出し，辞書オブジェクトとして格納せよ．"
   ]
  },
  {
   "cell_type": "code",
   "execution_count": 39,
   "metadata": {
    "tags": []
   },
   "outputs": [
    {
     "output_type": "execute_result",
     "data": {
      "text/plain": "{'略名': 'イギリス',\n '日本語国名': 'グレートブリテン及び北アイルランド連合王国',\n '公式国名': '{{lang|en|United Kingdom of Great Britain and Northern Ireland}}<ref>英語以外での正式国名:<br />\\n*{{lang|gd|An Rìoghachd Aonaichte na Breatainn Mhòr agus Eirinn mu Thuath}}（[[スコットランド・ゲール語]]）\\n*{{lang|cy|Teyrnas Gyfunol Prydain Fawr a Gogledd Iwerddon}}（[[ウェールズ語]]）\\n*{{lang|ga|Ríocht Aontaithe na Breataine Móire agus Tuaisceart na hÉireann}}（[[アイルランド語]]）\\n*{{lang|kw|An Rywvaneth Unys a Vreten Veur hag Iwerdhon Glédh}}（[[コーンウォール語]]）\\n*{{lang|sco|Unitit Kinrick o Great Breetain an Northren Ireland}}（[[スコットランド語]]）\\n**{{lang|sco|Claught Kängrick o Docht Brätain an Norlin Airlann}}、{{lang|sco|Unitet Kängdom o Great Brittain an Norlin Airlann}}（アルスター・スコットランド語）</ref>',\n '国旗画像': 'Flag of the United Kingdom.svg',\n '国章画像': '[[ファイル:Royal Coat of Arms of the United Kingdom.svg|85px|イギリスの国章]]',\n '国章リンク': '（[[イギリスの国章|国章]]）',\n '標語': '{{lang|fr|[[Dieu et mon droit]]}}<br />（[[フランス語]]:[[Dieu et mon droit|神と我が権利]]）',\n '国歌': \"[[女王陛下万歳|{{lang|en|God Save the Queen}}]]{{en icon}}<br />''神よ女王を護り賜え''<br />{{center|[[ファイル:United States Navy Band - God Save the Queen.ogg]]}}\",\n '地図画像': 'Europe-UK.svg',\n '位置画像': 'United Kingdom (+overseas territories) in the World (+Antarctica claims).svg',\n '公用語': '[[英語]]',\n '首都': '[[ロンドン]]（事実上）',\n '最大都市': 'ロンドン',\n '元首等肩書': '[[イギリスの君主|女王]]',\n '元首等氏名': '[[エリザベス2世]]',\n '首相等肩書': '[[イギリスの首相|首相]]',\n '首相等氏名': '[[ボリス・ジョンソン]]',\n '他元首等肩書1': '[[貴族院 (イギリス)|貴族院議長]]',\n '他元首等氏名1': '[[:en:Norman Fowler, Baron Fowler|ノーマン・ファウラー]]',\n '他元首等肩書2': '[[庶民院 (イギリス)|庶民院議長]]',\n '他元首等氏名2': '{{仮リンク|リンゼイ・ホイル|en|Lindsay Hoyle}}',\n '他元首等肩書3': '[[連合王国最高裁判所|最高裁判所長官]]',\n '他元首等氏名3': '[[:en:Brenda Hale, Baroness Hale of Richmond|ブレンダ・ヘイル]]',\n '面積順位': '76',\n '面積大きさ': '1 E11',\n '面積値': '244,820',\n '水面積率': '1.3%',\n '人口統計年': '2018',\n '人口順位': '22',\n '人口大きさ': '1 E7',\n '人口値': '6643万5600<ref>{{Cite web|url=https://www.ons.gov.uk/peoplepopulationandcommunity/populationandmigration/populationestimates|title=Population estimates - Office for National Statistics|accessdate=2019-06-26|date=2019-06-26}}</ref>',\n '人口密度値': '271',\n 'GDP統計年元': '2012',\n 'GDP値元': '1兆5478億<ref name=\"imf-statistics-gdp\">[http://www.imf.org/external/pubs/ft/weo/2012/02/weodata/weorept.aspx?pr.x=70&pr.y=13&sy=2010&ey=2012&scsm=1&ssd=1&sort=country&ds=.&br=1&c=112&s=NGDP%2CNGDPD%2CPPPGDP%2CPPPPC&grp=0&a=IMF>Data and Statistics>World Economic Outlook Databases>By Countrise>United Kingdom]</ref>',\n 'GDP統計年MER': '2012',\n 'GDP順位MER': '6',\n 'GDP値MER': '2兆4337億<ref name=\"imf-statistics-gdp\" />',\n 'GDP統計年': '2012',\n 'GDP順位': '6',\n 'GDP値': '2兆3162億<ref name=\"imf-statistics-gdp\" />',\n 'GDP/人': '36,727<ref name=\"imf-statistics-gdp\" />',\n '建国形態': '建国',\n '確立形態1': '[[イングランド王国]]／[[スコットランド王国]]<br />（両国とも[[合同法 (1707年)|1707年合同法]]まで）',\n '確立年月日1': '927年／843年',\n '確立形態2': '[[グレートブリテン王国]]成立<br />（1707年合同法）',\n '確立年月日2': '1707年{{0}}5月{{0}}1日',\n '確立形態3': '[[グレートブリテン及びアイルランド連合王国]]成立<br />（[[合同法 (1800年)|1800年合同法]]）',\n '確立年月日3': '1801年{{0}}1月{{0}}1日',\n '確立形態4': \"現在の国号「'''グレートブリテン及び北アイルランド連合王国'''」に変更\",\n '確立年月日4': '1927年{{0}}4月12日',\n '通貨': '[[スターリング・ポンド|UKポンド]] (£)',\n '通貨コード': 'GBP',\n '時間帯': '±0',\n '夏時間': '+1',\n 'ISO 3166-1': 'GB / GBR',\n 'ccTLD': '[[.uk]] / [[.gb]]<ref>使用は.ukに比べ圧倒的少数。</ref>',\n '国際電話番号': '44',\n '注記': '<references/>'}"
     },
     "metadata": {},
     "execution_count": 39
    }
   ],
   "source": [
    "info = re.search(r\"^\\{\\{基礎情報.*?\\n\\|(.*?)\\n\\}\\}[^\\|]$\", UKtext, flags=re.DOTALL+re.MULTILINE).group(1)\n",
    "makeitem = lambda l : tuple(map(lambda c: c.strip(), l.split(\"=\", 1)))\n",
    "makedict = lambda tx : dict( makeitem(l) for l in tx.split(\"\\n|\") )\n",
    "makedict(info)"
   ]
  },
  {
   "cell_type": "markdown",
   "metadata": {},
   "source": [
    "## 26. 強調マークアップの除去\n",
    "\n",
    "25の処理時に，テンプレートの値からMediaWikiの強調マークアップ（弱い強調，強調，強い強調のすべて）を除去してテキストに変換せよ（参考: マークアップ早見表）．"
   ]
  },
  {
   "cell_type": "code",
   "execution_count": 40,
   "metadata": {},
   "outputs": [
    {
     "output_type": "execute_result",
     "data": {
      "text/plain": "{'略名': 'イギリス',\n '日本語国名': 'グレートブリテン及び北アイルランド連合王国',\n '公式国名': '{{lang|en|United Kingdom of Great Britain and Northern Ireland}}<ref>英語以外での正式国名:<br />\\n*{{lang|gd|An Rìoghachd Aonaichte na Breatainn Mhòr agus Eirinn mu Thuath}}（[[スコットランド・ゲール語]]）\\n*{{lang|cy|Teyrnas Gyfunol Prydain Fawr a Gogledd Iwerddon}}（[[ウェールズ語]]）\\n*{{lang|ga|Ríocht Aontaithe na Breataine Móire agus Tuaisceart na hÉireann}}（[[アイルランド語]]）\\n*{{lang|kw|An Rywvaneth Unys a Vreten Veur hag Iwerdhon Glédh}}（[[コーンウォール語]]）\\n*{{lang|sco|Unitit Kinrick o Great Breetain an Northren Ireland}}（[[スコットランド語]]）\\n**{{lang|sco|Claught Kängrick o Docht Brätain an Norlin Airlann}}、{{lang|sco|Unitet Kängdom o Great Brittain an Norlin Airlann}}（アルスター・スコットランド語）</ref>',\n '国旗画像': 'Flag of the United Kingdom.svg',\n '国章画像': '[[ファイル:Royal Coat of Arms of the United Kingdom.svg|85px|イギリスの国章]]',\n '国章リンク': '（[[イギリスの国章|国章]]）',\n '標語': '{{lang|fr|[[Dieu et mon droit]]}}<br />（[[フランス語]]:[[Dieu et mon droit|神と我が権利]]）',\n '国歌': '[[女王陛下万歳|{{lang|en|God Save the Queen}}]]{{en icon}}<br />神よ女王を護り賜え<br />{{center|[[ファイル:United States Navy Band - God Save the Queen.ogg]]}}',\n '地図画像': 'Europe-UK.svg',\n '位置画像': 'United Kingdom (+overseas territories) in the World (+Antarctica claims).svg',\n '公用語': '[[英語]]',\n '首都': '[[ロンドン]]（事実上）',\n '最大都市': 'ロンドン',\n '元首等肩書': '[[イギリスの君主|女王]]',\n '元首等氏名': '[[エリザベス2世]]',\n '首相等肩書': '[[イギリスの首相|首相]]',\n '首相等氏名': '[[ボリス・ジョンソン]]',\n '他元首等肩書1': '[[貴族院 (イギリス)|貴族院議長]]',\n '他元首等氏名1': '[[:en:Norman Fowler, Baron Fowler|ノーマン・ファウラー]]',\n '他元首等肩書2': '[[庶民院 (イギリス)|庶民院議長]]',\n '他元首等氏名2': '{{仮リンク|リンゼイ・ホイル|en|Lindsay Hoyle}}',\n '他元首等肩書3': '[[連合王国最高裁判所|最高裁判所長官]]',\n '他元首等氏名3': '[[:en:Brenda Hale, Baroness Hale of Richmond|ブレンダ・ヘイル]]',\n '面積順位': '76',\n '面積大きさ': '1 E11',\n '面積値': '244,820',\n '水面積率': '1.3%',\n '人口統計年': '2018',\n '人口順位': '22',\n '人口大きさ': '1 E7',\n '人口値': '6643万5600<ref>{{Cite web|url=https://www.ons.gov.uk/peoplepopulationandcommunity/populationandmigration/populationestimates|title=Population estimates - Office for National Statistics|accessdate=2019-06-26|date=2019-06-26}}</ref>',\n '人口密度値': '271',\n 'GDP統計年元': '2012',\n 'GDP値元': '1兆5478億<ref name=\"imf-statistics-gdp\">[http://www.imf.org/external/pubs/ft/weo/2012/02/weodata/weorept.aspx?pr.x=70&pr.y=13&sy=2010&ey=2012&scsm=1&ssd=1&sort=country&ds=.&br=1&c=112&s=NGDP%2CNGDPD%2CPPPGDP%2CPPPPC&grp=0&a=IMF>Data and Statistics>World Economic Outlook Databases>By Countrise>United Kingdom]</ref>',\n 'GDP統計年MER': '2012',\n 'GDP順位MER': '6',\n 'GDP値MER': '2兆4337億<ref name=\"imf-statistics-gdp\" />',\n 'GDP統計年': '2012',\n 'GDP順位': '6',\n 'GDP値': '2兆3162億<ref name=\"imf-statistics-gdp\" />',\n 'GDP/人': '36,727<ref name=\"imf-statistics-gdp\" />',\n '建国形態': '建国',\n '確立形態1': '[[イングランド王国]]／[[スコットランド王国]]<br />（両国とも[[合同法 (1707年)|1707年合同法]]まで）',\n '確立年月日1': '927年／843年',\n '確立形態2': '[[グレートブリテン王国]]成立<br />（1707年合同法）',\n '確立年月日2': '1707年{{0}}5月{{0}}1日',\n '確立形態3': '[[グレートブリテン及びアイルランド連合王国]]成立<br />（[[合同法 (1800年)|1800年合同法]]）',\n '確立年月日3': '1801年{{0}}1月{{0}}1日',\n '確立形態4': '現在の国号「グレートブリテン及び北アイルランド連合王国」に変更',\n '確立年月日4': '1927年{{0}}4月12日',\n '通貨': '[[スターリング・ポンド|UKポンド]] (£)',\n '通貨コード': 'GBP',\n '時間帯': '±0',\n '夏時間': '+1',\n 'ISO 3166-1': 'GB / GBR',\n 'ccTLD': '[[.uk]] / [[.gb]]<ref>使用は.ukに比べ圧倒的少数。</ref>',\n '国際電話番号': '44',\n '注記': '<references/>'}"
     },
     "metadata": {},
     "execution_count": 40
    }
   ],
   "source": [
    "remvbold = re.sub(r\"'+\", \"\", info)\n",
    "makedict(remvbold)"
   ]
  },
  {
   "cell_type": "markdown",
   "metadata": {},
   "source": [
    "## 27. 内部リンクの除去\n",
    "\n",
    "26の処理に加えて，テンプレートの値からMediaWikiの内部リンクマークアップを除去し，テキストに変換せよ（参考: マークアップ早見表）．"
   ]
  },
  {
   "cell_type": "code",
   "execution_count": 41,
   "metadata": {},
   "outputs": [
    {
     "output_type": "execute_result",
     "data": {
      "text/plain": "{'略名': 'イギリス',\n '日本語国名': 'グレートブリテン及び北アイルランド連合王国',\n '公式国名': '{{lang|en|United Kingdom of Great Britain and Northern Ireland}}<ref>英語以外での正式国名:<br />\\n*{{lang|gd|An Rìoghachd Aonaichte na Breatainn Mhòr agus Eirinn mu Thuath}}（スコットランド・ゲール語）\\n*{{lang|cy|Teyrnas Gyfunol Prydain Fawr a Gogledd Iwerddon}}（ウェールズ語）\\n*{{lang|ga|Ríocht Aontaithe na Breataine Móire agus Tuaisceart na hÉireann}}（アイルランド語）\\n*{{lang|kw|An Rywvaneth Unys a Vreten Veur hag Iwerdhon Glédh}}（コーンウォール語）\\n*{{lang|sco|Unitit Kinrick o Great Breetain an Northren Ireland}}（スコットランド語）\\n**{{lang|sco|Claught Kängrick o Docht Brätain an Norlin Airlann}}、{{lang|sco|Unitet Kängdom o Great Brittain an Norlin Airlann}}（アルスター・スコットランド語）</ref>',\n '国旗画像': 'Flag of the United Kingdom.svg',\n '国章画像': 'イギリスの国章',\n '国章リンク': '（国章）',\n '標語': '{{lang|fr|Dieu et mon droit}}<br />（フランス語:神と我が権利）',\n '国歌': '{{lang|en|God Save the Queen}}{{en icon}}<br />神よ女王を護り賜え<br />{{center|ファイル:United States Navy Band - God Save the Queen.ogg}}',\n '地図画像': 'Europe-UK.svg',\n '位置画像': 'United Kingdom (+overseas territories) in the World (+Antarctica claims).svg',\n '公用語': '英語',\n '首都': 'ロンドン（事実上）',\n '最大都市': 'ロンドン',\n '元首等肩書': '女王',\n '元首等氏名': 'エリザベス2世',\n '首相等肩書': '首相',\n '首相等氏名': 'ボリス・ジョンソン',\n '他元首等肩書1': '貴族院議長',\n '他元首等氏名1': 'ノーマン・ファウラー',\n '他元首等肩書2': '庶民院議長',\n '他元首等氏名2': '{{仮リンク|リンゼイ・ホイル|en|Lindsay Hoyle}}',\n '他元首等肩書3': '最高裁判所長官',\n '他元首等氏名3': 'ブレンダ・ヘイル',\n '面積順位': '76',\n '面積大きさ': '1 E11',\n '面積値': '244,820',\n '水面積率': '1.3%',\n '人口統計年': '2018',\n '人口順位': '22',\n '人口大きさ': '1 E7',\n '人口値': '6643万5600<ref>{{Cite web|url=https://www.ons.gov.uk/peoplepopulationandcommunity/populationandmigration/populationestimates|title=Population estimates - Office for National Statistics|accessdate=2019-06-26|date=2019-06-26}}</ref>',\n '人口密度値': '271',\n 'GDP統計年元': '2012',\n 'GDP値元': '1兆5478億<ref name=\"imf-statistics-gdp\">[http://www.imf.org/external/pubs/ft/weo/2012/02/weodata/weorept.aspx?pr.x=70&pr.y=13&sy=2010&ey=2012&scsm=1&ssd=1&sort=country&ds=.&br=1&c=112&s=NGDP%2CNGDPD%2CPPPGDP%2CPPPPC&grp=0&a=IMF>Data and Statistics>World Economic Outlook Databases>By Countrise>United Kingdom]</ref>',\n 'GDP統計年MER': '2012',\n 'GDP順位MER': '6',\n 'GDP値MER': '2兆4337億<ref name=\"imf-statistics-gdp\" />',\n 'GDP統計年': '2012',\n 'GDP順位': '6',\n 'GDP値': '2兆3162億<ref name=\"imf-statistics-gdp\" />',\n 'GDP/人': '36,727<ref name=\"imf-statistics-gdp\" />',\n '建国形態': '建国',\n '確立形態1': 'イングランド王国／スコットランド王国<br />（両国とも1707年合同法まで）',\n '確立年月日1': '927年／843年',\n '確立形態2': 'グレートブリテン王国成立<br />（1707年合同法）',\n '確立年月日2': '1707年{{0}}5月{{0}}1日',\n '確立形態3': 'グレートブリテン及びアイルランド連合王国成立<br />（1800年合同法）',\n '確立年月日3': '1801年{{0}}1月{{0}}1日',\n '確立形態4': '現在の国号「グレートブリテン及び北アイルランド連合王国」に変更',\n '確立年月日4': '1927年{{0}}4月12日',\n '通貨': 'UKポンド (£)',\n '通貨コード': 'GBP',\n '時間帯': '±0',\n '夏時間': '+1',\n 'ISO 3166-1': 'GB / GBR',\n 'ccTLD': '.uk / .gb<ref>使用は.ukに比べ圧倒的少数。</ref>',\n '国際電話番号': '44',\n '注記': '<references/>'}"
     },
     "metadata": {},
     "execution_count": 41
    }
   ],
   "source": [
    "remvlink = re.sub(r\"\\[\\[([^\\|\\{\\]]*?\\|)*(.+?)\\]\\]\", r\"\\2\", remvbold)\n",
    "makedict(remvlink)"
   ]
  },
  {
   "cell_type": "markdown",
   "metadata": {},
   "source": [
    "## 28. MediaWikiマークアップの除去\n",
    "\n",
    "27の処理に加えて，テンプレートの値からMediaWikiマークアップを可能な限り除去し，国の基本情報を整形せよ．"
   ]
  },
  {
   "cell_type": "code",
   "execution_count": 42,
   "metadata": {},
   "outputs": [
    {
     "output_type": "execute_result",
     "data": {
      "text/plain": "{'略名': 'イギリス',\n '日本語国名': 'グレートブリテン及び北アイルランド連合王国',\n '公式国名': 'United Kingdom of Great Britain and Northern Ireland\\n An Rìoghachd Aonaichte na Breatainn Mhòr agus Eirinn mu Thuath（スコットランド・ゲール語）\\n Teyrnas Gyfunol Prydain Fawr a Gogledd Iwerddon（ウェールズ語）\\n Ríocht Aontaithe na Breataine Móire agus Tuaisceart na hÉireann（アイルランド語）\\n An Rywvaneth Unys a Vreten Veur hag Iwerdhon Glédh（コーンウォール語）\\n Unitit Kinrick o Great Breetain an Northren Ireland（スコットランド語）\\n Claught Kängrick o Docht Brätain an Norlin Airlann、Unitet Kängdom o Great Brittain an Norlin Airlann（アルスター・スコットランド語）',\n '国旗画像': 'Flag of the United Kingdom.svg',\n '国章画像': 'イギリスの国章',\n '国章リンク': '（国章）',\n '標語': 'Dieu et mon droit （フランス語:神と我が権利）',\n '国歌': 'God Save the Queen 神よ女王を護り賜え',\n '地図画像': 'Europe-UK.svg',\n '位置画像': 'United Kingdom (+overseas territories) in the World (+Antarctica claims).svg',\n '公用語': '英語',\n '首都': 'ロンドン（事実上）',\n '最大都市': 'ロンドン',\n '元首等肩書': '女王',\n '元首等氏名': 'エリザベス2世',\n '首相等肩書': '首相',\n '首相等氏名': 'ボリス・ジョンソン',\n '他元首等肩書1': '貴族院議長',\n '他元首等氏名1': 'ノーマン・ファウラー',\n '他元首等肩書2': '庶民院議長',\n '他元首等氏名2': 'en|Lindsay Hoyle',\n '他元首等肩書3': '最高裁判所長官',\n '他元首等氏名3': 'ブレンダ・ヘイル',\n '面積順位': '76',\n '面積大きさ': '1 E11',\n '面積値': '244,820',\n '水面積率': '1.3%',\n '人口統計年': '2018',\n '人口順位': '22',\n '人口大きさ': '1 E7',\n '人口密度値': '271',\n 'GDP統計年元': '2012',\n 'GDP統計年MER': '2012',\n 'GDP順位MER': '6',\n 'GDP値MER': '2兆4337億',\n 'GDP統計年': '2012',\n 'GDP順位': '6',\n 'GDP値': '2兆3162億',\n 'GDP/人': '36,727',\n '建国形態': '建国',\n '確立形態1': 'イングランド王国／スコットランド王国 （両国とも1707年合同法まで）',\n '確立年月日1': '927年／843年',\n '確立形態2': 'グレートブリテン王国成立 （1707年合同法）',\n '確立年月日2': '1707年05月01日',\n '確立形態3': 'グレートブリテン及びアイルランド連合王国成立 （1800年合同法）',\n '確立年月日3': '1801年01月01日',\n '確立形態4': '現在の国号「グレートブリテン及び北アイルランド連合王国」に変更',\n '確立年月日4': '1927年04月12日',\n '通貨': 'UKポンド (£)',\n '通貨コード': 'GBP',\n '時間帯': '±0',\n '夏時間': '+1',\n 'ISO 3166-1': 'GB / GBR',\n '国際電話番号': '44',\n '注記': ''}"
     },
     "metadata": {},
     "execution_count": 42
    }
   ],
   "source": [
    "remvref = re.sub(r\"((.*?)<ref.*?</ref>(.*))|<ref.*/>|</ref>\", \"\", remvlink)\n",
    "remvforeign = re.sub(r\"{{.*?\\|.*?\\|(.*?)[}}|）]{2}\", r\"\\1\", remvref)\n",
    "remvblacket = re.sub(r\"{{(\\d)}}\", r\"\\1\", remvforeign)\n",
    "remvmultiblacket = re.sub(r\"{{.*?}}\", \"\", remvblacket)\n",
    "remvbr = re.sub(r\"<br />|\\*+\", \" \", remvmultiblacket)\n",
    "makedict(remvbr)\n"
   ]
  },
  {
   "cell_type": "markdown",
   "metadata": {},
   "source": [
    "## 29. 国旗画像のURLを取得する\n",
    "\n",
    "テンプレートの内容を利用し，国旗画像のURLを取得せよ．（ヒント: MediaWiki APIのimageinfoを呼び出して，ファイル参照をURLに変換すればよい）"
   ]
  },
  {
   "cell_type": "code",
   "execution_count": 43,
   "metadata": {
    "tags": []
   },
   "outputs": [
    {
     "output_type": "stream",
     "name": "stdout",
     "text": "https://upload.wikimedia.org/wikipedia/en/a/ae/Flag_of_the_United_Kingdom.svg\n"
    },
    {
     "output_type": "execute_result",
     "data": {
      "text/plain": "<IPython.core.display.SVG object>",
      "image/svg+xml": "<svg xmlns=\"http://www.w3.org/2000/svg\" viewBox=\"0 0 60 30\" width=\"1200\" height=\"600\">\n<clipPath id=\"s\">\n\t<path d=\"M0,0 v30 h60 v-30 z\"/>\n</clipPath>\n<clipPath id=\"t\">\n\t<path d=\"M30,15 h30 v15 z v15 h-30 z h-30 v-15 z v-15 h30 z\"/>\n</clipPath>\n<g clip-path=\"url(#s)\">\n\t<path d=\"M0,0 v30 h60 v-30 z\" fill=\"#012169\"/>\n\t<path d=\"M0,0 L60,30 M60,0 L0,30\" stroke=\"#fff\" stroke-width=\"6\"/>\n\t<path d=\"M0,0 L60,30 M60,0 L0,30\" clip-path=\"url(#t)\" stroke=\"#C8102E\" stroke-width=\"4\"/>\n\t<path d=\"M30,0 v30 M0,15 h60\" stroke=\"#fff\" stroke-width=\"10\"/>\n\t<path d=\"M30,0 v30 M0,15 h60\" stroke=\"#C8102E\" stroke-width=\"6\"/>\n</g>\n</svg>"
     },
     "metadata": {},
     "execution_count": 43
    }
   ],
   "source": [
    "from urllib.request import urlopen\n",
    "params = dict(\n",
    "    format=\"json\",\n",
    "    action=\"query\",\n",
    "    titles=\"File:\" + re.sub(\" \", \"%20\", makedict(info)[\"国旗画像\"]),\n",
    "    prop=\"imageinfo\",\n",
    "    iiprop=\"url\"\n",
    ")\n",
    "url = \"http://en.wikipedia.org/w/api.php?\" + \"&\".join(\"{}={}\".format(k,v) for k,v in params.items())\n",
    "req = urlopen(url)\n",
    "data = json.loads(req.read().decode('utf-8'))\n",
    "\n",
    "# BFS\n",
    "from collections import deque\n",
    "def findurl(data):\n",
    "    q = deque()\n",
    "    q.append(data)\n",
    "    while not len(q) == 0:\n",
    "        i = q.popleft()\n",
    "        if \"url\" in i.keys():\n",
    "            return i[\"url\"]\n",
    "        for ch in i.values():\n",
    "            if type(ch) == dict:\n",
    "                q.append(ch)\n",
    "            elif type(ch) == list:\n",
    "                for gdch in ch:\n",
    "                    if type(gdch) == dict:\n",
    "                        q.append(gdch)\n",
    "print(answer:=findurl(data))\n",
    "\n",
    "from IPython.display import SVG\n",
    "SVG(answer)\n",
    "\n"
   ]
  },
  {
   "cell_type": "markdown",
   "metadata": {},
   "source": [
    "# 第4章: 形態素解析\n",
    "\n",
    "夏目漱石の小説『吾輩は猫である』の文章（neko.txt）をMeCabを使って形態素解析し，その結果をneko.txt.mecabというファイルに保存せよ．このファイルを用いて，以下の問に対応するプログラムを実装せよ．\n",
    "\n",
    "なお，問題37, 38, 39はmatplotlibもしくはGnuplotを用いるとよい．"
   ]
  },
  {
   "cell_type": "code",
   "execution_count": 44,
   "metadata": {
    "tags": []
   },
   "outputs": [
    {
     "output_type": "stream",
     "name": "stdout",
     "text": "File ‘neko.txt’ already there; not retrieving.\n\n一\t名詞,数,*,*,*,*,一,イチ,イチ\n\t記号,一般,*,*,*,*,*\nEOS\n\t記号,一般,*,*,*,*,*\nEOS\n　\t記号,空白,*,*,*,*,　,　,　\n吾輩は猫である\t名詞,固有名詞,一般,*,*,*,吾輩は猫である,ワガハイハネコデアル,ワガハイワネコデアル\n。\t記号,句点,*,*,*,*,。,。,。\n\t記号,一般,*,*,*,*,*\nEOS\n"
    }
   ],
   "source": [
    "!wget -nc https://nlp100.github.io/data/neko.txt\n",
    "!mecab -d /usr/lib/x86_64-linux-gnu/mecab/dic/mecab-ipadic-neologd -o neko.txt.mecab neko.txt \n",
    "!head neko.txt.mecab"
   ]
  },
  {
   "cell_type": "markdown",
   "metadata": {
    "tags": []
   },
   "source": [
    "## 30. 形態素解析結果の読み込み\n",
    "\n",
    "形態素解析結果（neko.txt.mecab）を読み込むプログラムを実装せよ．ただし，各形態素は表層形（surface），基本形（base），品詞（pos），品詞細分類1（pos1）をキーとするマッピング型に格納し，1文を形態素（マッピング型）のリストとして表現せよ．第4章の残りの問題では，ここで作ったプログラムを活用せよ．"
   ]
  },
  {
   "cell_type": "code",
   "execution_count": 45,
   "metadata": {},
   "outputs": [],
   "source": [
    "neko = []\n",
    "with open(\"neko.txt.mecab\") as f:\n",
    "    sentence = []\n",
    "    while line := f.readline():\n",
    "        d = line.split(\"\\t\")\n",
    "        if len(d) < 2:\n",
    "            if \"EOS\" in line:\n",
    "                neko.append(sentence)\n",
    "                sentence = []\n",
    "            continue\n",
    "        d1 = d[1].split(\",\")\n",
    "        sentence.append(dict(\n",
    "            surface=d[0], base=d1[6], pos=d1[0], pos1=d1[1]\n",
    "        ))"
   ]
  },
  {
   "cell_type": "code",
   "execution_count": 46,
   "metadata": {},
   "outputs": [
    {
     "output_type": "execute_result",
     "data": {
      "text/plain": "[[{'surface': '\\u3000', 'base': '\\u3000', 'pos': '記号', 'pos1': '空白'},\n  {'surface': '吾輩は猫である', 'base': '吾輩は猫である', 'pos': '名詞', 'pos1': '固有名詞'},\n  {'surface': '。', 'base': '。', 'pos': '記号', 'pos1': '句点'},\n  {'surface': '', 'base': '*\\n', 'pos': '記号', 'pos1': '一般'}],\n [{'surface': '名前', 'base': '名前', 'pos': '名詞', 'pos1': '一般'},\n  {'surface': 'は', 'base': 'は', 'pos': '助詞', 'pos1': '係助詞'},\n  {'surface': 'まだ', 'base': 'まだ', 'pos': '副詞', 'pos1': '助詞類接続'},\n  {'surface': '無い', 'base': '無い', 'pos': '形容詞', 'pos1': '自立'},\n  {'surface': '。', 'base': '。', 'pos': '記号', 'pos1': '句点'},\n  {'surface': '', 'base': '*\\n', 'pos': '記号', 'pos1': '一般'}],\n [{'surface': '', 'base': '*\\n', 'pos': '記号', 'pos1': '一般'}],\n [{'surface': '\\u3000', 'base': '\\u3000', 'pos': '記号', 'pos1': '空白'},\n  {'surface': 'どこ', 'base': 'どこ', 'pos': '名詞', 'pos1': '代名詞'},\n  {'surface': 'で', 'base': 'で', 'pos': '助詞', 'pos1': '格助詞'},\n  {'surface': '生れ', 'base': '生れる', 'pos': '動詞', 'pos1': '自立'},\n  {'surface': 'た', 'base': 'た', 'pos': '助動詞', 'pos1': '*'},\n  {'surface': 'かとん', 'base': '火遁', 'pos': '名詞', 'pos1': '一般'},\n  {'surface': 'と', 'base': 'と', 'pos': '助詞', 'pos1': '格助詞'},\n  {'surface': '見当', 'base': '見当', 'pos': '名詞', 'pos1': 'サ変接続'},\n  {'surface': 'が', 'base': 'が', 'pos': '助詞', 'pos1': '格助詞'},\n  {'surface': 'つか', 'base': 'つく', 'pos': '動詞', 'pos1': '自立'},\n  {'surface': 'ぬ', 'base': 'ぬ', 'pos': '助動詞', 'pos1': '*'},\n  {'surface': '。', 'base': '。', 'pos': '記号', 'pos1': '句点'},\n  {'surface': '', 'base': '*\\n', 'pos': '記号', 'pos1': '一般'}]]"
     },
     "metadata": {},
     "execution_count": 46
    }
   ],
   "source": [
    "neko[2:6]"
   ]
  },
  {
   "cell_type": "markdown",
   "metadata": {},
   "source": [
    "## 31. 動詞\n",
    "\n",
    "動詞の表層形をすべて抽出せよ．\n",
    "\n",
    "## 32. 動詞の原形\n",
    "\n",
    "動詞の原型をすべて抽出せよ．"
   ]
  },
  {
   "cell_type": "code",
   "execution_count": 47,
   "metadata": {
    "tags": []
   },
   "outputs": [
    {
     "output_type": "stream",
     "name": "stdout",
     "text": "生れ 生れる\nつか つく\n泣い 泣く\nし する\nいる いる\n始め 始める\n見 見る\n聞く 聞く\n捕え 捕える\n煮 煮る\n"
    }
   ],
   "source": [
    "surfaces = []\n",
    "bases = []\n",
    "\n",
    "for sen in neko: \n",
    "    for word in sen:\n",
    "        if word[\"pos\"] == \"動詞\":\n",
    "            surfaces.append(word[\"surface\"])\n",
    "            bases.append(word[\"base\"])\n",
    "\n",
    "for i in range(10):\n",
    "    print(surfaces[i], bases[i])"
   ]
  },
  {
   "cell_type": "markdown",
   "metadata": {},
   "source": [
    "## 33. 「AのB」\n",
    "\n",
    "2つの名詞が「の」で連結されている名詞句を抽出せよ．"
   ]
  },
  {
   "cell_type": "code",
   "execution_count": 48,
   "metadata": {},
   "outputs": [
    {
     "output_type": "execute_result",
     "data": {
      "text/plain": "['彼の掌', '掌の上', '書生の顔', 'はずの顔', '顔の真中', '穴の中', '書生の掌', '掌の裏', '何の事', '肝心の母親']"
     },
     "metadata": {},
     "execution_count": 48
    }
   ],
   "source": [
    "connected = []\n",
    "for sen in neko: \n",
    "    for i, word in enumerate(sen):\n",
    "        if word[\"pos\"] == \"名詞\" and i < len(sen)-2 and \\\n",
    "                sen[i+1][\"surface\"] == \"の\" and \\\n",
    "                sen[i+1][\"pos\"] == \"助詞\" and \\\n",
    "                sen[i+2][\"pos\"] == \"名詞\":\n",
    "            connected.append(sen[i][\"surface\"] + sen[i+1][\"surface\"] + sen[i+2][\"surface\"])\n",
    "connected[:10]  "
   ]
  },
  {
   "cell_type": "markdown",
   "metadata": {},
   "source": [
    "## 34. 名詞の連接\n",
    "\n",
    "名詞の連接（連続して出現する名詞）を最長一致で抽出せよ．"
   ]
  },
  {
   "cell_type": "code",
   "execution_count": 49,
   "metadata": {
    "tags": []
   },
   "outputs": [
    {
     "output_type": "stream",
     "name": "stdout",
     "text": "['した所', '人間中', '一番獰悪', '時妙', '一毛', 'その後猫', '一度', '邸内', '書生以外', '四五遍']\n"
    }
   ],
   "source": [
    "connect = []\n",
    "for sen in neko: \n",
    "    for i, word in enumerate(sen):\n",
    "        if word[\"pos\"] == \"名詞\" and (j := i) < len(sen)-1:\n",
    "            while j < len(sen) and sen[j][\"pos\"] == \"名詞\":\n",
    "                j += 1\n",
    "            if j-i > 1:\n",
    "                connect.append(\"\".join(list(map(lambda x: x[\"surface\"], sen[i:j]))))\n",
    "print(connect[:10])"
   ]
  },
  {
   "cell_type": "markdown",
   "metadata": {},
   "source": [
    "## 35. 単語の出現頻度\n",
    "\n",
    "文章中に出現する単語とその出現頻度を求め，出現頻度の高い順に並べよ．\n",
    "\n",
    "## 36. 頻度上位10語\n",
    "\n",
    "出現頻度が高い10語とその出現頻度をグラフ（例えば棒グラフなど）で表示せよ．\n"
   ]
  },
  {
   "cell_type": "code",
   "execution_count": 50,
   "metadata": {
    "tags": []
   },
   "outputs": [
    {
     "output_type": "stream",
     "name": "stdout",
     "text": "[('の', 9100), ('て', 6677), ('は', 6384), ('に', 6146), ('を', 6068), ('だ', 5830), ('と', 5474), ('が', 5258), ('た', 4194), ('する', 3543)]\n"
    },
    {
     "output_type": "execute_result",
     "data": {
      "text/plain": "<BarContainer object of 10 artists>"
     },
     "metadata": {},
     "execution_count": 50
    },
    {
     "output_type": "display_data",
     "data": {
      "text/plain": "<Figure size 432x288 with 1 Axes>",
      "image/svg+xml": "<?xml version=\"1.0\" encoding=\"utf-8\" standalone=\"no\"?>\n<!DOCTYPE svg PUBLIC \"-//W3C//DTD SVG 1.1//EN\"\n  \"http://www.w3.org/Graphics/SVG/1.1/DTD/svg11.dtd\">\n<!-- Created with matplotlib (https://matplotlib.org/) -->\n<svg height=\"248.230625pt\" version=\"1.1\" viewBox=\"0 0 381.39375 248.230625\" width=\"381.39375pt\" xmlns=\"http://www.w3.org/2000/svg\" xmlns:xlink=\"http://www.w3.org/1999/xlink\">\n <metadata>\n  <rdf:RDF xmlns:cc=\"http://creativecommons.org/ns#\" xmlns:dc=\"http://purl.org/dc/elements/1.1/\" xmlns:rdf=\"http://www.w3.org/1999/02/22-rdf-syntax-ns#\">\n   <cc:Work>\n    <dc:type rdf:resource=\"http://purl.org/dc/dcmitype/StillImage\"/>\n    <dc:date>2020-07-19T20:45:57.839741</dc:date>\n    <dc:format>image/svg+xml</dc:format>\n    <dc:creator>\n     <cc:Agent>\n      <dc:title>Matplotlib v3.3.0, https://matplotlib.org/</dc:title>\n     </cc:Agent>\n    </dc:creator>\n   </cc:Work>\n  </rdf:RDF>\n </metadata>\n <defs>\n  <style type=\"text/css\">*{stroke-linecap:butt;stroke-linejoin:round;}</style>\n </defs>\n <g id=\"figure_1\">\n  <g id=\"patch_1\">\n   <path d=\"M 0 248.230625 \nL 381.39375 248.230625 \nL 381.39375 0 \nL 0 0 \nz\n\" style=\"fill:none;\"/>\n  </g>\n  <g id=\"axes_1\">\n   <g id=\"patch_2\">\n    <path d=\"M 39.39375 224.64 \nL 374.19375 224.64 \nL 374.19375 7.2 \nL 39.39375 7.2 \nz\n\" style=\"fill:#ffffff;\"/>\n   </g>\n   <g id=\"patch_3\">\n    <path clip-path=\"url(#pf38d0561ec)\" d=\"M 54.611932 224.64 \nL 79.457943 224.64 \nL 79.457943 17.554286 \nL 54.611932 17.554286 \nz\n\" style=\"fill:#1f77b4;\"/>\n   </g>\n   <g id=\"patch_4\">\n    <path clip-path=\"url(#pf38d0561ec)\" d=\"M 85.669446 224.64 \nL 110.515457 224.64 \nL 110.515457 72.693702 \nL 85.669446 72.693702 \nz\n\" style=\"fill:#1f77b4;\"/>\n   </g>\n   <g id=\"patch_5\">\n    <path clip-path=\"url(#pf38d0561ec)\" d=\"M 116.72696 224.64 \nL 141.572971 224.64 \nL 141.572971 79.361407 \nL 116.72696 79.361407 \nz\n\" style=\"fill:#1f77b4;\"/>\n   </g>\n   <g id=\"patch_6\">\n    <path clip-path=\"url(#pf38d0561ec)\" d=\"M 147.784474 224.64 \nL 172.630485 224.64 \nL 172.630485 84.777495 \nL 147.784474 84.777495 \nz\n\" style=\"fill:#1f77b4;\"/>\n   </g>\n   <g id=\"patch_7\">\n    <path clip-path=\"url(#pf38d0561ec)\" d=\"M 178.841987 224.64 \nL 203.687999 224.64 \nL 203.687999 86.552515 \nL 178.841987 86.552515 \nz\n\" style=\"fill:#1f77b4;\"/>\n   </g>\n   <g id=\"patch_8\">\n    <path clip-path=\"url(#pf38d0561ec)\" d=\"M 209.899501 224.64 \nL 234.745513 224.64 \nL 234.745513 91.968603 \nL 209.899501 91.968603 \nz\n\" style=\"fill:#1f77b4;\"/>\n   </g>\n   <g id=\"patch_9\">\n    <path clip-path=\"url(#pf38d0561ec)\" d=\"M 240.957015 224.64 \nL 265.803026 224.64 \nL 265.803026 100.069978 \nL 240.957015 100.069978 \nz\n\" style=\"fill:#1f77b4;\"/>\n   </g>\n   <g id=\"patch_10\">\n    <path clip-path=\"url(#pf38d0561ec)\" d=\"M 272.014529 224.64 \nL 296.86054 224.64 \nL 296.86054 104.985419 \nL 272.014529 104.985419 \nz\n\" style=\"fill:#1f77b4;\"/>\n   </g>\n   <g id=\"patch_11\">\n    <path clip-path=\"url(#pf38d0561ec)\" d=\"M 303.072043 224.64 \nL 327.918054 224.64 \nL 327.918054 129.198518 \nL 303.072043 129.198518 \nz\n\" style=\"fill:#1f77b4;\"/>\n   </g>\n   <g id=\"patch_12\">\n    <path clip-path=\"url(#pf38d0561ec)\" d=\"M 334.129557 224.64 \nL 358.975568 224.64 \nL 358.975568 144.013111 \nL 334.129557 144.013111 \nz\n\" style=\"fill:#1f77b4;\"/>\n   </g>\n   <g id=\"matplotlib.axis_1\">\n    <g id=\"xtick_1\">\n     <g id=\"line2d_1\">\n      <defs>\n       <path d=\"M 0 0 \nL 0 3.5 \n\" id=\"ma28dc8e295\" style=\"stroke:#000000;stroke-width:0.8;\"/>\n      </defs>\n      <g>\n       <use style=\"stroke:#000000;stroke-width:0.8;\" x=\"67.034937\" xlink:href=\"#ma28dc8e295\" y=\"224.64\"/>\n      </g>\n     </g>\n     <g id=\"text_1\">\n      <!-- の -->\n      <g transform=\"translate(62.034937 239.130625)scale(0.1 -0.1)\">\n       <defs>\n        <path d=\"M 48.734375 7.328125 \nQ 82.421875 11.96875 82.421875 37.890625 \nQ 82.421875 53.953125 68.953125 61.328125 \nQ 63.140625 64.3125 55.421875 64.984375 \nQ 53.03125 39.453125 44.53125 21.875 \nQ 36.28125 4.78125 26.90625 4.78125 \nQ 21.625 4.78125 16.9375 10.40625 \nQ 9.515625 19.4375 9.515625 31.296875 \nQ 9.515625 47.265625 21.828125 59.28125 \nQ 34.125 71.296875 53.609375 71.296875 \nQ 67.28125 71.296875 77 64.40625 \nQ 90.828125 54.78125 90.828125 37.890625 \nQ 90.828125 6.84375 53.609375 0.09375 \nz\nM 47.703125 64.796875 \nQ 37.15625 63.1875 29.546875 56.890625 \nQ 17.140625 46.578125 17.140625 31.109375 \nQ 17.140625 21.34375 22.40625 15.28125 \nQ 24.703125 12.703125 26.859375 12.703125 \nQ 31.59375 12.703125 37.75 25.390625 \nQ 45.453125 41.21875 47.703125 64.796875 \nz\n\" id=\"IPAexGothic-12398\"/>\n       </defs>\n       <use xlink:href=\"#IPAexGothic-12398\"/>\n      </g>\n     </g>\n    </g>\n    <g id=\"xtick_2\">\n     <g id=\"line2d_2\">\n      <g>\n       <use style=\"stroke:#000000;stroke-width:0.8;\" x=\"98.092451\" xlink:href=\"#ma28dc8e295\" y=\"224.64\"/>\n      </g>\n     </g>\n     <g id=\"text_2\">\n      <!-- て -->\n      <g transform=\"translate(93.092451 239.130625)scale(0.1 -0.1)\">\n       <defs>\n        <path d=\"M 9.078125 63.03125 \nQ 46.53125 68.171875 85.40625 71.1875 \nL 86.078125 64.015625 \nQ 68.5625 62.984375 58.59375 55.8125 \nQ 43.703125 44.96875 43.703125 29.890625 \nQ 43.703125 18.265625 51.421875 12.796875 \nQ 59.03125 7.5625 76.078125 6.5 \nL 76.65625 -1.8125 \nQ 35.59375 0 35.59375 28.90625 \nQ 35.59375 48.828125 57.671875 62.5 \nQ 32.28125 59.125 10.6875 55.515625 \nz\n\" id=\"IPAexGothic-12390\"/>\n       </defs>\n       <use xlink:href=\"#IPAexGothic-12390\"/>\n      </g>\n     </g>\n    </g>\n    <g id=\"xtick_3\">\n     <g id=\"line2d_3\">\n      <g>\n       <use style=\"stroke:#000000;stroke-width:0.8;\" x=\"129.149965\" xlink:href=\"#ma28dc8e295\" y=\"224.64\"/>\n      </g>\n     </g>\n     <g id=\"text_3\">\n      <!-- は -->\n      <g transform=\"translate(124.149965 239.130625)scale(0.1 -0.1)\">\n       <defs>\n        <path d=\"M 63.53125 76.171875 \nL 70.90625 76.171875 \nL 71.1875 58.890625 \nQ 78.171875 59.625 87.203125 61.578125 \nL 87.796875 54.203125 \nQ 82.125 53.03125 71.296875 51.90625 \nL 71.828125 22.515625 \nQ 79.6875 20.0625 92.71875 11.8125 \nL 88.375 4.890625 \nQ 79.15625 12.0625 72.015625 15.28125 \nQ 72.015625 6.890625 68.5 3.515625 \nQ 64.5 -0.203125 56.78125 -0.203125 \nQ 46.734375 -0.203125 41.703125 3.609375 \nQ 37.3125 6.9375 37.3125 12.984375 \nQ 37.3125 19.140625 43.3125 23.1875 \nQ 47.65625 26.078125 55.21875 26.078125 \nQ 58.734375 26.078125 64.59375 24.90625 \nL 64.015625 51.375 \nQ 57.765625 51.078125 52.484375 51.078125 \nQ 45.703125 51.078125 38.8125 51.5625 \nL 38.53125 58.796875 \nQ 46.140625 58.0625 54 58.0625 \nQ 58.40625 58.0625 63.921875 58.40625 \nz\nM 64.703125 18.015625 \nQ 58.640625 19.671875 54.890625 19.671875 \nQ 44.390625 19.671875 44.390625 13.28125 \nQ 44.390625 6.59375 56.78125 6.59375 \nQ 60.75 6.59375 62.84375 8.890625 \nQ 64.703125 10.9375 64.703125 14.40625 \nQ 64.703125 17 64.703125 18.015625 \nz\nM 15.625 -0.78125 \nQ 12.40625 16.75 12.40625 30.171875 \nQ 12.40625 49.265625 19.484375 76.3125 \nL 27 74.421875 \nQ 19.828125 47.5625 19.828125 29.6875 \nQ 19.828125 24.515625 20.40625 17.28125 \nQ 24.859375 26.65625 27.390625 31.203125 \nL 32.421875 28.21875 \nQ 23.1875 11.1875 23.1875 2.203125 \nQ 23.1875 1.125 23.296875 0 \nz\n\" id=\"IPAexGothic-12399\"/>\n       </defs>\n       <use xlink:href=\"#IPAexGothic-12399\"/>\n      </g>\n     </g>\n    </g>\n    <g id=\"xtick_4\">\n     <g id=\"line2d_4\">\n      <g>\n       <use style=\"stroke:#000000;stroke-width:0.8;\" x=\"160.207479\" xlink:href=\"#ma28dc8e295\" y=\"224.64\"/>\n      </g>\n     </g>\n     <g id=\"text_4\">\n      <!-- に -->\n      <g transform=\"translate(155.207479 239.130625)scale(0.1 -0.1)\">\n       <defs>\n        <path d=\"M 17 -0.59375 \nQ 14.40625 15.671875 14.40625 32.515625 \nQ 14.40625 50.34375 20.796875 74.90625 \nL 28.328125 73.1875 \nQ 21.734375 48.640625 21.734375 31.296875 \nQ 21.734375 22.515625 22.21875 17.921875 \nQ 22.40625 18.453125 28.328125 31.5 \nL 33.203125 28.078125 \nQ 28.125 16.890625 26.421875 11.921875 \nQ 24.703125 7.078125 24.703125 4.203125 \nQ 24.703125 1.21875 24.8125 0.09375 \nz\nM 44.28125 63.09375 \nQ 62.015625 65.828125 83.015625 65.1875 \nL 83.40625 57.515625 \nQ 61.859375 58.25 44.828125 55.421875 \nz\nM 88.28125 4 \nQ 78.8125 2.6875 68.3125 2.6875 \nQ 54.109375 2.6875 47.609375 6.78125 \nQ 43.5 9.28125 41.796875 13.140625 \nQ 40.1875 16.796875 40.1875 22.609375 \nQ 40.1875 24.421875 40.28125 25.875 \nL 47.703125 26.3125 \nQ 47.65625 25.203125 47.5625 23.875 \nQ 47.515625 23.140625 47.515625 22.90625 \nQ 47.515625 18.75 48.734375 16.453125 \nQ 49.65625 14.75 51.703125 13.28125 \nQ 55.765625 10.59375 66.796875 10.59375 \nQ 76.421875 10.59375 87.3125 11.921875 \nz\n\" id=\"IPAexGothic-12395\"/>\n       </defs>\n       <use xlink:href=\"#IPAexGothic-12395\"/>\n      </g>\n     </g>\n    </g>\n    <g id=\"xtick_5\">\n     <g id=\"line2d_5\">\n      <g>\n       <use style=\"stroke:#000000;stroke-width:0.8;\" x=\"191.264993\" xlink:href=\"#ma28dc8e295\" y=\"224.64\"/>\n      </g>\n     </g>\n     <g id=\"text_5\">\n      <!-- を -->\n      <g transform=\"translate(186.264993 239.130625)scale(0.1 -0.1)\">\n       <defs>\n        <path d=\"M 17.09375 66.609375 \nQ 24.125 65.96875 36.859375 65.96875 \nQ 40.328125 73.96875 42.1875 80.671875 \nL 49.609375 78.5625 \nQ 46.828125 70.90625 44.671875 66.5 \nQ 54.9375 66.9375 67.09375 69.671875 \nL 68.0625 62.796875 \nQ 56.296875 60.453125 41.5 59.671875 \nQ 37.359375 51.3125 32.171875 43.703125 \nQ 39.546875 50 46.296875 50 \nQ 56.84375 50 60.296875 37.15625 \nQ 71.1875 41.890625 83.40625 46.09375 \nL 87.109375 39.5 \nQ 72.515625 35.203125 61.578125 30.5625 \nQ 62.203125 26.21875 62.40625 16.0625 \nL 54.890625 15.484375 \nQ 54.890625 22.75 54.59375 27.390625 \nQ 37.3125 18.65625 37.3125 11.1875 \nQ 37.3125 6.6875 43.015625 5.125 \nQ 47.90625 3.765625 59.46875 3.765625 \nQ 68.65625 3.765625 80.90625 5.375 \nL 81.5 -2 \nQ 69.28125 -3.328125 57.078125 -3.328125 \nQ 41.5 -3.328125 35.0625 0.640625 \nQ 29.890625 3.8125 29.890625 9.859375 \nQ 29.890625 17.09375 36.625 23.390625 \nQ 42.328125 28.765625 53.5625 34.078125 \nQ 51.03125 43.703125 44.96875 43.703125 \nQ 34.96875 43.703125 18.890625 22.171875 \nL 13.09375 26.46875 \nQ 25.390625 42.4375 33.796875 59.375 \nQ 23.78125 59.375 17 59.765625 \nz\n\" id=\"IPAexGothic-12434\"/>\n       </defs>\n       <use xlink:href=\"#IPAexGothic-12434\"/>\n      </g>\n     </g>\n    </g>\n    <g id=\"xtick_6\">\n     <g id=\"line2d_6\">\n      <g>\n       <use style=\"stroke:#000000;stroke-width:0.8;\" x=\"222.322507\" xlink:href=\"#ma28dc8e295\" y=\"224.64\"/>\n      </g>\n     </g>\n     <g id=\"text_6\">\n      <!-- だ -->\n      <g transform=\"translate(217.322507 239.130625)scale(0.1 -0.1)\">\n       <defs>\n        <path d=\"M 10.6875 61.921875 \nQ 17.78125 61.28125 24.3125 61.28125 \nQ 28.125 61.28125 32.90625 61.625 \nQ 35.40625 71.296875 37.015625 79.390625 \nL 44.921875 77.984375 \nQ 43.84375 73.4375 40.921875 62.203125 \nQ 50.140625 63.28125 57.125 64.984375 \nL 57.625 57.625 \nQ 48.578125 55.953125 39.015625 55.171875 \nQ 28.46875 19.734375 18.015625 -1.21875 \nL 10.203125 2.203125 \nQ 21.96875 22.953125 31.109375 54.6875 \nQ 25.640625 54.390625 19.625 54.390625 \nQ 17.328125 54.390625 10.890625 54.59375 \nz\nM 89.890625 0.6875 \nQ 78.953125 -0.6875 71.828125 -0.6875 \nQ 56.546875 -0.6875 50.09375 4.734375 \nQ 44.78125 9.28125 43.21875 18.609375 \nL 50.203125 21.1875 \nQ 50.734375 16.21875 52.296875 13.578125 \nQ 53.515625 11.578125 55.90625 10.015625 \nQ 60.40625 7.03125 71.1875 7.03125 \nQ 78.265625 7.03125 89.5 8.5 \nz\nM 49.125 44.1875 \nQ 65.875 48.640625 84.515625 47.515625 \nL 84.078125 40.09375 \nL 83.6875 40.09375 \nQ 66.609375 41.109375 49.90625 37.3125 \nz\nM 87.015625 64.109375 \nQ 81.34375 72.5625 75.203125 77.6875 \nL 79.890625 81.296875 \nQ 85.890625 76.46875 92 68.40625 \nz\nM 77.6875 56.78125 \nQ 73.1875 64.453125 66.21875 70.703125 \nL 71.09375 74.515625 \nQ 76.90625 69.671875 82.90625 61.078125 \nz\n\" id=\"IPAexGothic-12384\"/>\n       </defs>\n       <use xlink:href=\"#IPAexGothic-12384\"/>\n      </g>\n     </g>\n    </g>\n    <g id=\"xtick_7\">\n     <g id=\"line2d_7\">\n      <g>\n       <use style=\"stroke:#000000;stroke-width:0.8;\" x=\"253.380021\" xlink:href=\"#ma28dc8e295\" y=\"224.64\"/>\n      </g>\n     </g>\n     <g id=\"text_7\">\n      <!-- と -->\n      <g transform=\"translate(248.380021 239.130625)scale(0.1 -0.1)\">\n       <defs>\n        <path d=\"M 81.59375 0.875 \nQ 65.625 -1.125 53.90625 -1.125 \nQ 38.71875 -1.125 30.328125 1.765625 \nQ 18.5 5.8125 18.5 16.21875 \nQ 18.5 24.75 24.90625 31.390625 \nQ 30.328125 37.015625 41.5 42.578125 \nQ 34.859375 58.34375 30.8125 76.21875 \nL 38.921875 77.78125 \nQ 42.28125 60.6875 48.09375 46.09375 \nQ 66.40625 53.859375 74.3125 56.5 \nL 77.78125 49.21875 \nQ 49.703125 40.234375 37.640625 32.46875 \nQ 26.421875 25.203125 26.421875 17.390625 \nQ 26.421875 6.296875 51.90625 6.296875 \nQ 64.453125 6.296875 80.21875 8.796875 \nz\n\" id=\"IPAexGothic-12392\"/>\n       </defs>\n       <use xlink:href=\"#IPAexGothic-12392\"/>\n      </g>\n     </g>\n    </g>\n    <g id=\"xtick_8\">\n     <g id=\"line2d_8\">\n      <g>\n       <use style=\"stroke:#000000;stroke-width:0.8;\" x=\"284.437535\" xlink:href=\"#ma28dc8e295\" y=\"224.64\"/>\n      </g>\n     </g>\n     <g id=\"text_8\">\n      <!-- が -->\n      <g transform=\"translate(279.437535 239.130625)scale(0.1 -0.1)\">\n       <defs>\n        <path d=\"M 10.296875 52.875 \nQ 22.40625 54.734375 33.015625 55.953125 \nQ 36.140625 67.828125 37.40625 77.6875 \nL 45.3125 76.171875 \nQ 43.109375 64.796875 40.921875 56.6875 \nL 42.484375 56.78125 \nQ 45.21875 56.890625 47.515625 56.890625 \nQ 63.625 56.890625 63.625 37.015625 \nQ 63.625 17.625 57.8125 6 \nQ 54.34375 -0.875 46.921875 -0.875 \nQ 40.484375 -0.875 33.015625 3.609375 \nL 33.40625 12.109375 \nQ 41.109375 6.9375 45.703125 6.9375 \nQ 49.515625 6.9375 51.515625 11.03125 \nQ 55.71875 20.21875 55.71875 37.3125 \nQ 55.71875 50.296875 47.125 50.296875 \nQ 44.140625 50.296875 39.015625 49.90625 \nQ 37.3125 43.171875 33.015625 31.984375 \nQ 25.53125 12.453125 17.484375 -0.59375 \nL 10.59375 3.8125 \nQ 21.1875 19.34375 29.109375 42.96875 \nQ 29.5 44.046875 31.109375 48.875 \nQ 24.90625 48.140625 12.015625 45.5625 \nz\nM 85.015625 28.71875 \nQ 76.765625 47.46875 63.921875 61.1875 \nL 69.921875 65.375 \nQ 83.59375 51.078125 92 33.6875 \nz\nM 92.390625 66.796875 \nQ 86.765625 75.296875 80.609375 80.421875 \nL 85.296875 83.984375 \nQ 91.3125 79.15625 97.40625 71.09375 \nz\nM 83.5 59.1875 \nQ 78.953125 66.84375 72.015625 73.09375 \nL 76.90625 76.90625 \nQ 82.71875 72.078125 88.71875 63.484375 \nz\n\" id=\"IPAexGothic-12364\"/>\n       </defs>\n       <use xlink:href=\"#IPAexGothic-12364\"/>\n      </g>\n     </g>\n    </g>\n    <g id=\"xtick_9\">\n     <g id=\"line2d_9\">\n      <g>\n       <use style=\"stroke:#000000;stroke-width:0.8;\" x=\"315.495049\" xlink:href=\"#ma28dc8e295\" y=\"224.64\"/>\n      </g>\n     </g>\n     <g id=\"text_9\">\n      <!-- た -->\n      <g transform=\"translate(310.495049 239.130625)scale(0.1 -0.1)\">\n       <defs>\n        <path d=\"M 10.6875 62.40625 \nQ 17.78125 61.765625 24.3125 61.765625 \nQ 28.078125 61.765625 32.90625 62.109375 \nQ 35.40625 71.78125 37.015625 79.890625 \nL 44.921875 78.515625 \nQ 43.84375 73.921875 40.921875 62.703125 \nQ 50.140625 63.8125 57.125 65.484375 \nL 57.625 58.109375 \nQ 48.578125 56.453125 39.015625 55.71875 \nQ 28.46875 20.21875 18.015625 -0.6875 \nL 10.203125 2.6875 \nQ 21.96875 23.4375 31.109375 55.171875 \nQ 25.53125 54.890625 19.625 54.890625 \nQ 17.28125 54.890625 10.890625 55.078125 \nz\nM 89.890625 1.21875 \nQ 79.046875 -0.203125 71.828125 -0.203125 \nQ 56.546875 -0.203125 50.09375 5.21875 \nQ 44.78125 9.765625 43.21875 19.09375 \nL 50.203125 21.6875 \nQ 50.734375 16.703125 52.296875 14.109375 \nQ 53.515625 12.109375 55.90625 10.5 \nQ 60.40625 7.515625 71.1875 7.515625 \nQ 78.265625 7.515625 89.5 8.984375 \nz\nM 49.125 44.671875 \nQ 65.875 49.171875 84.515625 48 \nL 84.078125 40.578125 \nL 83.6875 40.578125 \nQ 66.609375 41.609375 49.90625 37.796875 \nz\n\" id=\"IPAexGothic-12383\"/>\n       </defs>\n       <use xlink:href=\"#IPAexGothic-12383\"/>\n      </g>\n     </g>\n    </g>\n    <g id=\"xtick_10\">\n     <g id=\"line2d_10\">\n      <g>\n       <use style=\"stroke:#000000;stroke-width:0.8;\" x=\"346.552563\" xlink:href=\"#ma28dc8e295\" y=\"224.64\"/>\n      </g>\n     </g>\n     <g id=\"text_10\">\n      <!-- する -->\n      <g transform=\"translate(336.552563 239.130625)scale(0.1 -0.1)\">\n       <defs>\n        <path d=\"M 51.90625 79.296875 \nL 59.625 79.296875 \nL 59.625 63.484375 \nQ 64.546875 63.671875 89.9375 64.3125 \nL 89.9375 57.328125 \nQ 84.859375 57.375 59.625 57.078125 \nL 59.625 38.484375 \nQ 61.8125 33.203125 61.8125 27.203125 \nQ 61.8125 14.40625 54.984375 6.203125 \nQ 48.875 -1.125 36.078125 -6.390625 \nL 30.328125 -0.484375 \nQ 50.984375 7.078125 54.5 21.296875 \nQ 50.78125 16.109375 43.890625 16.109375 \nQ 38.140625 16.109375 33.59375 20.515625 \nQ 29.296875 24.8125 29.296875 32.03125 \nQ 29.296875 38.671875 33.84375 43.265625 \nQ 37.984375 47.515625 44.09375 47.515625 \nQ 48.25 47.515625 51.90625 45.015625 \nL 51.90625 56.890625 \nQ 46.875 56.78125 9.515625 55.421875 \nL 9.515625 62.3125 \nQ 18.703125 62.5 32.90625 62.84375 \nQ 47.90625 63.234375 51.90625 63.28125 \nz\nM 52.6875 31.9375 \nQ 52.6875 35.9375 49.90625 38.71875 \nQ 47.65625 40.828125 44.828125 40.828125 \nQ 40.96875 40.828125 38.484375 37.59375 \nQ 36.625 35.15625 36.625 32.625 \nQ 36.625 28.078125 38.8125 25.34375 \nQ 41.015625 22.703125 44.671875 22.703125 \nQ 52.6875 22.703125 52.6875 31.9375 \nz\n\" id=\"IPAexGothic-12377\"/>\n        <path d=\"M 68.609375 68.703125 \nL 40.828125 40.4375 \nQ 50.390625 43.890625 58.734375 43.890625 \nQ 66.609375 43.890625 72.796875 41.015625 \nQ 84.234375 35.453125 84.234375 23.1875 \nQ 84.234375 11.8125 73.53125 4.296875 \nQ 63.625 -2.59375 47.703125 -2.59375 \nQ 39.984375 -2.59375 35.109375 0.296875 \nQ 29.109375 3.90625 29.109375 10.40625 \nQ 29.109375 14.59375 32.328125 17.828125 \nQ 36.421875 21.921875 42.828125 21.921875 \nQ 54.828125 21.921875 62.796875 6.6875 \nQ 76.125 12.25 76.125 23.296875 \nQ 76.125 30.953125 69.828125 34.71875 \nQ 65.09375 37.59375 57.515625 37.59375 \nQ 37.890625 37.59375 19.34375 18.890625 \nL 13.921875 24.703125 \nQ 38.09375 45.84375 55.90625 66.890625 \nQ 40.53125 64.453125 24.8125 63.53125 \nL 23.09375 71.09375 \nQ 40.53125 71.578125 64.203125 74.421875 \nz\nM 56.109375 4.734375 \nQ 50.6875 16.015625 42.671875 16.015625 \nQ 39.890625 16.015625 38.03125 14.59375 \nQ 36.1875 13.1875 36.1875 10.9375 \nQ 36.1875 3.90625 47.40625 3.90625 \nQ 51.171875 3.90625 56.109375 4.734375 \nz\n\" id=\"IPAexGothic-12427\"/>\n       </defs>\n       <use xlink:href=\"#IPAexGothic-12377\"/>\n       <use x=\"100\" xlink:href=\"#IPAexGothic-12427\"/>\n      </g>\n     </g>\n    </g>\n   </g>\n   <g id=\"matplotlib.axis_2\">\n    <g id=\"ytick_1\">\n     <g id=\"line2d_11\">\n      <defs>\n       <path d=\"M 0 0 \nL -3.5 0 \n\" id=\"m4b5ec5f320\" style=\"stroke:#000000;stroke-width:0.8;\"/>\n      </defs>\n      <g>\n       <use style=\"stroke:#000000;stroke-width:0.8;\" x=\"39.39375\" xlink:href=\"#m4b5ec5f320\" y=\"224.64\"/>\n      </g>\n     </g>\n     <g id=\"text_11\">\n      <!-- 0 -->\n      <g transform=\"translate(26.095313 228.385312)scale(0.1 -0.1)\">\n       <defs>\n        <path d=\"M 31.84375 73.828125 \nQ 45.015625 73.828125 52.09375 61.625 \nQ 57.71875 51.953125 57.71875 36.625 \nQ 57.71875 21.4375 52.09375 11.578125 \nQ 45.125 -0.484375 31.5 -0.484375 \nQ 17.921875 -0.484375 10.9375 11.578125 \nQ 5.328125 21.4375 5.328125 36.71875 \nQ 5.328125 58.015625 15.625 67.71875 \nQ 22.171875 73.828125 31.84375 73.828125 \nz\nM 31.5 66.65625 \nQ 23.6875 66.65625 19.1875 58.734375 \nQ 14.59375 50.734375 14.59375 36.625 \nQ 14.59375 22.75 19.09375 14.796875 \nQ 23.640625 6.984375 31.5 6.984375 \nQ 40.921875 6.984375 45.453125 18.015625 \nQ 48.4375 25.34375 48.4375 37.109375 \nQ 48.4375 50.875 43.84375 58.734375 \nQ 39.203125 66.65625 31.5 66.65625 \nz\n\" id=\"IPAexGothic-48\"/>\n       </defs>\n       <use xlink:href=\"#IPAexGothic-48\"/>\n      </g>\n     </g>\n    </g>\n    <g id=\"ytick_2\">\n     <g id=\"line2d_12\">\n      <g>\n       <use style=\"stroke:#000000;stroke-width:0.8;\" x=\"39.39375\" xlink:href=\"#m4b5ec5f320\" y=\"179.126656\"/>\n      </g>\n     </g>\n     <g id=\"text_12\">\n      <!-- 2000 -->\n      <g transform=\"translate(7.2 182.871969)scale(0.1 -0.1)\">\n       <defs>\n        <path d=\"M 57.171875 0.984375 \nL 6.984375 0.984375 \nL 6.984375 9.28125 \nQ 12.890625 23.046875 29.59375 34.421875 \nL 32.375 36.28125 \nQ 40.921875 42.140625 43.609375 45.40625 \nQ 46.6875 49.265625 46.6875 53.8125 \nQ 46.6875 58.9375 43.0625 62.546875 \nQ 39.0625 66.546875 32.5625 66.546875 \nQ 19.53125 66.546875 15.484375 52 \nL 7.765625 54.78125 \nQ 13.328125 73.828125 33.0625 73.828125 \nQ 43.84375 73.828125 50.25 67.4375 \nQ 55.859375 61.671875 55.859375 53.515625 \nQ 55.859375 47.46875 52.25 42.53125 \nQ 48.921875 37.75 36.96875 30.28125 \nL 34.859375 29 \nQ 19.625 19.578125 15.28125 8.890625 \nL 57.171875 8.890625 \nz\n\" id=\"IPAexGothic-50\"/>\n       </defs>\n       <use xlink:href=\"#IPAexGothic-50\"/>\n       <use x=\"62.988281\" xlink:href=\"#IPAexGothic-48\"/>\n       <use x=\"125.976562\" xlink:href=\"#IPAexGothic-48\"/>\n       <use x=\"188.964844\" xlink:href=\"#IPAexGothic-48\"/>\n      </g>\n     </g>\n    </g>\n    <g id=\"ytick_3\">\n     <g id=\"line2d_13\">\n      <g>\n       <use style=\"stroke:#000000;stroke-width:0.8;\" x=\"39.39375\" xlink:href=\"#m4b5ec5f320\" y=\"133.613312\"/>\n      </g>\n     </g>\n     <g id=\"text_13\">\n      <!-- 4000 -->\n      <g transform=\"translate(7.2 137.358625)scale(0.1 -0.1)\">\n       <defs>\n        <path d=\"M 59.578125 18.109375 \nL 47.796875 18.109375 \nL 47.796875 0.984375 \nL 39.796875 0.984375 \nL 39.796875 18.109375 \nL 3.078125 18.109375 \nL 3.078125 26.125 \nL 38.375 73.09375 \nL 47.796875 73.09375 \nL 47.796875 25.53125 \nL 59.578125 25.53125 \nz\nM 40.28125 64.203125 \nL 39.984375 64.203125 \nQ 35.59375 57.125 31.296875 51.3125 \nL 11.859375 25.53125 \nL 39.796875 25.53125 \nL 39.796875 49.125 \nQ 39.796875 54.390625 40.28125 64.203125 \nz\n\" id=\"IPAexGothic-52\"/>\n       </defs>\n       <use xlink:href=\"#IPAexGothic-52\"/>\n       <use x=\"62.988281\" xlink:href=\"#IPAexGothic-48\"/>\n       <use x=\"125.976562\" xlink:href=\"#IPAexGothic-48\"/>\n       <use x=\"188.964844\" xlink:href=\"#IPAexGothic-48\"/>\n      </g>\n     </g>\n    </g>\n    <g id=\"ytick_4\">\n     <g id=\"line2d_14\">\n      <g>\n       <use style=\"stroke:#000000;stroke-width:0.8;\" x=\"39.39375\" xlink:href=\"#m4b5ec5f320\" y=\"88.099969\"/>\n      </g>\n     </g>\n     <g id=\"text_14\">\n      <!-- 6000 -->\n      <g transform=\"translate(7.2 91.845281)scale(0.1 -0.1)\">\n       <defs>\n        <path d=\"M 16.5 36.375 \nQ 23.578125 46.578125 34.90625 46.578125 \nQ 45.40625 46.578125 51.8125 39.265625 \nQ 57.421875 32.90625 57.421875 23.78125 \nQ 57.421875 13.8125 51.125 6.78125 \nQ 44.578125 -0.484375 34.03125 -0.484375 \nQ 21.484375 -0.484375 14.40625 9.078125 \nQ 7.515625 18.40625 7.515625 34.8125 \nQ 7.515625 53.515625 15.828125 64.203125 \nQ 23.34375 73.828125 35.5 73.828125 \nQ 49.859375 73.828125 56.390625 62.890625 \nL 49.21875 58.984375 \nQ 45.21875 66.65625 35.9375 66.65625 \nQ 17.484375 66.65625 16.109375 36.375 \nz\nM 33.453125 39.796875 \nQ 26.3125 39.796875 21.625 34.46875 \nQ 17.4375 29.6875 17.4375 24.078125 \nQ 17.4375 18.0625 21.140625 13.1875 \nQ 26.125 6.6875 33.734375 6.6875 \nQ 41.703125 6.6875 45.953125 13.1875 \nQ 48.828125 17.625 48.828125 23.484375 \nQ 48.828125 30.375 45.015625 34.8125 \nQ 40.625 39.796875 33.453125 39.796875 \nz\n\" id=\"IPAexGothic-54\"/>\n       </defs>\n       <use xlink:href=\"#IPAexGothic-54\"/>\n       <use x=\"62.988281\" xlink:href=\"#IPAexGothic-48\"/>\n       <use x=\"125.976562\" xlink:href=\"#IPAexGothic-48\"/>\n       <use x=\"188.964844\" xlink:href=\"#IPAexGothic-48\"/>\n      </g>\n     </g>\n    </g>\n    <g id=\"ytick_5\">\n     <g id=\"line2d_15\">\n      <g>\n       <use style=\"stroke:#000000;stroke-width:0.8;\" x=\"39.39375\" xlink:href=\"#m4b5ec5f320\" y=\"42.586625\"/>\n      </g>\n     </g>\n     <g id=\"text_15\">\n      <!-- 8000 -->\n      <g transform=\"translate(7.2 46.331937)scale(0.1 -0.1)\">\n       <defs>\n        <path d=\"M 39.703125 37.890625 \nQ 57.8125 31.734375 57.8125 18.703125 \nQ 57.8125 8.453125 48.4375 3.078125 \nQ 41.609375 -0.875 31.5 -0.875 \nQ 21.34375 -0.875 14.5 3.078125 \nQ 5.421875 8.296875 5.421875 18.40625 \nQ 5.421875 31.0625 22.015625 37.203125 \nL 22.015625 37.5 \nQ 7.515625 42.71875 7.515625 54.828125 \nQ 7.515625 64.0625 15.328125 69.625 \nQ 21.96875 74.3125 31.546875 74.3125 \nQ 42.234375 74.3125 48.921875 68.796875 \nQ 55.515625 63.578125 55.515625 55.71875 \nQ 55.515625 42.28125 39.703125 38.1875 \nz\nM 31.59375 41.015625 \nQ 46.828125 44.625 46.828125 55.125 \nQ 46.828125 61.1875 41.796875 64.84375 \nQ 37.703125 67.921875 31.5 67.921875 \nQ 25.09375 67.921875 20.796875 64.5 \nQ 16.40625 60.890625 16.40625 55.03125 \nQ 16.40625 49.21875 21.09375 45.703125 \nQ 23.34375 43.890625 26.90625 42.53125 \nQ 31 40.875 31.59375 41.015625 \nz\nM 30.90625 34.515625 \nQ 14.40625 30.171875 14.40625 19 \nQ 14.40625 12.109375 20.515625 8.6875 \nQ 25.09375 6.109375 31.390625 6.109375 \nQ 40.234375 6.109375 45.015625 10.890625 \nQ 48.53125 14.40625 48.53125 19.53125 \nQ 48.53125 24.90625 43.65625 28.90625 \nQ 40.765625 31.15625 36.71875 32.8125 \nQ 31.984375 34.71875 30.90625 34.515625 \nz\n\" id=\"IPAexGothic-56\"/>\n       </defs>\n       <use xlink:href=\"#IPAexGothic-56\"/>\n       <use x=\"62.988281\" xlink:href=\"#IPAexGothic-48\"/>\n       <use x=\"125.976562\" xlink:href=\"#IPAexGothic-48\"/>\n       <use x=\"188.964844\" xlink:href=\"#IPAexGothic-48\"/>\n      </g>\n     </g>\n    </g>\n   </g>\n   <g id=\"patch_13\">\n    <path d=\"M 39.39375 224.64 \nL 39.39375 7.2 \n\" style=\"fill:none;stroke:#000000;stroke-linecap:square;stroke-linejoin:miter;stroke-width:0.8;\"/>\n   </g>\n   <g id=\"patch_14\">\n    <path d=\"M 374.19375 224.64 \nL 374.19375 7.2 \n\" style=\"fill:none;stroke:#000000;stroke-linecap:square;stroke-linejoin:miter;stroke-width:0.8;\"/>\n   </g>\n   <g id=\"patch_15\">\n    <path d=\"M 39.39375 224.64 \nL 374.19375 224.64 \n\" style=\"fill:none;stroke:#000000;stroke-linecap:square;stroke-linejoin:miter;stroke-width:0.8;\"/>\n   </g>\n   <g id=\"patch_16\">\n    <path d=\"M 39.39375 7.2 \nL 374.19375 7.2 \n\" style=\"fill:none;stroke:#000000;stroke-linecap:square;stroke-linejoin:miter;stroke-width:0.8;\"/>\n   </g>\n  </g>\n </g>\n <defs>\n  <clipPath id=\"pf38d0561ec\">\n   <rect height=\"217.44\" width=\"334.8\" x=\"39.39375\" y=\"7.2\"/>\n  </clipPath>\n </defs>\n</svg>\n",
      "image/png": "[encoded data removed]"
     },
     "metadata": {
      "needs_background": "light"
     }
    }
   ],
   "source": [
    "from collections import defaultdict\n",
    "word_count = defaultdict(int)\n",
    "for sen in neko: \n",
    "    for word in sen:\n",
    "        if word[\"pos\"] != \"記号\":\n",
    "            word_count[word[\"base\"]] += 1\n",
    "word_sorted = sorted(word_count.items(), key=lambda x:-x[1])\n",
    "print(topwords := word_sorted[:10])\n",
    "\n",
    "import matplotlib.pyplot as plt\n",
    "import seaborn as sns\n",
    "plt.rcParams['font.family'] = 'IPAexGothic'\n",
    "%matplotlib inline\n",
    "\n",
    "topT = [list(map(lambda x:x[0], topwords)), list(map(lambda x:x[1], topwords))]\n",
    "plt.bar(*topT, align=\"center\")"
   ]
  },
  {
   "cell_type": "markdown",
   "metadata": {},
   "source": [
    "## 37. 「猫」と共起頻度の高い上位10語\n",
    "\n",
    "「猫」とよく共起する（共起頻度が高い）10語とその出現頻度をグラフ（例えば棒グラフなど）で表示せよ．"
   ]
  },
  {
   "cell_type": "code",
   "execution_count": 51,
   "metadata": {
    "tags": []
   },
   "outputs": [
    {
     "output_type": "stream",
     "name": "stdout",
     "text": "[('の', 0.782608695652174), ('は', 0.7342995169082126), ('だ', 0.6280193236714976), ('を', 0.5942028985507246), ('て', 0.5748792270531401), ('に', 0.5700483091787439), ('と', 0.5652173913043478), ('が', 0.5410628019323671), ('する', 0.47342995169082125), ('ある', 0.4492753623188406)]\n"
    },
    {
     "output_type": "execute_result",
     "data": {
      "text/plain": "<BarContainer object of 10 artists>"
     },
     "metadata": {},
     "execution_count": 51
    },
    {
     "output_type": "display_data",
     "data": {
      "text/plain": "<Figure size 432x288 with 1 Axes>",
      "image/svg+xml": "<?xml version=\"1.0\" encoding=\"utf-8\" standalone=\"no\"?>\n<!DOCTYPE svg PUBLIC \"-//W3C//DTD SVG 1.1//EN\"\n  \"http://www.w3.org/Graphics/SVG/1.1/DTD/svg11.dtd\">\n<!-- Created with matplotlib (https://matplotlib.org/) -->\n<svg height=\"248.230625pt\" version=\"1.1\" viewBox=\"0 0 371.439062 248.230625\" width=\"371.439062pt\" xmlns=\"http://www.w3.org/2000/svg\" xmlns:xlink=\"http://www.w3.org/1999/xlink\">\n <metadata>\n  <rdf:RDF xmlns:cc=\"http://creativecommons.org/ns#\" xmlns:dc=\"http://purl.org/dc/elements/1.1/\" xmlns:rdf=\"http://www.w3.org/1999/02/22-rdf-syntax-ns#\">\n   <cc:Work>\n    <dc:type rdf:resource=\"http://purl.org/dc/dcmitype/StillImage\"/>\n    <dc:date>2020-07-19T20:45:58.085739</dc:date>\n    <dc:format>image/svg+xml</dc:format>\n    <dc:creator>\n     <cc:Agent>\n      <dc:title>Matplotlib v3.3.0, https://matplotlib.org/</dc:title>\n     </cc:Agent>\n    </dc:creator>\n   </cc:Work>\n  </rdf:RDF>\n </metadata>\n <defs>\n  <style type=\"text/css\">*{stroke-linecap:butt;stroke-linejoin:round;}</style>\n </defs>\n <g id=\"figure_1\">\n  <g id=\"patch_1\">\n   <path d=\"M 0 248.230625 \nL 371.439062 248.230625 \nL 371.439062 0 \nL 0 0 \nz\n\" style=\"fill:none;\"/>\n  </g>\n  <g id=\"axes_1\">\n   <g id=\"patch_2\">\n    <path d=\"M 29.439063 224.64 \nL 364.239063 224.64 \nL 364.239063 7.2 \nL 29.439063 7.2 \nz\n\" style=\"fill:#ffffff;\"/>\n   </g>\n   <g id=\"patch_3\">\n    <path clip-path=\"url(#p6cda2d4599)\" d=\"M 44.657244 224.64 \nL 69.503255 224.64 \nL 69.503255 17.554286 \nL 44.657244 17.554286 \nz\n\" style=\"fill:#1f77b4;\"/>\n   </g>\n   <g id=\"patch_4\">\n    <path clip-path=\"url(#p6cda2d4599)\" d=\"M 75.714758 224.64 \nL 100.560769 224.64 \nL 100.560769 30.337354 \nL 75.714758 30.337354 \nz\n\" style=\"fill:#1f77b4;\"/>\n   </g>\n   <g id=\"patch_5\">\n    <path clip-path=\"url(#p6cda2d4599)\" d=\"M 106.772272 224.64 \nL 131.618283 224.64 \nL 131.618283 58.460106 \nL 106.772272 58.460106 \nz\n\" style=\"fill:#1f77b4;\"/>\n   </g>\n   <g id=\"patch_6\">\n    <path clip-path=\"url(#p6cda2d4599)\" d=\"M 137.829786 224.64 \nL 162.675797 224.64 \nL 162.675797 67.408254 \nL 137.829786 67.408254 \nz\n\" style=\"fill:#1f77b4;\"/>\n   </g>\n   <g id=\"patch_7\">\n    <path clip-path=\"url(#p6cda2d4599)\" d=\"M 168.8873 224.64 \nL 193.733311 224.64 \nL 193.733311 72.521481 \nL 168.8873 72.521481 \nz\n\" style=\"fill:#1f77b4;\"/>\n   </g>\n   <g id=\"patch_8\">\n    <path clip-path=\"url(#p6cda2d4599)\" d=\"M 199.944814 224.64 \nL 224.790825 224.64 \nL 224.790825 73.799788 \nL 199.944814 73.799788 \nz\n\" style=\"fill:#1f77b4;\"/>\n   </g>\n   <g id=\"patch_9\">\n    <path clip-path=\"url(#p6cda2d4599)\" d=\"M 231.002328 224.64 \nL 255.848339 224.64 \nL 255.848339 75.078095 \nL 231.002328 75.078095 \nz\n\" style=\"fill:#1f77b4;\"/>\n   </g>\n   <g id=\"patch_10\">\n    <path clip-path=\"url(#p6cda2d4599)\" d=\"M 262.059842 224.64 \nL 286.905853 224.64 \nL 286.905853 81.46963 \nL 262.059842 81.46963 \nz\n\" style=\"fill:#1f77b4;\"/>\n   </g>\n   <g id=\"patch_11\">\n    <path clip-path=\"url(#p6cda2d4599)\" d=\"M 293.117356 224.64 \nL 317.963367 224.64 \nL 317.963367 99.365926 \nL 293.117356 99.365926 \nz\n\" style=\"fill:#1f77b4;\"/>\n   </g>\n   <g id=\"patch_12\">\n    <path clip-path=\"url(#p6cda2d4599)\" d=\"M 324.17487 224.64 \nL 349.020881 224.64 \nL 349.020881 105.75746 \nL 324.17487 105.75746 \nz\n\" style=\"fill:#1f77b4;\"/>\n   </g>\n   <g id=\"matplotlib.axis_1\">\n    <g id=\"xtick_1\">\n     <g id=\"line2d_1\">\n      <defs>\n       <path d=\"M 0 0 \nL 0 3.5 \n\" id=\"m374a7593c2\" style=\"stroke:#000000;stroke-width:0.8;\"/>\n      </defs>\n      <g>\n       <use style=\"stroke:#000000;stroke-width:0.8;\" x=\"57.08025\" xlink:href=\"#m374a7593c2\" y=\"224.64\"/>\n      </g>\n     </g>\n     <g id=\"text_1\">\n      <!-- の -->\n      <g transform=\"translate(52.08025 239.130625)scale(0.1 -0.1)\">\n       <defs>\n        <path d=\"M 48.734375 7.328125 \nQ 82.421875 11.96875 82.421875 37.890625 \nQ 82.421875 53.953125 68.953125 61.328125 \nQ 63.140625 64.3125 55.421875 64.984375 \nQ 53.03125 39.453125 44.53125 21.875 \nQ 36.28125 4.78125 26.90625 4.78125 \nQ 21.625 4.78125 16.9375 10.40625 \nQ 9.515625 19.4375 9.515625 31.296875 \nQ 9.515625 47.265625 21.828125 59.28125 \nQ 34.125 71.296875 53.609375 71.296875 \nQ 67.28125 71.296875 77 64.40625 \nQ 90.828125 54.78125 90.828125 37.890625 \nQ 90.828125 6.84375 53.609375 0.09375 \nz\nM 47.703125 64.796875 \nQ 37.15625 63.1875 29.546875 56.890625 \nQ 17.140625 46.578125 17.140625 31.109375 \nQ 17.140625 21.34375 22.40625 15.28125 \nQ 24.703125 12.703125 26.859375 12.703125 \nQ 31.59375 12.703125 37.75 25.390625 \nQ 45.453125 41.21875 47.703125 64.796875 \nz\n\" id=\"IPAexGothic-12398\"/>\n       </defs>\n       <use xlink:href=\"#IPAexGothic-12398\"/>\n      </g>\n     </g>\n    </g>\n    <g id=\"xtick_2\">\n     <g id=\"line2d_2\">\n      <g>\n       <use style=\"stroke:#000000;stroke-width:0.8;\" x=\"88.137764\" xlink:href=\"#m374a7593c2\" y=\"224.64\"/>\n      </g>\n     </g>\n     <g id=\"text_2\">\n      <!-- は -->\n      <g transform=\"translate(83.137764 239.130625)scale(0.1 -0.1)\">\n       <defs>\n        <path d=\"M 63.53125 76.171875 \nL 70.90625 76.171875 \nL 71.1875 58.890625 \nQ 78.171875 59.625 87.203125 61.578125 \nL 87.796875 54.203125 \nQ 82.125 53.03125 71.296875 51.90625 \nL 71.828125 22.515625 \nQ 79.6875 20.0625 92.71875 11.8125 \nL 88.375 4.890625 \nQ 79.15625 12.0625 72.015625 15.28125 \nQ 72.015625 6.890625 68.5 3.515625 \nQ 64.5 -0.203125 56.78125 -0.203125 \nQ 46.734375 -0.203125 41.703125 3.609375 \nQ 37.3125 6.9375 37.3125 12.984375 \nQ 37.3125 19.140625 43.3125 23.1875 \nQ 47.65625 26.078125 55.21875 26.078125 \nQ 58.734375 26.078125 64.59375 24.90625 \nL 64.015625 51.375 \nQ 57.765625 51.078125 52.484375 51.078125 \nQ 45.703125 51.078125 38.8125 51.5625 \nL 38.53125 58.796875 \nQ 46.140625 58.0625 54 58.0625 \nQ 58.40625 58.0625 63.921875 58.40625 \nz\nM 64.703125 18.015625 \nQ 58.640625 19.671875 54.890625 19.671875 \nQ 44.390625 19.671875 44.390625 13.28125 \nQ 44.390625 6.59375 56.78125 6.59375 \nQ 60.75 6.59375 62.84375 8.890625 \nQ 64.703125 10.9375 64.703125 14.40625 \nQ 64.703125 17 64.703125 18.015625 \nz\nM 15.625 -0.78125 \nQ 12.40625 16.75 12.40625 30.171875 \nQ 12.40625 49.265625 19.484375 76.3125 \nL 27 74.421875 \nQ 19.828125 47.5625 19.828125 29.6875 \nQ 19.828125 24.515625 20.40625 17.28125 \nQ 24.859375 26.65625 27.390625 31.203125 \nL 32.421875 28.21875 \nQ 23.1875 11.1875 23.1875 2.203125 \nQ 23.1875 1.125 23.296875 0 \nz\n\" id=\"IPAexGothic-12399\"/>\n       </defs>\n       <use xlink:href=\"#IPAexGothic-12399\"/>\n      </g>\n     </g>\n    </g>\n    <g id=\"xtick_3\">\n     <g id=\"line2d_3\">\n      <g>\n       <use style=\"stroke:#000000;stroke-width:0.8;\" x=\"119.195278\" xlink:href=\"#m374a7593c2\" y=\"224.64\"/>\n      </g>\n     </g>\n     <g id=\"text_3\">\n      <!-- だ -->\n      <g transform=\"translate(114.195278 239.130625)scale(0.1 -0.1)\">\n       <defs>\n        <path d=\"M 10.6875 61.921875 \nQ 17.78125 61.28125 24.3125 61.28125 \nQ 28.125 61.28125 32.90625 61.625 \nQ 35.40625 71.296875 37.015625 79.390625 \nL 44.921875 77.984375 \nQ 43.84375 73.4375 40.921875 62.203125 \nQ 50.140625 63.28125 57.125 64.984375 \nL 57.625 57.625 \nQ 48.578125 55.953125 39.015625 55.171875 \nQ 28.46875 19.734375 18.015625 -1.21875 \nL 10.203125 2.203125 \nQ 21.96875 22.953125 31.109375 54.6875 \nQ 25.640625 54.390625 19.625 54.390625 \nQ 17.328125 54.390625 10.890625 54.59375 \nz\nM 89.890625 0.6875 \nQ 78.953125 -0.6875 71.828125 -0.6875 \nQ 56.546875 -0.6875 50.09375 4.734375 \nQ 44.78125 9.28125 43.21875 18.609375 \nL 50.203125 21.1875 \nQ 50.734375 16.21875 52.296875 13.578125 \nQ 53.515625 11.578125 55.90625 10.015625 \nQ 60.40625 7.03125 71.1875 7.03125 \nQ 78.265625 7.03125 89.5 8.5 \nz\nM 49.125 44.1875 \nQ 65.875 48.640625 84.515625 47.515625 \nL 84.078125 40.09375 \nL 83.6875 40.09375 \nQ 66.609375 41.109375 49.90625 37.3125 \nz\nM 87.015625 64.109375 \nQ 81.34375 72.5625 75.203125 77.6875 \nL 79.890625 81.296875 \nQ 85.890625 76.46875 92 68.40625 \nz\nM 77.6875 56.78125 \nQ 73.1875 64.453125 66.21875 70.703125 \nL 71.09375 74.515625 \nQ 76.90625 69.671875 82.90625 61.078125 \nz\n\" id=\"IPAexGothic-12384\"/>\n       </defs>\n       <use xlink:href=\"#IPAexGothic-12384\"/>\n      </g>\n     </g>\n    </g>\n    <g id=\"xtick_4\">\n     <g id=\"line2d_4\">\n      <g>\n       <use style=\"stroke:#000000;stroke-width:0.8;\" x=\"150.252792\" xlink:href=\"#m374a7593c2\" y=\"224.64\"/>\n      </g>\n     </g>\n     <g id=\"text_4\">\n      <!-- を -->\n      <g transform=\"translate(145.252792 239.130625)scale(0.1 -0.1)\">\n       <defs>\n        <path d=\"M 17.09375 66.609375 \nQ 24.125 65.96875 36.859375 65.96875 \nQ 40.328125 73.96875 42.1875 80.671875 \nL 49.609375 78.5625 \nQ 46.828125 70.90625 44.671875 66.5 \nQ 54.9375 66.9375 67.09375 69.671875 \nL 68.0625 62.796875 \nQ 56.296875 60.453125 41.5 59.671875 \nQ 37.359375 51.3125 32.171875 43.703125 \nQ 39.546875 50 46.296875 50 \nQ 56.84375 50 60.296875 37.15625 \nQ 71.1875 41.890625 83.40625 46.09375 \nL 87.109375 39.5 \nQ 72.515625 35.203125 61.578125 30.5625 \nQ 62.203125 26.21875 62.40625 16.0625 \nL 54.890625 15.484375 \nQ 54.890625 22.75 54.59375 27.390625 \nQ 37.3125 18.65625 37.3125 11.1875 \nQ 37.3125 6.6875 43.015625 5.125 \nQ 47.90625 3.765625 59.46875 3.765625 \nQ 68.65625 3.765625 80.90625 5.375 \nL 81.5 -2 \nQ 69.28125 -3.328125 57.078125 -3.328125 \nQ 41.5 -3.328125 35.0625 0.640625 \nQ 29.890625 3.8125 29.890625 9.859375 \nQ 29.890625 17.09375 36.625 23.390625 \nQ 42.328125 28.765625 53.5625 34.078125 \nQ 51.03125 43.703125 44.96875 43.703125 \nQ 34.96875 43.703125 18.890625 22.171875 \nL 13.09375 26.46875 \nQ 25.390625 42.4375 33.796875 59.375 \nQ 23.78125 59.375 17 59.765625 \nz\n\" id=\"IPAexGothic-12434\"/>\n       </defs>\n       <use xlink:href=\"#IPAexGothic-12434\"/>\n      </g>\n     </g>\n    </g>\n    <g id=\"xtick_5\">\n     <g id=\"line2d_5\">\n      <g>\n       <use style=\"stroke:#000000;stroke-width:0.8;\" x=\"181.310306\" xlink:href=\"#m374a7593c2\" y=\"224.64\"/>\n      </g>\n     </g>\n     <g id=\"text_5\">\n      <!-- て -->\n      <g transform=\"translate(176.310306 239.130625)scale(0.1 -0.1)\">\n       <defs>\n        <path d=\"M 9.078125 63.03125 \nQ 46.53125 68.171875 85.40625 71.1875 \nL 86.078125 64.015625 \nQ 68.5625 62.984375 58.59375 55.8125 \nQ 43.703125 44.96875 43.703125 29.890625 \nQ 43.703125 18.265625 51.421875 12.796875 \nQ 59.03125 7.5625 76.078125 6.5 \nL 76.65625 -1.8125 \nQ 35.59375 0 35.59375 28.90625 \nQ 35.59375 48.828125 57.671875 62.5 \nQ 32.28125 59.125 10.6875 55.515625 \nz\n\" id=\"IPAexGothic-12390\"/>\n       </defs>\n       <use xlink:href=\"#IPAexGothic-12390\"/>\n      </g>\n     </g>\n    </g>\n    <g id=\"xtick_6\">\n     <g id=\"line2d_6\">\n      <g>\n       <use style=\"stroke:#000000;stroke-width:0.8;\" x=\"212.367819\" xlink:href=\"#m374a7593c2\" y=\"224.64\"/>\n      </g>\n     </g>\n     <g id=\"text_6\">\n      <!-- に -->\n      <g transform=\"translate(207.367819 239.130625)scale(0.1 -0.1)\">\n       <defs>\n        <path d=\"M 17 -0.59375 \nQ 14.40625 15.671875 14.40625 32.515625 \nQ 14.40625 50.34375 20.796875 74.90625 \nL 28.328125 73.1875 \nQ 21.734375 48.640625 21.734375 31.296875 \nQ 21.734375 22.515625 22.21875 17.921875 \nQ 22.40625 18.453125 28.328125 31.5 \nL 33.203125 28.078125 \nQ 28.125 16.890625 26.421875 11.921875 \nQ 24.703125 7.078125 24.703125 4.203125 \nQ 24.703125 1.21875 24.8125 0.09375 \nz\nM 44.28125 63.09375 \nQ 62.015625 65.828125 83.015625 65.1875 \nL 83.40625 57.515625 \nQ 61.859375 58.25 44.828125 55.421875 \nz\nM 88.28125 4 \nQ 78.8125 2.6875 68.3125 2.6875 \nQ 54.109375 2.6875 47.609375 6.78125 \nQ 43.5 9.28125 41.796875 13.140625 \nQ 40.1875 16.796875 40.1875 22.609375 \nQ 40.1875 24.421875 40.28125 25.875 \nL 47.703125 26.3125 \nQ 47.65625 25.203125 47.5625 23.875 \nQ 47.515625 23.140625 47.515625 22.90625 \nQ 47.515625 18.75 48.734375 16.453125 \nQ 49.65625 14.75 51.703125 13.28125 \nQ 55.765625 10.59375 66.796875 10.59375 \nQ 76.421875 10.59375 87.3125 11.921875 \nz\n\" id=\"IPAexGothic-12395\"/>\n       </defs>\n       <use xlink:href=\"#IPAexGothic-12395\"/>\n      </g>\n     </g>\n    </g>\n    <g id=\"xtick_7\">\n     <g id=\"line2d_7\">\n      <g>\n       <use style=\"stroke:#000000;stroke-width:0.8;\" x=\"243.425333\" xlink:href=\"#m374a7593c2\" y=\"224.64\"/>\n      </g>\n     </g>\n     <g id=\"text_7\">\n      <!-- と -->\n      <g transform=\"translate(238.425333 239.130625)scale(0.1 -0.1)\">\n       <defs>\n        <path d=\"M 81.59375 0.875 \nQ 65.625 -1.125 53.90625 -1.125 \nQ 38.71875 -1.125 30.328125 1.765625 \nQ 18.5 5.8125 18.5 16.21875 \nQ 18.5 24.75 24.90625 31.390625 \nQ 30.328125 37.015625 41.5 42.578125 \nQ 34.859375 58.34375 30.8125 76.21875 \nL 38.921875 77.78125 \nQ 42.28125 60.6875 48.09375 46.09375 \nQ 66.40625 53.859375 74.3125 56.5 \nL 77.78125 49.21875 \nQ 49.703125 40.234375 37.640625 32.46875 \nQ 26.421875 25.203125 26.421875 17.390625 \nQ 26.421875 6.296875 51.90625 6.296875 \nQ 64.453125 6.296875 80.21875 8.796875 \nz\n\" id=\"IPAexGothic-12392\"/>\n       </defs>\n       <use xlink:href=\"#IPAexGothic-12392\"/>\n      </g>\n     </g>\n    </g>\n    <g id=\"xtick_8\">\n     <g id=\"line2d_8\">\n      <g>\n       <use style=\"stroke:#000000;stroke-width:0.8;\" x=\"274.482847\" xlink:href=\"#m374a7593c2\" y=\"224.64\"/>\n      </g>\n     </g>\n     <g id=\"text_8\">\n      <!-- が -->\n      <g transform=\"translate(269.482847 239.130625)scale(0.1 -0.1)\">\n       <defs>\n        <path d=\"M 10.296875 52.875 \nQ 22.40625 54.734375 33.015625 55.953125 \nQ 36.140625 67.828125 37.40625 77.6875 \nL 45.3125 76.171875 \nQ 43.109375 64.796875 40.921875 56.6875 \nL 42.484375 56.78125 \nQ 45.21875 56.890625 47.515625 56.890625 \nQ 63.625 56.890625 63.625 37.015625 \nQ 63.625 17.625 57.8125 6 \nQ 54.34375 -0.875 46.921875 -0.875 \nQ 40.484375 -0.875 33.015625 3.609375 \nL 33.40625 12.109375 \nQ 41.109375 6.9375 45.703125 6.9375 \nQ 49.515625 6.9375 51.515625 11.03125 \nQ 55.71875 20.21875 55.71875 37.3125 \nQ 55.71875 50.296875 47.125 50.296875 \nQ 44.140625 50.296875 39.015625 49.90625 \nQ 37.3125 43.171875 33.015625 31.984375 \nQ 25.53125 12.453125 17.484375 -0.59375 \nL 10.59375 3.8125 \nQ 21.1875 19.34375 29.109375 42.96875 \nQ 29.5 44.046875 31.109375 48.875 \nQ 24.90625 48.140625 12.015625 45.5625 \nz\nM 85.015625 28.71875 \nQ 76.765625 47.46875 63.921875 61.1875 \nL 69.921875 65.375 \nQ 83.59375 51.078125 92 33.6875 \nz\nM 92.390625 66.796875 \nQ 86.765625 75.296875 80.609375 80.421875 \nL 85.296875 83.984375 \nQ 91.3125 79.15625 97.40625 71.09375 \nz\nM 83.5 59.1875 \nQ 78.953125 66.84375 72.015625 73.09375 \nL 76.90625 76.90625 \nQ 82.71875 72.078125 88.71875 63.484375 \nz\n\" id=\"IPAexGothic-12364\"/>\n       </defs>\n       <use xlink:href=\"#IPAexGothic-12364\"/>\n      </g>\n     </g>\n    </g>\n    <g id=\"xtick_9\">\n     <g id=\"line2d_9\">\n      <g>\n       <use style=\"stroke:#000000;stroke-width:0.8;\" x=\"305.540361\" xlink:href=\"#m374a7593c2\" y=\"224.64\"/>\n      </g>\n     </g>\n     <g id=\"text_9\">\n      <!-- する -->\n      <g transform=\"translate(295.540361 239.130625)scale(0.1 -0.1)\">\n       <defs>\n        <path d=\"M 51.90625 79.296875 \nL 59.625 79.296875 \nL 59.625 63.484375 \nQ 64.546875 63.671875 89.9375 64.3125 \nL 89.9375 57.328125 \nQ 84.859375 57.375 59.625 57.078125 \nL 59.625 38.484375 \nQ 61.8125 33.203125 61.8125 27.203125 \nQ 61.8125 14.40625 54.984375 6.203125 \nQ 48.875 -1.125 36.078125 -6.390625 \nL 30.328125 -0.484375 \nQ 50.984375 7.078125 54.5 21.296875 \nQ 50.78125 16.109375 43.890625 16.109375 \nQ 38.140625 16.109375 33.59375 20.515625 \nQ 29.296875 24.8125 29.296875 32.03125 \nQ 29.296875 38.671875 33.84375 43.265625 \nQ 37.984375 47.515625 44.09375 47.515625 \nQ 48.25 47.515625 51.90625 45.015625 \nL 51.90625 56.890625 \nQ 46.875 56.78125 9.515625 55.421875 \nL 9.515625 62.3125 \nQ 18.703125 62.5 32.90625 62.84375 \nQ 47.90625 63.234375 51.90625 63.28125 \nz\nM 52.6875 31.9375 \nQ 52.6875 35.9375 49.90625 38.71875 \nQ 47.65625 40.828125 44.828125 40.828125 \nQ 40.96875 40.828125 38.484375 37.59375 \nQ 36.625 35.15625 36.625 32.625 \nQ 36.625 28.078125 38.8125 25.34375 \nQ 41.015625 22.703125 44.671875 22.703125 \nQ 52.6875 22.703125 52.6875 31.9375 \nz\n\" id=\"IPAexGothic-12377\"/>\n        <path d=\"M 68.609375 68.703125 \nL 40.828125 40.4375 \nQ 50.390625 43.890625 58.734375 43.890625 \nQ 66.609375 43.890625 72.796875 41.015625 \nQ 84.234375 35.453125 84.234375 23.1875 \nQ 84.234375 11.8125 73.53125 4.296875 \nQ 63.625 -2.59375 47.703125 -2.59375 \nQ 39.984375 -2.59375 35.109375 0.296875 \nQ 29.109375 3.90625 29.109375 10.40625 \nQ 29.109375 14.59375 32.328125 17.828125 \nQ 36.421875 21.921875 42.828125 21.921875 \nQ 54.828125 21.921875 62.796875 6.6875 \nQ 76.125 12.25 76.125 23.296875 \nQ 76.125 30.953125 69.828125 34.71875 \nQ 65.09375 37.59375 57.515625 37.59375 \nQ 37.890625 37.59375 19.34375 18.890625 \nL 13.921875 24.703125 \nQ 38.09375 45.84375 55.90625 66.890625 \nQ 40.53125 64.453125 24.8125 63.53125 \nL 23.09375 71.09375 \nQ 40.53125 71.578125 64.203125 74.421875 \nz\nM 56.109375 4.734375 \nQ 50.6875 16.015625 42.671875 16.015625 \nQ 39.890625 16.015625 38.03125 14.59375 \nQ 36.1875 13.1875 36.1875 10.9375 \nQ 36.1875 3.90625 47.40625 3.90625 \nQ 51.171875 3.90625 56.109375 4.734375 \nz\n\" id=\"IPAexGothic-12427\"/>\n       </defs>\n       <use xlink:href=\"#IPAexGothic-12377\"/>\n       <use x=\"100\" xlink:href=\"#IPAexGothic-12427\"/>\n      </g>\n     </g>\n    </g>\n    <g id=\"xtick_10\">\n     <g id=\"line2d_10\">\n      <g>\n       <use style=\"stroke:#000000;stroke-width:0.8;\" x=\"336.597875\" xlink:href=\"#m374a7593c2\" y=\"224.64\"/>\n      </g>\n     </g>\n     <g id=\"text_10\">\n      <!-- ある -->\n      <g transform=\"translate(326.597875 239.130625)scale(0.1 -0.1)\">\n       <defs>\n        <path d=\"M 15.09375 64.59375 \nQ 19.1875 64.3125 24.21875 64.3125 \nQ 30.21875 64.3125 35.6875 64.703125 \nQ 35.890625 66.359375 36.234375 69.578125 \nQ 37.015625 76.125 37.203125 78.90625 \nL 44.578125 78.421875 \nQ 43.65625 71.046875 43.109375 65.28125 \nQ 57.375 66.796875 71.578125 70.703125 \nL 72.40625 63.8125 \nQ 58.59375 60.359375 42.390625 58.6875 \nQ 41.796875 52.78125 41.609375 45.796875 \nQ 48.25 48.1875 57.328125 49.03125 \nQ 58.40625 51.953125 58.796875 55.421875 \nL 66.21875 53.71875 \nQ 65.4375 50.296875 64.890625 48.875 \nQ 74.953125 47.515625 80.71875 42.828125 \nQ 89.109375 35.890625 89.109375 24.703125 \nQ 89.109375 12.40625 79 4.6875 \nQ 71.234375 -1.3125 57.515625 -3.328125 \nL 53.21875 3.328125 \nQ 65.140625 4.640625 72.21875 9.28125 \nQ 81.296875 15.140625 81.296875 24.8125 \nQ 81.296875 34.625 73 39.890625 \nQ 68.953125 42.578125 62.890625 43.3125 \nQ 55.46875 24.3125 42.921875 12.5 \nQ 43.21875 9.125 44.484375 4.296875 \nL 37.3125 1.609375 \nQ 37.015625 2.984375 36.1875 8.203125 \nQ 27.4375 2 20.3125 2 \nQ 10.40625 2 10.40625 12.40625 \nQ 10.40625 19.4375 14.84375 26.421875 \nQ 19 32.8125 26.21875 37.890625 \nQ 28.65625 39.703125 34.28125 42.671875 \nQ 34.46875 49.359375 35.203125 58.109375 \nQ 27.6875 57.515625 20.90625 57.515625 \nQ 17.28125 57.515625 15.71875 57.625 \nz\nM 34.1875 35.796875 \nQ 30.71875 33.890625 26.609375 29.890625 \nQ 22.359375 25.78125 19.875 21.140625 \nQ 17.875 17.328125 17.71875 14.40625 \nQ 17.484375 8.984375 21.625 8.984375 \nQ 27.9375 8.984375 35.109375 15.578125 \nQ 34.328125 23.390625 34.1875 35.796875 \nz\nM 55.515625 43.3125 \nQ 47.46875 42.1875 41.21875 39.59375 \nQ 41.21875 27.09375 41.609375 20.3125 \nQ 50.484375 30.171875 55.515625 43.3125 \nz\n\" id=\"IPAexGothic-12354\"/>\n       </defs>\n       <use xlink:href=\"#IPAexGothic-12354\"/>\n       <use x=\"100\" xlink:href=\"#IPAexGothic-12427\"/>\n      </g>\n     </g>\n    </g>\n   </g>\n   <g id=\"matplotlib.axis_2\">\n    <g id=\"ytick_1\">\n     <g id=\"line2d_11\">\n      <defs>\n       <path d=\"M 0 0 \nL -3.5 0 \n\" id=\"m3970e44277\" style=\"stroke:#000000;stroke-width:0.8;\"/>\n      </defs>\n      <g>\n       <use style=\"stroke:#000000;stroke-width:0.8;\" x=\"29.439063\" xlink:href=\"#m3970e44277\" y=\"224.64\"/>\n      </g>\n     </g>\n     <g id=\"text_11\">\n      <!-- 0.0 -->\n      <g transform=\"translate(7.2 228.385312)scale(0.1 -0.1)\">\n       <defs>\n        <path d=\"M 31.84375 73.828125 \nQ 45.015625 73.828125 52.09375 61.625 \nQ 57.71875 51.953125 57.71875 36.625 \nQ 57.71875 21.4375 52.09375 11.578125 \nQ 45.125 -0.484375 31.5 -0.484375 \nQ 17.921875 -0.484375 10.9375 11.578125 \nQ 5.328125 21.4375 5.328125 36.71875 \nQ 5.328125 58.015625 15.625 67.71875 \nQ 22.171875 73.828125 31.84375 73.828125 \nz\nM 31.5 66.65625 \nQ 23.6875 66.65625 19.1875 58.734375 \nQ 14.59375 50.734375 14.59375 36.625 \nQ 14.59375 22.75 19.09375 14.796875 \nQ 23.640625 6.984375 31.5 6.984375 \nQ 40.921875 6.984375 45.453125 18.015625 \nQ 48.4375 25.34375 48.4375 37.109375 \nQ 48.4375 50.875 43.84375 58.734375 \nQ 39.203125 66.65625 31.5 66.65625 \nz\n\" id=\"IPAexGothic-48\"/>\n        <path d=\"M 18.5 0.984375 \nL 7.71875 0.984375 \nL 7.71875 11.765625 \nL 18.5 11.765625 \nz\n\" id=\"IPAexGothic-46\"/>\n       </defs>\n       <use xlink:href=\"#IPAexGothic-48\"/>\n       <use x=\"62.988281\" xlink:href=\"#IPAexGothic-46\"/>\n       <use x=\"89.404297\" xlink:href=\"#IPAexGothic-48\"/>\n      </g>\n     </g>\n    </g>\n    <g id=\"ytick_2\">\n     <g id=\"line2d_12\">\n      <g>\n       <use style=\"stroke:#000000;stroke-width:0.8;\" x=\"29.439063\" xlink:href=\"#m3970e44277\" y=\"198.179048\"/>\n      </g>\n     </g>\n     <g id=\"text_12\">\n      <!-- 0.1 -->\n      <g transform=\"translate(7.2 201.92436)scale(0.1 -0.1)\">\n       <defs>\n        <path d=\"M 38.484375 0.984375 \nL 29.6875 0.984375 \nL 29.6875 64.109375 \nQ 21.4375 61.28125 12.3125 59.328125 \nL 10.6875 66.109375 \nQ 23.734375 69.390625 32.90625 73.921875 \nL 38.484375 73.921875 \nz\n\" id=\"IPAexGothic-49\"/>\n       </defs>\n       <use xlink:href=\"#IPAexGothic-48\"/>\n       <use x=\"62.988281\" xlink:href=\"#IPAexGothic-46\"/>\n       <use x=\"89.404297\" xlink:href=\"#IPAexGothic-49\"/>\n      </g>\n     </g>\n    </g>\n    <g id=\"ytick_3\">\n     <g id=\"line2d_13\">\n      <g>\n       <use style=\"stroke:#000000;stroke-width:0.8;\" x=\"29.439063\" xlink:href=\"#m3970e44277\" y=\"171.718095\"/>\n      </g>\n     </g>\n     <g id=\"text_13\">\n      <!-- 0.2 -->\n      <g transform=\"translate(7.2 175.463408)scale(0.1 -0.1)\">\n       <defs>\n        <path d=\"M 57.171875 0.984375 \nL 6.984375 0.984375 \nL 6.984375 9.28125 \nQ 12.890625 23.046875 29.59375 34.421875 \nL 32.375 36.28125 \nQ 40.921875 42.140625 43.609375 45.40625 \nQ 46.6875 49.265625 46.6875 53.8125 \nQ 46.6875 58.9375 43.0625 62.546875 \nQ 39.0625 66.546875 32.5625 66.546875 \nQ 19.53125 66.546875 15.484375 52 \nL 7.765625 54.78125 \nQ 13.328125 73.828125 33.0625 73.828125 \nQ 43.84375 73.828125 50.25 67.4375 \nQ 55.859375 61.671875 55.859375 53.515625 \nQ 55.859375 47.46875 52.25 42.53125 \nQ 48.921875 37.75 36.96875 30.28125 \nL 34.859375 29 \nQ 19.625 19.578125 15.28125 8.890625 \nL 57.171875 8.890625 \nz\n\" id=\"IPAexGothic-50\"/>\n       </defs>\n       <use xlink:href=\"#IPAexGothic-48\"/>\n       <use x=\"62.988281\" xlink:href=\"#IPAexGothic-46\"/>\n       <use x=\"89.404297\" xlink:href=\"#IPAexGothic-50\"/>\n      </g>\n     </g>\n    </g>\n    <g id=\"ytick_4\">\n     <g id=\"line2d_14\">\n      <g>\n       <use style=\"stroke:#000000;stroke-width:0.8;\" x=\"29.439063\" xlink:href=\"#m3970e44277\" y=\"145.257143\"/>\n      </g>\n     </g>\n     <g id=\"text_14\">\n      <!-- 0.3 -->\n      <g transform=\"translate(7.2 149.002455)scale(0.1 -0.1)\">\n       <defs>\n        <path d=\"M 37.203125 37.796875 \nQ 54.78125 34.625 54.78125 19.96875 \nQ 54.78125 11.1875 48.875 5.5625 \nQ 42.328125 -0.484375 30.375 -0.484375 \nQ 12.453125 -0.484375 4.5 13.765625 \nL 11.8125 17.671875 \nQ 17.328125 6.890625 30.28125 6.890625 \nQ 37.890625 6.890625 42.09375 10.796875 \nQ 46.09375 14.5 46.09375 20.171875 \nQ 46.09375 26.859375 40.09375 30.90625 \nQ 34.625 34.578125 25.6875 34.578125 \nL 21.296875 34.578125 \nL 21.296875 41.703125 \nL 25.875 41.703125 \nQ 34.859375 41.703125 39.59375 45.125 \nQ 44.671875 48.734375 44.671875 54.828125 \nQ 44.671875 61.46875 38.96875 64.65625 \nQ 35.296875 66.84375 30.171875 66.84375 \nQ 19.34375 66.84375 14.109375 55.90625 \nL 6.78125 59.421875 \nQ 14.015625 73.828125 30.28125 73.828125 \nQ 40.578125 73.828125 46.96875 68.65625 \nQ 53.375 63.578125 53.375 55.21875 \nQ 53.375 47.3125 47.171875 42.28125 \nQ 43.171875 39.0625 37.203125 38.1875 \nz\n\" id=\"IPAexGothic-51\"/>\n       </defs>\n       <use xlink:href=\"#IPAexGothic-48\"/>\n       <use x=\"62.988281\" xlink:href=\"#IPAexGothic-46\"/>\n       <use x=\"89.404297\" xlink:href=\"#IPAexGothic-51\"/>\n      </g>\n     </g>\n    </g>\n    <g id=\"ytick_5\">\n     <g id=\"line2d_15\">\n      <g>\n       <use style=\"stroke:#000000;stroke-width:0.8;\" x=\"29.439063\" xlink:href=\"#m3970e44277\" y=\"118.79619\"/>\n      </g>\n     </g>\n     <g id=\"text_15\">\n      <!-- 0.4 -->\n      <g transform=\"translate(7.2 122.541503)scale(0.1 -0.1)\">\n       <defs>\n        <path d=\"M 59.578125 18.109375 \nL 47.796875 18.109375 \nL 47.796875 0.984375 \nL 39.796875 0.984375 \nL 39.796875 18.109375 \nL 3.078125 18.109375 \nL 3.078125 26.125 \nL 38.375 73.09375 \nL 47.796875 73.09375 \nL 47.796875 25.53125 \nL 59.578125 25.53125 \nz\nM 40.28125 64.203125 \nL 39.984375 64.203125 \nQ 35.59375 57.125 31.296875 51.3125 \nL 11.859375 25.53125 \nL 39.796875 25.53125 \nL 39.796875 49.125 \nQ 39.796875 54.390625 40.28125 64.203125 \nz\n\" id=\"IPAexGothic-52\"/>\n       </defs>\n       <use xlink:href=\"#IPAexGothic-48\"/>\n       <use x=\"62.988281\" xlink:href=\"#IPAexGothic-46\"/>\n       <use x=\"89.404297\" xlink:href=\"#IPAexGothic-52\"/>\n      </g>\n     </g>\n    </g>\n    <g id=\"ytick_6\">\n     <g id=\"line2d_16\">\n      <g>\n       <use style=\"stroke:#000000;stroke-width:0.8;\" x=\"29.439063\" xlink:href=\"#m3970e44277\" y=\"92.335238\"/>\n      </g>\n     </g>\n     <g id=\"text_16\">\n      <!-- 0.5 -->\n      <g transform=\"translate(7.2 96.080551)scale(0.1 -0.1)\">\n       <defs>\n        <path d=\"M 18.40625 40.671875 \nQ 25.53125 46.296875 33.9375 46.296875 \nQ 44 46.296875 50.640625 39.5 \nQ 56.84375 33.015625 56.84375 23.390625 \nQ 56.84375 14.65625 51.515625 8.015625 \nQ 44.828125 -0.484375 31.734375 -0.484375 \nQ 14.984375 -0.484375 7.328125 12.25 \nL 14.65625 16.0625 \nQ 20.453125 6.78125 31.453125 6.78125 \nQ 38.53125 6.78125 43.265625 11.1875 \nQ 48.140625 15.828125 48.140625 23.484375 \nQ 48.140625 30.71875 43.84375 35.015625 \nQ 39.359375 39.5 32.125 39.5 \nQ 21.96875 39.5 16.75 31.6875 \nL 9.234375 32.671875 \nL 13.8125 72.40625 \nL 53.21875 72.40625 \nL 53.21875 64.890625 \nL 20.953125 64.890625 \nL 17.71875 40.671875 \nz\n\" id=\"IPAexGothic-53\"/>\n       </defs>\n       <use xlink:href=\"#IPAexGothic-48\"/>\n       <use x=\"62.988281\" xlink:href=\"#IPAexGothic-46\"/>\n       <use x=\"89.404297\" xlink:href=\"#IPAexGothic-53\"/>\n      </g>\n     </g>\n    </g>\n    <g id=\"ytick_7\">\n     <g id=\"line2d_17\">\n      <g>\n       <use style=\"stroke:#000000;stroke-width:0.8;\" x=\"29.439063\" xlink:href=\"#m3970e44277\" y=\"65.874286\"/>\n      </g>\n     </g>\n     <g id=\"text_17\">\n      <!-- 0.6 -->\n      <g transform=\"translate(7.2 69.619598)scale(0.1 -0.1)\">\n       <defs>\n        <path d=\"M 16.5 36.375 \nQ 23.578125 46.578125 34.90625 46.578125 \nQ 45.40625 46.578125 51.8125 39.265625 \nQ 57.421875 32.90625 57.421875 23.78125 \nQ 57.421875 13.8125 51.125 6.78125 \nQ 44.578125 -0.484375 34.03125 -0.484375 \nQ 21.484375 -0.484375 14.40625 9.078125 \nQ 7.515625 18.40625 7.515625 34.8125 \nQ 7.515625 53.515625 15.828125 64.203125 \nQ 23.34375 73.828125 35.5 73.828125 \nQ 49.859375 73.828125 56.390625 62.890625 \nL 49.21875 58.984375 \nQ 45.21875 66.65625 35.9375 66.65625 \nQ 17.484375 66.65625 16.109375 36.375 \nz\nM 33.453125 39.796875 \nQ 26.3125 39.796875 21.625 34.46875 \nQ 17.4375 29.6875 17.4375 24.078125 \nQ 17.4375 18.0625 21.140625 13.1875 \nQ 26.125 6.6875 33.734375 6.6875 \nQ 41.703125 6.6875 45.953125 13.1875 \nQ 48.828125 17.625 48.828125 23.484375 \nQ 48.828125 30.375 45.015625 34.8125 \nQ 40.625 39.796875 33.453125 39.796875 \nz\n\" id=\"IPAexGothic-54\"/>\n       </defs>\n       <use xlink:href=\"#IPAexGothic-48\"/>\n       <use x=\"62.988281\" xlink:href=\"#IPAexGothic-46\"/>\n       <use x=\"89.404297\" xlink:href=\"#IPAexGothic-54\"/>\n      </g>\n     </g>\n    </g>\n    <g id=\"ytick_8\">\n     <g id=\"line2d_18\">\n      <g>\n       <use style=\"stroke:#000000;stroke-width:0.8;\" x=\"29.439063\" xlink:href=\"#m3970e44277\" y=\"39.413333\"/>\n      </g>\n     </g>\n     <g id=\"text_18\">\n      <!-- 0.7 -->\n      <g transform=\"translate(7.2 43.158646)scale(0.1 -0.1)\">\n       <defs>\n        <path d=\"M 56.203125 66.609375 \nQ 34.96875 32.90625 27.78125 0.984375 \nL 17.671875 0.984375 \nQ 24.703125 28.65625 46.09375 64.5 \nL 6.6875 64.5 \nL 6.6875 72.40625 \nL 56.203125 72.40625 \nz\n\" id=\"IPAexGothic-55\"/>\n       </defs>\n       <use xlink:href=\"#IPAexGothic-48\"/>\n       <use x=\"62.988281\" xlink:href=\"#IPAexGothic-46\"/>\n       <use x=\"89.404297\" xlink:href=\"#IPAexGothic-55\"/>\n      </g>\n     </g>\n    </g>\n    <g id=\"ytick_9\">\n     <g id=\"line2d_19\">\n      <g>\n       <use style=\"stroke:#000000;stroke-width:0.8;\" x=\"29.439063\" xlink:href=\"#m3970e44277\" y=\"12.952381\"/>\n      </g>\n     </g>\n     <g id=\"text_19\">\n      <!-- 0.8 -->\n      <g transform=\"translate(7.2 16.697693)scale(0.1 -0.1)\">\n       <defs>\n        <path d=\"M 39.703125 37.890625 \nQ 57.8125 31.734375 57.8125 18.703125 \nQ 57.8125 8.453125 48.4375 3.078125 \nQ 41.609375 -0.875 31.5 -0.875 \nQ 21.34375 -0.875 14.5 3.078125 \nQ 5.421875 8.296875 5.421875 18.40625 \nQ 5.421875 31.0625 22.015625 37.203125 \nL 22.015625 37.5 \nQ 7.515625 42.71875 7.515625 54.828125 \nQ 7.515625 64.0625 15.328125 69.625 \nQ 21.96875 74.3125 31.546875 74.3125 \nQ 42.234375 74.3125 48.921875 68.796875 \nQ 55.515625 63.578125 55.515625 55.71875 \nQ 55.515625 42.28125 39.703125 38.1875 \nz\nM 31.59375 41.015625 \nQ 46.828125 44.625 46.828125 55.125 \nQ 46.828125 61.1875 41.796875 64.84375 \nQ 37.703125 67.921875 31.5 67.921875 \nQ 25.09375 67.921875 20.796875 64.5 \nQ 16.40625 60.890625 16.40625 55.03125 \nQ 16.40625 49.21875 21.09375 45.703125 \nQ 23.34375 43.890625 26.90625 42.53125 \nQ 31 40.875 31.59375 41.015625 \nz\nM 30.90625 34.515625 \nQ 14.40625 30.171875 14.40625 19 \nQ 14.40625 12.109375 20.515625 8.6875 \nQ 25.09375 6.109375 31.390625 6.109375 \nQ 40.234375 6.109375 45.015625 10.890625 \nQ 48.53125 14.40625 48.53125 19.53125 \nQ 48.53125 24.90625 43.65625 28.90625 \nQ 40.765625 31.15625 36.71875 32.8125 \nQ 31.984375 34.71875 30.90625 34.515625 \nz\n\" id=\"IPAexGothic-56\"/>\n       </defs>\n       <use xlink:href=\"#IPAexGothic-48\"/>\n       <use x=\"62.988281\" xlink:href=\"#IPAexGothic-46\"/>\n       <use x=\"89.404297\" xlink:href=\"#IPAexGothic-56\"/>\n      </g>\n     </g>\n    </g>\n   </g>\n   <g id=\"patch_13\">\n    <path d=\"M 29.439063 224.64 \nL 29.439063 7.2 \n\" style=\"fill:none;stroke:#000000;stroke-linecap:square;stroke-linejoin:miter;stroke-width:0.8;\"/>\n   </g>\n   <g id=\"patch_14\">\n    <path d=\"M 364.239063 224.64 \nL 364.239063 7.2 \n\" style=\"fill:none;stroke:#000000;stroke-linecap:square;stroke-linejoin:miter;stroke-width:0.8;\"/>\n   </g>\n   <g id=\"patch_15\">\n    <path d=\"M 29.439063 224.64 \nL 364.239063 224.64 \n\" style=\"fill:none;stroke:#000000;stroke-linecap:square;stroke-linejoin:miter;stroke-width:0.8;\"/>\n   </g>\n   <g id=\"patch_16\">\n    <path d=\"M 29.439063 7.2 \nL 364.239063 7.2 \n\" style=\"fill:none;stroke:#000000;stroke-linecap:square;stroke-linejoin:miter;stroke-width:0.8;\"/>\n   </g>\n  </g>\n </g>\n <defs>\n  <clipPath id=\"p6cda2d4599\">\n   <rect height=\"217.44\" width=\"334.8\" x=\"29.439063\" y=\"7.2\"/>\n  </clipPath>\n </defs>\n</svg>\n",
      "image/png": "[encoded data removed]"
     },
     "metadata": {
      "needs_background": "light"
     }
    }
   ],
   "source": [
    "cat_colocate = defaultdict(int)\n",
    "cat_count = 0\n",
    "for sen in neko: \n",
    "    if \"猫\" in tuple(map(lambda x: x[\"base\"], sen)):\n",
    "        cat_count += 1\n",
    "        appeared = set()\n",
    "        for word in sen:\n",
    "            if word[\"pos\"] != \"記号\" and word[\"base\"] not in appeared:\n",
    "                appeared.add(word[\"base\"])\n",
    "        for word_base in appeared:\n",
    "            cat_colocate[word_base] += 1\n",
    "cat_sorted = sorted(cat_colocate.items(), key=lambda x:-x[1])\n",
    "cat_sorted = list(map(lambda x: (x[0], x[1]/cat_count), cat_sorted))\n",
    "print(top_cat := cat_sorted[1:11])  # 1 番目は \"猫\" = 1.0\n",
    "\n",
    "topcatT = [list(map(lambda x:x[0], top_cat)), list(map(lambda x:x[1], top_cat))]\n",
    "plt.bar(*topcatT, align=\"center\")"
   ]
  },
  {
   "cell_type": "markdown",
   "metadata": {},
   "source": [
    "## 38. ヒストグラム\n",
    "\n",
    "単語の出現頻度のヒストグラムを描け．ただし，横軸は出現頻度を表し，1から単語の出現頻度の最大値までの線形目盛とする．縦軸はx軸で示される出現頻度となった単語の異なり数（種類数）である．"
   ]
  },
  {
   "cell_type": "code",
   "execution_count": 52,
   "metadata": {
    "tags": []
   },
   "outputs": [
    {
     "output_type": "error",
     "ename": "NameError",
     "evalue": "name 'sns' is not defined",
     "traceback": [
      "\u001b[0;31m---------------------------------------------------------------------------\u001b[0m",
      "\u001b[0;31mNameError\u001b[0m                                 Traceback (most recent call last)",
      "\u001b[0;32m<ipython-input-52-9ad37bd34fa3>\u001b[0m in \u001b[0;36m<module>\u001b[0;34m\u001b[0m\n\u001b[1;32m      1\u001b[0m \u001b[0mhistdata\u001b[0m \u001b[0;34m=\u001b[0m \u001b[0msorted\u001b[0m\u001b[0;34m(\u001b[0m\u001b[0mlist\u001b[0m\u001b[0;34m(\u001b[0m\u001b[0mword_count\u001b[0m\u001b[0;34m.\u001b[0m\u001b[0mvalues\u001b[0m\u001b[0;34m(\u001b[0m\u001b[0;34m)\u001b[0m\u001b[0;34m)\u001b[0m\u001b[0;34m,\u001b[0m\u001b[0mreverse\u001b[0m\u001b[0;34m=\u001b[0m\u001b[0;32mTrue\u001b[0m\u001b[0;34m)\u001b[0m\u001b[0;34m\u001b[0m\u001b[0;34m\u001b[0m\u001b[0m\n\u001b[0;32m----> 2\u001b[0;31m \u001b[0msns\u001b[0m\u001b[0;34m.\u001b[0m\u001b[0mdistplot\u001b[0m\u001b[0;34m(\u001b[0m\u001b[0mhistdata\u001b[0m\u001b[0;34m,\u001b[0m \u001b[0mkde\u001b[0m\u001b[0;34m=\u001b[0m\u001b[0;32mFalse\u001b[0m\u001b[0;34m,\u001b[0m \u001b[0mrug\u001b[0m\u001b[0;34m=\u001b[0m\u001b[0;32mFalse\u001b[0m\u001b[0;34m)\u001b[0m\u001b[0;34m\u001b[0m\u001b[0;34m\u001b[0m\u001b[0m\n\u001b[0m",
      "\u001b[0;31mNameError\u001b[0m: name 'sns' is not defined"
     ]
    }
   ],
   "source": [
    "histdata = sorted(list(word_count.values()),reverse=True)\n",
    "sns.distplot(histdata, kde=False, rug=False)"
   ]
  },
  {
   "cell_type": "code",
   "execution_count": 53,
   "metadata": {},
   "outputs": [
    {
     "output_type": "error",
     "ename": "NameError",
     "evalue": "name 'sns' is not defined",
     "traceback": [
      "\u001b[0;31m---------------------------------------------------------------------------\u001b[0m",
      "\u001b[0;31mNameError\u001b[0m                                 Traceback (most recent call last)",
      "\u001b[0;32m<ipython-input-53-4f98f2294c6a>\u001b[0m in \u001b[0;36m<module>\u001b[0;34m\u001b[0m\n\u001b[0;32m----> 1\u001b[0;31m \u001b[0msns\u001b[0m\u001b[0;34m.\u001b[0m\u001b[0mdistplot\u001b[0m\u001b[0;34m(\u001b[0m\u001b[0mhistdata\u001b[0m\u001b[0;34m[\u001b[0m\u001b[0;36m100\u001b[0m\u001b[0;34m:\u001b[0m\u001b[0;34m]\u001b[0m\u001b[0;34m,\u001b[0m \u001b[0mbins\u001b[0m\u001b[0;34m=\u001b[0m\u001b[0;36m100\u001b[0m\u001b[0;34m,\u001b[0m \u001b[0mkde\u001b[0m\u001b[0;34m=\u001b[0m\u001b[0;32mFalse\u001b[0m\u001b[0;34m,\u001b[0m \u001b[0mrug\u001b[0m\u001b[0;34m=\u001b[0m\u001b[0;32mFalse\u001b[0m\u001b[0;34m)\u001b[0m\u001b[0;34m\u001b[0m\u001b[0;34m\u001b[0m\u001b[0m\n\u001b[0m",
      "\u001b[0;31mNameError\u001b[0m: name 'sns' is not defined"
     ]
    }
   ],
   "source": [
    "sns.distplot(histdata[100:], bins=100, kde=False, rug=False)\n"
   ]
  },
  {
   "cell_type": "markdown",
   "metadata": {},
   "source": [
    "## 39. Zipfの法則\n",
    "\n",
    "単語の出現頻度順位を横軸，その出現頻度を縦軸として，両対数グラフをプロットせよ．"
   ]
  },
  {
   "cell_type": "code",
   "execution_count": 54,
   "metadata": {},
   "outputs": [
    {
     "output_type": "display_data",
     "data": {
      "text/plain": "<Figure size 432x288 with 1 Axes>",
      "image/svg+xml": "<?xml version=\"1.0\" encoding=\"utf-8\" standalone=\"no\"?>\n<!DOCTYPE svg PUBLIC \"-//W3C//DTD SVG 1.1//EN\"\n  \"http://www.w3.org/Graphics/SVG/1.1/DTD/svg11.dtd\">\n<!-- Created with matplotlib (https://matplotlib.org/) -->\n<svg height=\"261.62125pt\" version=\"1.1\" viewBox=\"0 0 386.990625 261.62125\" width=\"386.990625pt\" xmlns=\"http://www.w3.org/2000/svg\" xmlns:xlink=\"http://www.w3.org/1999/xlink\">\n <metadata>\n  <rdf:RDF xmlns:cc=\"http://creativecommons.org/ns#\" xmlns:dc=\"http://purl.org/dc/elements/1.1/\" xmlns:rdf=\"http://www.w3.org/1999/02/22-rdf-syntax-ns#\">\n   <cc:Work>\n    <dc:type rdf:resource=\"http://purl.org/dc/dcmitype/StillImage\"/>\n    <dc:date>2020-07-19T20:45:58.742242</dc:date>\n    <dc:format>image/svg+xml</dc:format>\n    <dc:creator>\n     <cc:Agent>\n      <dc:title>Matplotlib v3.3.0, https://matplotlib.org/</dc:title>\n     </cc:Agent>\n    </dc:creator>\n   </cc:Work>\n  </rdf:RDF>\n </metadata>\n <defs>\n  <style type=\"text/css\">*{stroke-linecap:butt;stroke-linejoin:round;}</style>\n </defs>\n <g id=\"figure_1\">\n  <g id=\"patch_1\">\n   <path d=\"M 0 261.62125 \nL 386.990625 261.62125 \nL 386.990625 0 \nL 0 0 \nz\n\" style=\"fill:none;\"/>\n  </g>\n  <g id=\"axes_1\">\n   <g id=\"patch_2\">\n    <path d=\"M 44.990625 224.64 \nL 379.790625 224.64 \nL 379.790625 7.2 \nL 44.990625 7.2 \nz\n\" style=\"fill:#ffffff;\"/>\n   </g>\n   <g id=\"matplotlib.axis_1\">\n    <g id=\"xtick_1\">\n     <g id=\"line2d_1\">\n      <defs>\n       <path d=\"M 0 0 \nL 0 3.5 \n\" id=\"m5e2d64e392\" style=\"stroke:#000000;stroke-width:0.8;\"/>\n      </defs>\n      <g>\n       <use style=\"stroke:#000000;stroke-width:0.8;\" x=\"60.208807\" xlink:href=\"#m5e2d64e392\" y=\"224.64\"/>\n      </g>\n     </g>\n     <g id=\"text_1\">\n      <!-- $\\mathdefault{10^{0}}$ -->\n      <g transform=\"translate(51.508807 239.130625)scale(0.1 -0.1)\">\n       <defs>\n        <path d=\"M 38.484375 0.984375 \nL 29.6875 0.984375 \nL 29.6875 64.109375 \nQ 21.4375 61.28125 12.3125 59.328125 \nL 10.6875 66.109375 \nQ 23.734375 69.390625 32.90625 73.921875 \nL 38.484375 73.921875 \nz\n\" id=\"IPAexGothic-49\"/>\n        <path d=\"M 31.84375 73.828125 \nQ 45.015625 73.828125 52.09375 61.625 \nQ 57.71875 51.953125 57.71875 36.625 \nQ 57.71875 21.4375 52.09375 11.578125 \nQ 45.125 -0.484375 31.5 -0.484375 \nQ 17.921875 -0.484375 10.9375 11.578125 \nQ 5.328125 21.4375 5.328125 36.71875 \nQ 5.328125 58.015625 15.625 67.71875 \nQ 22.171875 73.828125 31.84375 73.828125 \nz\nM 31.5 66.65625 \nQ 23.6875 66.65625 19.1875 58.734375 \nQ 14.59375 50.734375 14.59375 36.625 \nQ 14.59375 22.75 19.09375 14.796875 \nQ 23.640625 6.984375 31.5 6.984375 \nQ 40.921875 6.984375 45.453125 18.015625 \nQ 48.4375 25.34375 48.4375 37.109375 \nQ 48.4375 50.875 43.84375 58.734375 \nQ 39.203125 66.65625 31.5 66.65625 \nz\n\" id=\"IPAexGothic-48\"/>\n       </defs>\n       <use transform=\"translate(0 0.773438)\" xlink:href=\"#IPAexGothic-49\"/>\n       <use transform=\"translate(62.988281 0.773438)\" xlink:href=\"#IPAexGothic-48\"/>\n       <use transform=\"translate(126.865234 36.320312)scale(0.7)\" xlink:href=\"#IPAexGothic-48\"/>\n      </g>\n     </g>\n    </g>\n    <g id=\"xtick_2\">\n     <g id=\"line2d_2\">\n      <g>\n       <use style=\"stroke:#000000;stroke-width:0.8;\" x=\"134.494792\" xlink:href=\"#m5e2d64e392\" y=\"224.64\"/>\n      </g>\n     </g>\n     <g id=\"text_2\">\n      <!-- $\\mathdefault{10^{1}}$ -->\n      <g transform=\"translate(125.794792 239.130625)scale(0.1 -0.1)\">\n       <use transform=\"translate(0 0.707813)\" xlink:href=\"#IPAexGothic-49\"/>\n       <use transform=\"translate(62.988281 0.707813)\" xlink:href=\"#IPAexGothic-48\"/>\n       <use transform=\"translate(126.865234 36.254688)scale(0.7)\" xlink:href=\"#IPAexGothic-49\"/>\n      </g>\n     </g>\n    </g>\n    <g id=\"xtick_3\">\n     <g id=\"line2d_3\">\n      <g>\n       <use style=\"stroke:#000000;stroke-width:0.8;\" x=\"208.780777\" xlink:href=\"#m5e2d64e392\" y=\"224.64\"/>\n      </g>\n     </g>\n     <g id=\"text_3\">\n      <!-- $\\mathdefault{10^{2}}$ -->\n      <g transform=\"translate(200.080777 239.130625)scale(0.1 -0.1)\">\n       <defs>\n        <path d=\"M 57.171875 0.984375 \nL 6.984375 0.984375 \nL 6.984375 9.28125 \nQ 12.890625 23.046875 29.59375 34.421875 \nL 32.375 36.28125 \nQ 40.921875 42.140625 43.609375 45.40625 \nQ 46.6875 49.265625 46.6875 53.8125 \nQ 46.6875 58.9375 43.0625 62.546875 \nQ 39.0625 66.546875 32.5625 66.546875 \nQ 19.53125 66.546875 15.484375 52 \nL 7.765625 54.78125 \nQ 13.328125 73.828125 33.0625 73.828125 \nQ 43.84375 73.828125 50.25 67.4375 \nQ 55.859375 61.671875 55.859375 53.515625 \nQ 55.859375 47.46875 52.25 42.53125 \nQ 48.921875 37.75 36.96875 30.28125 \nL 34.859375 29 \nQ 19.625 19.578125 15.28125 8.890625 \nL 57.171875 8.890625 \nz\n\" id=\"IPAexGothic-50\"/>\n       </defs>\n       <use transform=\"translate(0 0.773438)\" xlink:href=\"#IPAexGothic-49\"/>\n       <use transform=\"translate(62.988281 0.773438)\" xlink:href=\"#IPAexGothic-48\"/>\n       <use transform=\"translate(126.865234 36.320312)scale(0.7)\" xlink:href=\"#IPAexGothic-50\"/>\n      </g>\n     </g>\n    </g>\n    <g id=\"xtick_4\">\n     <g id=\"line2d_4\">\n      <g>\n       <use style=\"stroke:#000000;stroke-width:0.8;\" x=\"283.066761\" xlink:href=\"#m5e2d64e392\" y=\"224.64\"/>\n      </g>\n     </g>\n     <g id=\"text_4\">\n      <!-- $\\mathdefault{10^{3}}$ -->\n      <g transform=\"translate(274.366761 239.130625)scale(0.1 -0.1)\">\n       <defs>\n        <path d=\"M 37.203125 37.796875 \nQ 54.78125 34.625 54.78125 19.96875 \nQ 54.78125 11.1875 48.875 5.5625 \nQ 42.328125 -0.484375 30.375 -0.484375 \nQ 12.453125 -0.484375 4.5 13.765625 \nL 11.8125 17.671875 \nQ 17.328125 6.890625 30.28125 6.890625 \nQ 37.890625 6.890625 42.09375 10.796875 \nQ 46.09375 14.5 46.09375 20.171875 \nQ 46.09375 26.859375 40.09375 30.90625 \nQ 34.625 34.578125 25.6875 34.578125 \nL 21.296875 34.578125 \nL 21.296875 41.703125 \nL 25.875 41.703125 \nQ 34.859375 41.703125 39.59375 45.125 \nQ 44.671875 48.734375 44.671875 54.828125 \nQ 44.671875 61.46875 38.96875 64.65625 \nQ 35.296875 66.84375 30.171875 66.84375 \nQ 19.34375 66.84375 14.109375 55.90625 \nL 6.78125 59.421875 \nQ 14.015625 73.828125 30.28125 73.828125 \nQ 40.578125 73.828125 46.96875 68.65625 \nQ 53.375 63.578125 53.375 55.21875 \nQ 53.375 47.3125 47.171875 42.28125 \nQ 43.171875 39.0625 37.203125 38.1875 \nz\n\" id=\"IPAexGothic-51\"/>\n       </defs>\n       <use transform=\"translate(0 0.773438)\" xlink:href=\"#IPAexGothic-49\"/>\n       <use transform=\"translate(62.988281 0.773438)\" xlink:href=\"#IPAexGothic-48\"/>\n       <use transform=\"translate(126.865234 36.320312)scale(0.7)\" xlink:href=\"#IPAexGothic-51\"/>\n      </g>\n     </g>\n    </g>\n    <g id=\"xtick_5\">\n     <g id=\"line2d_5\">\n      <g>\n       <use style=\"stroke:#000000;stroke-width:0.8;\" x=\"357.352746\" xlink:href=\"#m5e2d64e392\" y=\"224.64\"/>\n      </g>\n     </g>\n     <g id=\"text_5\">\n      <!-- $\\mathdefault{10^{4}}$ -->\n      <g transform=\"translate(348.652746 239.130625)scale(0.1 -0.1)\">\n       <defs>\n        <path d=\"M 59.578125 18.109375 \nL 47.796875 18.109375 \nL 47.796875 0.984375 \nL 39.796875 0.984375 \nL 39.796875 18.109375 \nL 3.078125 18.109375 \nL 3.078125 26.125 \nL 38.375 73.09375 \nL 47.796875 73.09375 \nL 47.796875 25.53125 \nL 59.578125 25.53125 \nz\nM 40.28125 64.203125 \nL 39.984375 64.203125 \nQ 35.59375 57.125 31.296875 51.3125 \nL 11.859375 25.53125 \nL 39.796875 25.53125 \nL 39.796875 49.125 \nQ 39.796875 54.390625 40.28125 64.203125 \nz\n\" id=\"IPAexGothic-52\"/>\n       </defs>\n       <use transform=\"translate(0 0.2875)\" xlink:href=\"#IPAexGothic-49\"/>\n       <use transform=\"translate(62.988281 0.2875)\" xlink:href=\"#IPAexGothic-48\"/>\n       <use transform=\"translate(126.865234 35.834375)scale(0.7)\" xlink:href=\"#IPAexGothic-52\"/>\n      </g>\n     </g>\n    </g>\n    <g id=\"xtick_6\">\n     <g id=\"line2d_6\">\n      <defs>\n       <path d=\"M 0 0 \nL 0 2 \n\" id=\"mf7e934db78\" style=\"stroke:#000000;stroke-width:0.6;\"/>\n      </defs>\n      <g>\n       <use style=\"stroke:#000000;stroke-width:0.6;\" x=\"48.701762\" xlink:href=\"#mf7e934db78\" y=\"224.64\"/>\n      </g>\n     </g>\n    </g>\n    <g id=\"xtick_7\">\n     <g id=\"line2d_7\">\n      <g>\n       <use style=\"stroke:#000000;stroke-width:0.6;\" x=\"53.009751\" xlink:href=\"#mf7e934db78\" y=\"224.64\"/>\n      </g>\n     </g>\n    </g>\n    <g id=\"xtick_8\">\n     <g id=\"line2d_8\">\n      <g>\n       <use style=\"stroke:#000000;stroke-width:0.6;\" x=\"56.809667\" xlink:href=\"#mf7e934db78\" y=\"224.64\"/>\n      </g>\n     </g>\n    </g>\n    <g id=\"xtick_9\">\n     <g id=\"line2d_9\">\n      <g>\n       <use style=\"stroke:#000000;stroke-width:0.6;\" x=\"82.571117\" xlink:href=\"#mf7e934db78\" y=\"224.64\"/>\n      </g>\n     </g>\n    </g>\n    <g id=\"xtick_10\">\n     <g id=\"line2d_10\">\n      <g>\n       <use style=\"stroke:#000000;stroke-width:0.6;\" x=\"95.652229\" xlink:href=\"#mf7e934db78\" y=\"224.64\"/>\n      </g>\n     </g>\n    </g>\n    <g id=\"xtick_11\">\n     <g id=\"line2d_11\">\n      <g>\n       <use style=\"stroke:#000000;stroke-width:0.6;\" x=\"104.933426\" xlink:href=\"#mf7e934db78\" y=\"224.64\"/>\n      </g>\n     </g>\n    </g>\n    <g id=\"xtick_12\">\n     <g id=\"line2d_12\">\n      <g>\n       <use style=\"stroke:#000000;stroke-width:0.6;\" x=\"112.132482\" xlink:href=\"#mf7e934db78\" y=\"224.64\"/>\n      </g>\n     </g>\n    </g>\n    <g id=\"xtick_13\">\n     <g id=\"line2d_13\">\n      <g>\n       <use style=\"stroke:#000000;stroke-width:0.6;\" x=\"118.014539\" xlink:href=\"#mf7e934db78\" y=\"224.64\"/>\n      </g>\n     </g>\n    </g>\n    <g id=\"xtick_14\">\n     <g id=\"line2d_14\">\n      <g>\n       <use style=\"stroke:#000000;stroke-width:0.6;\" x=\"122.987747\" xlink:href=\"#mf7e934db78\" y=\"224.64\"/>\n      </g>\n     </g>\n    </g>\n    <g id=\"xtick_15\">\n     <g id=\"line2d_15\">\n      <g>\n       <use style=\"stroke:#000000;stroke-width:0.6;\" x=\"127.295736\" xlink:href=\"#mf7e934db78\" y=\"224.64\"/>\n      </g>\n     </g>\n    </g>\n    <g id=\"xtick_16\">\n     <g id=\"line2d_16\">\n      <g>\n       <use style=\"stroke:#000000;stroke-width:0.6;\" x=\"131.095651\" xlink:href=\"#mf7e934db78\" y=\"224.64\"/>\n      </g>\n     </g>\n    </g>\n    <g id=\"xtick_17\">\n     <g id=\"line2d_17\">\n      <g>\n       <use style=\"stroke:#000000;stroke-width:0.6;\" x=\"156.857101\" xlink:href=\"#mf7e934db78\" y=\"224.64\"/>\n      </g>\n     </g>\n    </g>\n    <g id=\"xtick_18\">\n     <g id=\"line2d_18\">\n      <g>\n       <use style=\"stroke:#000000;stroke-width:0.6;\" x=\"169.938214\" xlink:href=\"#mf7e934db78\" y=\"224.64\"/>\n      </g>\n     </g>\n    </g>\n    <g id=\"xtick_19\">\n     <g id=\"line2d_19\">\n      <g>\n       <use style=\"stroke:#000000;stroke-width:0.6;\" x=\"179.219411\" xlink:href=\"#mf7e934db78\" y=\"224.64\"/>\n      </g>\n     </g>\n    </g>\n    <g id=\"xtick_20\">\n     <g id=\"line2d_20\">\n      <g>\n       <use style=\"stroke:#000000;stroke-width:0.6;\" x=\"186.418467\" xlink:href=\"#mf7e934db78\" y=\"224.64\"/>\n      </g>\n     </g>\n    </g>\n    <g id=\"xtick_21\">\n     <g id=\"line2d_21\">\n      <g>\n       <use style=\"stroke:#000000;stroke-width:0.6;\" x=\"192.300524\" xlink:href=\"#mf7e934db78\" y=\"224.64\"/>\n      </g>\n     </g>\n    </g>\n    <g id=\"xtick_22\">\n     <g id=\"line2d_22\">\n      <g>\n       <use style=\"stroke:#000000;stroke-width:0.6;\" x=\"197.273732\" xlink:href=\"#mf7e934db78\" y=\"224.64\"/>\n      </g>\n     </g>\n    </g>\n    <g id=\"xtick_23\">\n     <g id=\"line2d_23\">\n      <g>\n       <use style=\"stroke:#000000;stroke-width:0.6;\" x=\"201.581721\" xlink:href=\"#mf7e934db78\" y=\"224.64\"/>\n      </g>\n     </g>\n    </g>\n    <g id=\"xtick_24\">\n     <g id=\"line2d_24\">\n      <g>\n       <use style=\"stroke:#000000;stroke-width:0.6;\" x=\"205.381636\" xlink:href=\"#mf7e934db78\" y=\"224.64\"/>\n      </g>\n     </g>\n    </g>\n    <g id=\"xtick_25\">\n     <g id=\"line2d_25\">\n      <g>\n       <use style=\"stroke:#000000;stroke-width:0.6;\" x=\"231.143086\" xlink:href=\"#mf7e934db78\" y=\"224.64\"/>\n      </g>\n     </g>\n    </g>\n    <g id=\"xtick_26\">\n     <g id=\"line2d_26\">\n      <g>\n       <use style=\"stroke:#000000;stroke-width:0.6;\" x=\"244.224199\" xlink:href=\"#mf7e934db78\" y=\"224.64\"/>\n      </g>\n     </g>\n    </g>\n    <g id=\"xtick_27\">\n     <g id=\"line2d_27\">\n      <g>\n       <use style=\"stroke:#000000;stroke-width:0.6;\" x=\"253.505396\" xlink:href=\"#mf7e934db78\" y=\"224.64\"/>\n      </g>\n     </g>\n    </g>\n    <g id=\"xtick_28\">\n     <g id=\"line2d_28\">\n      <g>\n       <use style=\"stroke:#000000;stroke-width:0.6;\" x=\"260.704452\" xlink:href=\"#mf7e934db78\" y=\"224.64\"/>\n      </g>\n     </g>\n    </g>\n    <g id=\"xtick_29\">\n     <g id=\"line2d_29\">\n      <g>\n       <use style=\"stroke:#000000;stroke-width:0.6;\" x=\"266.586509\" xlink:href=\"#mf7e934db78\" y=\"224.64\"/>\n      </g>\n     </g>\n    </g>\n    <g id=\"xtick_30\">\n     <g id=\"line2d_30\">\n      <g>\n       <use style=\"stroke:#000000;stroke-width:0.6;\" x=\"271.559717\" xlink:href=\"#mf7e934db78\" y=\"224.64\"/>\n      </g>\n     </g>\n    </g>\n    <g id=\"xtick_31\">\n     <g id=\"line2d_31\">\n      <g>\n       <use style=\"stroke:#000000;stroke-width:0.6;\" x=\"275.867706\" xlink:href=\"#mf7e934db78\" y=\"224.64\"/>\n      </g>\n     </g>\n    </g>\n    <g id=\"xtick_32\">\n     <g id=\"line2d_32\">\n      <g>\n       <use style=\"stroke:#000000;stroke-width:0.6;\" x=\"279.667621\" xlink:href=\"#mf7e934db78\" y=\"224.64\"/>\n      </g>\n     </g>\n    </g>\n    <g id=\"xtick_33\">\n     <g id=\"line2d_33\">\n      <g>\n       <use style=\"stroke:#000000;stroke-width:0.6;\" x=\"305.429071\" xlink:href=\"#mf7e934db78\" y=\"224.64\"/>\n      </g>\n     </g>\n    </g>\n    <g id=\"xtick_34\">\n     <g id=\"line2d_34\">\n      <g>\n       <use style=\"stroke:#000000;stroke-width:0.6;\" x=\"318.510184\" xlink:href=\"#mf7e934db78\" y=\"224.64\"/>\n      </g>\n     </g>\n    </g>\n    <g id=\"xtick_35\">\n     <g id=\"line2d_35\">\n      <g>\n       <use style=\"stroke:#000000;stroke-width:0.6;\" x=\"327.791381\" xlink:href=\"#mf7e934db78\" y=\"224.64\"/>\n      </g>\n     </g>\n    </g>\n    <g id=\"xtick_36\">\n     <g id=\"line2d_36\">\n      <g>\n       <use style=\"stroke:#000000;stroke-width:0.6;\" x=\"334.990437\" xlink:href=\"#mf7e934db78\" y=\"224.64\"/>\n      </g>\n     </g>\n    </g>\n    <g id=\"xtick_37\">\n     <g id=\"line2d_37\">\n      <g>\n       <use style=\"stroke:#000000;stroke-width:0.6;\" x=\"340.872493\" xlink:href=\"#mf7e934db78\" y=\"224.64\"/>\n      </g>\n     </g>\n    </g>\n    <g id=\"xtick_38\">\n     <g id=\"line2d_38\">\n      <g>\n       <use style=\"stroke:#000000;stroke-width:0.6;\" x=\"345.845702\" xlink:href=\"#mf7e934db78\" y=\"224.64\"/>\n      </g>\n     </g>\n    </g>\n    <g id=\"xtick_39\">\n     <g id=\"line2d_39\">\n      <g>\n       <use style=\"stroke:#000000;stroke-width:0.6;\" x=\"350.153691\" xlink:href=\"#mf7e934db78\" y=\"224.64\"/>\n      </g>\n     </g>\n    </g>\n    <g id=\"xtick_40\">\n     <g id=\"line2d_40\">\n      <g>\n       <use style=\"stroke:#000000;stroke-width:0.6;\" x=\"353.953606\" xlink:href=\"#mf7e934db78\" y=\"224.64\"/>\n      </g>\n     </g>\n    </g>\n    <g id=\"xtick_41\">\n     <g id=\"line2d_41\">\n      <g>\n       <use style=\"stroke:#000000;stroke-width:0.6;\" x=\"379.715056\" xlink:href=\"#mf7e934db78\" y=\"224.64\"/>\n      </g>\n     </g>\n    </g>\n    <g id=\"text_6\">\n     <!-- 出現頻度順位 -->\n     <g transform=\"translate(182.390625 252.52125)scale(0.1 -0.1)\">\n      <defs>\n       <path d=\"M 53.421875 46.1875 \nL 77 46.1875 \nL 77 70.3125 \nL 84.328125 70.3125 \nL 84.328125 34.421875 \nL 77 34.421875 \nL 77 39.703125 \nL 53.421875 39.703125 \nL 53.421875 6 \nL 81.15625 6 \nL 81.15625 28.328125 \nL 88.328125 28.328125 \nL 88.328125 -6.984375 \nL 81.15625 -6.984375 \nL 81.15625 -0.484375 \nL 18.796875 -0.484375 \nL 18.796875 -6.984375 \nL 11.625 -6.984375 \nL 11.625 28.328125 \nL 18.796875 28.328125 \nL 18.796875 6 \nL 45.90625 6 \nL 45.90625 39.703125 \nL 22.796875 39.703125 \nL 22.796875 34.421875 \nL 15.625 34.421875 \nL 15.625 70.3125 \nL 22.796875 70.3125 \nL 22.796875 46.1875 \nL 45.90625 46.1875 \nL 45.90625 80.375 \nL 53.421875 80.375 \nz\n\" id=\"IPAexGothic-20986\"/>\n       <path d=\"M 74.8125 25.59375 \nL 74.8125 4.890625 \nQ 74.8125 2.390625 76.03125 1.765625 \nQ 77.203125 1.265625 81.296875 1.265625 \nQ 86.28125 1.265625 87.203125 4.15625 \nQ 87.890625 6.25 88.1875 15.765625 \nL 95.015625 12.984375 \nQ 94.390625 0.59375 92.484375 -2.203125 \nQ 90.140625 -5.609375 79.9375 -5.609375 \nQ 71.34375 -5.609375 69.4375 -3.421875 \nQ 67.921875 -1.90625 67.921875 1.515625 \nL 67.921875 25.59375 \nL 60.109375 25.59375 \nQ 59.671875 12.40625 54.203125 4.890625 \nQ 48.96875 -2.25 36.421875 -6.890625 \nL 31.6875 -0.875 \nQ 44.390625 2.875 48.96875 9.71875 \nQ 52.78125 15.328125 53.421875 25.59375 \nL 43.609375 25.59375 \nL 43.609375 78.90625 \nL 87.3125 78.90625 \nL 87.3125 25.59375 \nz\nM 50.296875 72.90625 \nL 50.296875 63.1875 \nL 80.609375 63.1875 \nL 80.609375 72.90625 \nz\nM 50.296875 57.28125 \nL 50.296875 47.609375 \nL 80.609375 47.609375 \nL 80.609375 57.28125 \nz\nM 50.296875 41.796875 \nL 50.296875 31.59375 \nL 80.609375 31.59375 \nL 80.609375 41.796875 \nz\nM 25.484375 68.609375 \nL 25.484375 47.3125 \nL 36.921875 47.3125 \nL 36.921875 41.109375 \nL 25.484375 41.109375 \nL 25.484375 18.21875 \nQ 33.296875 20.5625 39.890625 22.796875 \nL 40.375 16.609375 \nQ 24.703125 10.546875 6.59375 5.609375 \nL 4 12.59375 \nQ 10.453125 14.015625 18.796875 16.3125 \nL 18.796875 41.109375 \nL 7.171875 41.109375 \nL 7.171875 47.3125 \nL 18.796875 47.3125 \nL 18.796875 68.609375 \nL 6 68.609375 \nL 6 74.90625 \nL 39.3125 74.90625 \nL 39.3125 68.609375 \nz\n\" id=\"IPAexGothic-29694\"/>\n       <path d=\"M 66.40625 62.890625 \nQ 67.921875 69.875 68.40625 72.796875 \nL 48.96875 72.796875 \nL 48.96875 79 \nL 94.390625 79 \nL 94.390625 72.796875 \nL 75.390625 72.796875 \nQ 74.03125 67.140625 72.515625 62.890625 \nL 89.59375 62.890625 \nL 89.59375 12.40625 \nL 54.5 12.40625 \nL 54.5 62.890625 \nz\nM 60.890625 57.078125 \nL 60.890625 48.09375 \nL 83.296875 48.09375 \nL 83.296875 57.078125 \nz\nM 60.890625 42.390625 \nL 60.890625 33.40625 \nL 83.296875 33.40625 \nL 83.296875 42.390625 \nz\nM 60.890625 27.78125 \nL 60.890625 18.21875 \nL 83.296875 18.21875 \nL 83.296875 27.78125 \nz\nM 33.109375 68.5 \nL 46.734375 68.5 \nL 46.734375 62.5 \nL 33.109375 62.5 \nL 33.109375 51.21875 \nL 50.921875 51.21875 \nL 50.921875 45.015625 \nL 33.109375 45.015625 \nL 33.109375 22.3125 \nQ 33.109375 16.109375 25.921875 16.109375 \nQ 21.96875 16.109375 19 16.609375 \nL 18.0625 23.09375 \nQ 20.90625 22.40625 24.421875 22.40625 \nQ 26.703125 22.40625 26.703125 25.34375 \nL 26.703125 45.015625 \nL 4.984375 45.015625 \nL 4.984375 51.21875 \nL 13.28125 51.21875 \nL 13.28125 72.90625 \nL 19.671875 72.90625 \nL 19.671875 51.21875 \nL 26.515625 51.21875 \nL 26.515625 82.90625 \nL 33.109375 82.90625 \nz\nM 47.015625 22.703125 \nQ 43.171875 31.984375 37.3125 39.703125 \nL 42.578125 42.671875 \nQ 48.578125 35.796875 52.875 27 \nz\nM 46.1875 -2.984375 \nQ 57.328125 3.375 63.8125 11.8125 \nL 69.09375 8.40625 \nQ 61.625 -1.3125 50.984375 -7.90625 \nz\nM 90.484375 -6.59375 \nQ 83.296875 1.609375 75.390625 8.203125 \nL 80.078125 12.015625 \nQ 87.3125 7.078125 96.09375 -1.90625 \nz\nM 4.203125 21.78125 \nQ 11.53125 30.328125 14.796875 41.5 \nL 21.1875 39.5 \nQ 16.9375 26.65625 9.078125 16.703125 \nz\nM 7.625 0.09375 \nQ 30.5625 7.125 38.921875 25.984375 \nL 44.921875 22.796875 \nQ 34.8125 2.484375 12.109375 -5.8125 \nz\n\" id=\"IPAexGothic-38971\"/>\n       <path d=\"M 54.9375 72.21875 \nL 90.53125 72.21875 \nL 90.53125 66.109375 \nL 19.96875 66.109375 \nL 19.96875 55.421875 \nL 36.375 55.421875 \nL 36.375 63.140625 \nL 43.109375 63.140625 \nL 43.109375 55.421875 \nL 64.015625 55.421875 \nL 64.015625 63.140625 \nL 70.703125 63.140625 \nL 70.703125 55.421875 \nL 91.015625 55.421875 \nL 91.015625 49.421875 \nL 70.703125 49.421875 \nL 70.703125 35.40625 \nL 36.375 35.40625 \nL 36.375 49.421875 \nL 19.96875 49.421875 \nL 19.96875 42.921875 \nQ 19.96875 22.40625 17.671875 12.109375 \nQ 15.71875 3.171875 9.46875 -6.890625 \nL 4.203125 -0.78125 \nQ 10.203125 8.453125 11.921875 21.578125 \nQ 12.890625 29.203125 12.890625 42.921875 \nL 12.890625 72.21875 \nL 47.40625 72.21875 \nL 47.40625 83.015625 \nL 54.9375 83.015625 \nz\nM 43.109375 49.421875 \nL 43.109375 40.921875 \nL 64.015625 40.921875 \nL 64.015625 49.421875 \nz\nM 56.390625 4.109375 \nQ 43.5 -3.609375 23 -7.71875 \nL 19.09375 -1.515625 \nQ 38.1875 0.984375 50.203125 7.671875 \nQ 39.75 14.203125 33.109375 23.78125 \nL 24.609375 23.78125 \nL 24.609375 29.6875 \nL 76.515625 29.6875 \nL 80.078125 26.5625 \nQ 72.3125 15.53125 62.40625 8.0625 \nQ 74.515625 3.125 92.578125 0.875 \nL 88.09375 -6.203125 \nQ 69.28125 -2.546875 56.390625 4.109375 \nz\nM 40.71875 23.78125 \nQ 46.625 16.3125 55.90625 11.1875 \nQ 65.046875 17.484375 69.09375 23.78125 \nz\n\" id=\"IPAexGothic-24230\"/>\n       <path d=\"M 68.5 62.984375 \nL 88.421875 62.984375 \nL 88.421875 12.3125 \nL 49.125 12.3125 \nL 49.125 62.984375 \nL 62.203125 62.984375 \nQ 63.578125 68.265625 64.3125 72.609375 \nL 44.234375 72.609375 \nL 44.234375 79 \nL 93.703125 79 \nL 93.703125 72.609375 \nL 71.625 72.609375 \nQ 70.0625 66.453125 68.5 62.984375 \nz\nM 81.9375 56.984375 \nL 55.609375 56.984375 \nL 55.609375 48.09375 \nL 81.9375 48.09375 \nz\nM 55.609375 42.28125 \nL 55.609375 33.40625 \nL 81.9375 33.40625 \nL 81.9375 42.28125 \nz\nM 55.609375 27.59375 \nL 55.609375 18.3125 \nL 81.9375 18.3125 \nL 81.9375 27.59375 \nz\nM 9.625 79.984375 \nL 16.015625 79.984375 \nL 16.015625 35.796875 \nQ 16.015625 21.09375 14.890625 12.203125 \nQ 13.625 1.90625 8.84375 -7.71875 \nL 3.515625 -2.09375 \nQ 9.625 9.671875 9.625 33.890625 \nz\nM 21.828125 74.125 \nL 28.125 74.125 \nL 28.125 8.015625 \nL 21.828125 8.015625 \nz\nM 34.328125 80.8125 \nL 40.71875 80.8125 \nL 40.71875 -4.5 \nL 34.328125 -4.5 \nz\nM 42 -2.984375 \nQ 51.65625 2.828125 58.890625 12.015625 \nL 64.59375 8.203125 \nQ 56.15625 -2.09375 47.3125 -8.203125 \nz\nM 89.703125 -7.171875 \nQ 80.171875 2.78125 72.515625 8.109375 \nL 78.21875 12.203125 \nQ 88.53125 4.984375 95.609375 -2.09375 \nz\n\" id=\"IPAexGothic-38918\"/>\n       <path d=\"M 24.46875 57.328125 \nL 24.46875 -6.984375 \nL 17.390625 -6.984375 \nL 17.390625 42.578125 \nQ 13.375 35.75 8.5 29.109375 \nL 4.59375 35.203125 \nQ 18.890625 55.078125 24.859375 81.890625 \nL 31.78125 80.421875 \nQ 28.71875 67.390625 24.46875 57.328125 \nz\nM 63.671875 61.625 \nL 90.484375 61.625 \nL 90.484375 55.125 \nL 31.9375 55.125 \nL 31.9375 61.625 \nL 56.25 61.625 \nL 56.25 79.828125 \nL 63.671875 79.828125 \nz\nM 62.890625 3.515625 \nL 62.984375 4 \nQ 69.625 24.859375 73.296875 50.203125 \nL 81 48.296875 \nQ 76.21875 22.796875 70.0625 3.515625 \nL 93.890625 3.515625 \nL 93.890625 -2.984375 \nL 28.71875 -2.984375 \nL 28.71875 3.515625 \nz\nM 46.875 8.6875 \nQ 43.609375 29.203125 37.984375 46.6875 \nL 45.171875 48.6875 \nQ 50.390625 34.28125 54.78125 11.078125 \nz\n\" id=\"IPAexGothic-20301\"/>\n      </defs>\n      <use xlink:href=\"#IPAexGothic-20986\"/>\n      <use x=\"100\" xlink:href=\"#IPAexGothic-29694\"/>\n      <use x=\"200\" xlink:href=\"#IPAexGothic-38971\"/>\n      <use x=\"300\" xlink:href=\"#IPAexGothic-24230\"/>\n      <use x=\"400\" xlink:href=\"#IPAexGothic-38918\"/>\n      <use x=\"500\" xlink:href=\"#IPAexGothic-20301\"/>\n     </g>\n    </g>\n   </g>\n   <g id=\"matplotlib.axis_2\">\n    <g id=\"ytick_1\">\n     <g id=\"line2d_42\">\n      <defs>\n       <path d=\"M 0 0 \nL -3.5 0 \n\" id=\"m78349831f4\" style=\"stroke:#000000;stroke-width:0.8;\"/>\n      </defs>\n      <g>\n       <use style=\"stroke:#000000;stroke-width:0.8;\" x=\"44.990625\" xlink:href=\"#m78349831f4\" y=\"214.756364\"/>\n      </g>\n     </g>\n     <g id=\"text_7\">\n      <!-- $\\mathdefault{10^{0}}$ -->\n      <g transform=\"translate(20.590625 218.501676)scale(0.1 -0.1)\">\n       <use transform=\"translate(0 0.773438)\" xlink:href=\"#IPAexGothic-49\"/>\n       <use transform=\"translate(62.988281 0.773438)\" xlink:href=\"#IPAexGothic-48\"/>\n       <use transform=\"translate(126.865234 36.320312)scale(0.7)\" xlink:href=\"#IPAexGothic-48\"/>\n      </g>\n     </g>\n    </g>\n    <g id=\"ytick_2\">\n     <g id=\"line2d_43\">\n      <g>\n       <use style=\"stroke:#000000;stroke-width:0.8;\" x=\"44.990625\" xlink:href=\"#m78349831f4\" y=\"164.826922\"/>\n      </g>\n     </g>\n     <g id=\"text_8\">\n      <!-- $\\mathdefault{10^{1}}$ -->\n      <g transform=\"translate(20.590625 168.572234)scale(0.1 -0.1)\">\n       <use transform=\"translate(0 0.707813)\" xlink:href=\"#IPAexGothic-49\"/>\n       <use transform=\"translate(62.988281 0.707813)\" xlink:href=\"#IPAexGothic-48\"/>\n       <use transform=\"translate(126.865234 36.254688)scale(0.7)\" xlink:href=\"#IPAexGothic-49\"/>\n      </g>\n     </g>\n    </g>\n    <g id=\"ytick_3\">\n     <g id=\"line2d_44\">\n      <g>\n       <use style=\"stroke:#000000;stroke-width:0.8;\" x=\"44.990625\" xlink:href=\"#m78349831f4\" y=\"114.89748\"/>\n      </g>\n     </g>\n     <g id=\"text_9\">\n      <!-- $\\mathdefault{10^{2}}$ -->\n      <g transform=\"translate(20.590625 118.642792)scale(0.1 -0.1)\">\n       <use transform=\"translate(0 0.773438)\" xlink:href=\"#IPAexGothic-49\"/>\n       <use transform=\"translate(62.988281 0.773438)\" xlink:href=\"#IPAexGothic-48\"/>\n       <use transform=\"translate(126.865234 36.320312)scale(0.7)\" xlink:href=\"#IPAexGothic-50\"/>\n      </g>\n     </g>\n    </g>\n    <g id=\"ytick_4\">\n     <g id=\"line2d_45\">\n      <g>\n       <use style=\"stroke:#000000;stroke-width:0.8;\" x=\"44.990625\" xlink:href=\"#m78349831f4\" y=\"64.968038\"/>\n      </g>\n     </g>\n     <g id=\"text_10\">\n      <!-- $\\mathdefault{10^{3}}$ -->\n      <g transform=\"translate(20.590625 68.71335)scale(0.1 -0.1)\">\n       <use transform=\"translate(0 0.773438)\" xlink:href=\"#IPAexGothic-49\"/>\n       <use transform=\"translate(62.988281 0.773438)\" xlink:href=\"#IPAexGothic-48\"/>\n       <use transform=\"translate(126.865234 36.320312)scale(0.7)\" xlink:href=\"#IPAexGothic-51\"/>\n      </g>\n     </g>\n    </g>\n    <g id=\"ytick_5\">\n     <g id=\"line2d_46\">\n      <g>\n       <use style=\"stroke:#000000;stroke-width:0.8;\" x=\"44.990625\" xlink:href=\"#m78349831f4\" y=\"15.038596\"/>\n      </g>\n     </g>\n     <g id=\"text_11\">\n      <!-- $\\mathdefault{10^{4}}$ -->\n      <g transform=\"translate(20.590625 18.783908)scale(0.1 -0.1)\">\n       <use transform=\"translate(0 0.2875)\" xlink:href=\"#IPAexGothic-49\"/>\n       <use transform=\"translate(62.988281 0.2875)\" xlink:href=\"#IPAexGothic-48\"/>\n       <use transform=\"translate(126.865234 35.834375)scale(0.7)\" xlink:href=\"#IPAexGothic-52\"/>\n      </g>\n     </g>\n    </g>\n    <g id=\"ytick_6\">\n     <g id=\"line2d_47\">\n      <defs>\n       <path d=\"M 0 0 \nL -2 0 \n\" id=\"mb6d6ea419b\" style=\"stroke:#000000;stroke-width:0.6;\"/>\n      </defs>\n      <g>\n       <use style=\"stroke:#000000;stroke-width:0.6;\" x=\"44.990625\" xlink:href=\"#mb6d6ea419b\" y=\"222.490532\"/>\n      </g>\n     </g>\n    </g>\n    <g id=\"ytick_7\">\n     <g id=\"line2d_48\">\n      <g>\n       <use style=\"stroke:#000000;stroke-width:0.6;\" x=\"44.990625\" xlink:href=\"#mb6d6ea419b\" y=\"219.595027\"/>\n      </g>\n     </g>\n    </g>\n    <g id=\"ytick_8\">\n     <g id=\"line2d_49\">\n      <g>\n       <use style=\"stroke:#000000;stroke-width:0.6;\" x=\"44.990625\" xlink:href=\"#mb6d6ea419b\" y=\"217.04101\"/>\n      </g>\n     </g>\n    </g>\n    <g id=\"ytick_9\">\n     <g id=\"line2d_50\">\n      <g>\n       <use style=\"stroke:#000000;stroke-width:0.6;\" x=\"44.990625\" xlink:href=\"#mb6d6ea419b\" y=\"199.726104\"/>\n      </g>\n     </g>\n    </g>\n    <g id=\"ytick_10\">\n     <g id=\"line2d_51\">\n      <g>\n       <use style=\"stroke:#000000;stroke-width:0.6;\" x=\"44.990625\" xlink:href=\"#mb6d6ea419b\" y=\"190.933966\"/>\n      </g>\n     </g>\n    </g>\n    <g id=\"ytick_11\">\n     <g id=\"line2d_52\">\n      <g>\n       <use style=\"stroke:#000000;stroke-width:0.6;\" x=\"44.990625\" xlink:href=\"#mb6d6ea419b\" y=\"184.695844\"/>\n      </g>\n     </g>\n    </g>\n    <g id=\"ytick_12\">\n     <g id=\"line2d_53\">\n      <g>\n       <use style=\"stroke:#000000;stroke-width:0.6;\" x=\"44.990625\" xlink:href=\"#mb6d6ea419b\" y=\"179.857181\"/>\n      </g>\n     </g>\n    </g>\n    <g id=\"ytick_13\">\n     <g id=\"line2d_54\">\n      <g>\n       <use style=\"stroke:#000000;stroke-width:0.6;\" x=\"44.990625\" xlink:href=\"#mb6d6ea419b\" y=\"175.903706\"/>\n      </g>\n     </g>\n    </g>\n    <g id=\"ytick_14\">\n     <g id=\"line2d_55\">\n      <g>\n       <use style=\"stroke:#000000;stroke-width:0.6;\" x=\"44.990625\" xlink:href=\"#mb6d6ea419b\" y=\"172.56109\"/>\n      </g>\n     </g>\n    </g>\n    <g id=\"ytick_15\">\n     <g id=\"line2d_56\">\n      <g>\n       <use style=\"stroke:#000000;stroke-width:0.6;\" x=\"44.990625\" xlink:href=\"#mb6d6ea419b\" y=\"169.665585\"/>\n      </g>\n     </g>\n    </g>\n    <g id=\"ytick_16\">\n     <g id=\"line2d_57\">\n      <g>\n       <use style=\"stroke:#000000;stroke-width:0.6;\" x=\"44.990625\" xlink:href=\"#mb6d6ea419b\" y=\"167.111568\"/>\n      </g>\n     </g>\n    </g>\n    <g id=\"ytick_17\">\n     <g id=\"line2d_58\">\n      <g>\n       <use style=\"stroke:#000000;stroke-width:0.6;\" x=\"44.990625\" xlink:href=\"#mb6d6ea419b\" y=\"149.796662\"/>\n      </g>\n     </g>\n    </g>\n    <g id=\"ytick_18\">\n     <g id=\"line2d_59\">\n      <g>\n       <use style=\"stroke:#000000;stroke-width:0.6;\" x=\"44.990625\" xlink:href=\"#mb6d6ea419b\" y=\"141.004524\"/>\n      </g>\n     </g>\n    </g>\n    <g id=\"ytick_19\">\n     <g id=\"line2d_60\">\n      <g>\n       <use style=\"stroke:#000000;stroke-width:0.6;\" x=\"44.990625\" xlink:href=\"#mb6d6ea419b\" y=\"134.766402\"/>\n      </g>\n     </g>\n    </g>\n    <g id=\"ytick_20\">\n     <g id=\"line2d_61\">\n      <g>\n       <use style=\"stroke:#000000;stroke-width:0.6;\" x=\"44.990625\" xlink:href=\"#mb6d6ea419b\" y=\"129.927739\"/>\n      </g>\n     </g>\n    </g>\n    <g id=\"ytick_21\">\n     <g id=\"line2d_62\">\n      <g>\n       <use style=\"stroke:#000000;stroke-width:0.6;\" x=\"44.990625\" xlink:href=\"#mb6d6ea419b\" y=\"125.974264\"/>\n      </g>\n     </g>\n    </g>\n    <g id=\"ytick_22\">\n     <g id=\"line2d_63\">\n      <g>\n       <use style=\"stroke:#000000;stroke-width:0.6;\" x=\"44.990625\" xlink:href=\"#mb6d6ea419b\" y=\"122.631648\"/>\n      </g>\n     </g>\n    </g>\n    <g id=\"ytick_23\">\n     <g id=\"line2d_64\">\n      <g>\n       <use style=\"stroke:#000000;stroke-width:0.6;\" x=\"44.990625\" xlink:href=\"#mb6d6ea419b\" y=\"119.736143\"/>\n      </g>\n     </g>\n    </g>\n    <g id=\"ytick_24\">\n     <g id=\"line2d_65\">\n      <g>\n       <use style=\"stroke:#000000;stroke-width:0.6;\" x=\"44.990625\" xlink:href=\"#mb6d6ea419b\" y=\"117.182126\"/>\n      </g>\n     </g>\n    </g>\n    <g id=\"ytick_25\">\n     <g id=\"line2d_66\">\n      <g>\n       <use style=\"stroke:#000000;stroke-width:0.6;\" x=\"44.990625\" xlink:href=\"#mb6d6ea419b\" y=\"99.86722\"/>\n      </g>\n     </g>\n    </g>\n    <g id=\"ytick_26\">\n     <g id=\"line2d_67\">\n      <g>\n       <use style=\"stroke:#000000;stroke-width:0.6;\" x=\"44.990625\" xlink:href=\"#mb6d6ea419b\" y=\"91.075082\"/>\n      </g>\n     </g>\n    </g>\n    <g id=\"ytick_27\">\n     <g id=\"line2d_68\">\n      <g>\n       <use style=\"stroke:#000000;stroke-width:0.6;\" x=\"44.990625\" xlink:href=\"#mb6d6ea419b\" y=\"84.83696\"/>\n      </g>\n     </g>\n    </g>\n    <g id=\"ytick_28\">\n     <g id=\"line2d_69\">\n      <g>\n       <use style=\"stroke:#000000;stroke-width:0.6;\" x=\"44.990625\" xlink:href=\"#mb6d6ea419b\" y=\"79.998298\"/>\n      </g>\n     </g>\n    </g>\n    <g id=\"ytick_29\">\n     <g id=\"line2d_70\">\n      <g>\n       <use style=\"stroke:#000000;stroke-width:0.6;\" x=\"44.990625\" xlink:href=\"#mb6d6ea419b\" y=\"76.044822\"/>\n      </g>\n     </g>\n    </g>\n    <g id=\"ytick_30\">\n     <g id=\"line2d_71\">\n      <g>\n       <use style=\"stroke:#000000;stroke-width:0.6;\" x=\"44.990625\" xlink:href=\"#mb6d6ea419b\" y=\"72.702206\"/>\n      </g>\n     </g>\n    </g>\n    <g id=\"ytick_31\">\n     <g id=\"line2d_72\">\n      <g>\n       <use style=\"stroke:#000000;stroke-width:0.6;\" x=\"44.990625\" xlink:href=\"#mb6d6ea419b\" y=\"69.806701\"/>\n      </g>\n     </g>\n    </g>\n    <g id=\"ytick_32\">\n     <g id=\"line2d_73\">\n      <g>\n       <use style=\"stroke:#000000;stroke-width:0.6;\" x=\"44.990625\" xlink:href=\"#mb6d6ea419b\" y=\"67.252684\"/>\n      </g>\n     </g>\n    </g>\n    <g id=\"ytick_33\">\n     <g id=\"line2d_74\">\n      <g>\n       <use style=\"stroke:#000000;stroke-width:0.6;\" x=\"44.990625\" xlink:href=\"#mb6d6ea419b\" y=\"49.937778\"/>\n      </g>\n     </g>\n    </g>\n    <g id=\"ytick_34\">\n     <g id=\"line2d_75\">\n      <g>\n       <use style=\"stroke:#000000;stroke-width:0.6;\" x=\"44.990625\" xlink:href=\"#mb6d6ea419b\" y=\"41.14564\"/>\n      </g>\n     </g>\n    </g>\n    <g id=\"ytick_35\">\n     <g id=\"line2d_76\">\n      <g>\n       <use style=\"stroke:#000000;stroke-width:0.6;\" x=\"44.990625\" xlink:href=\"#mb6d6ea419b\" y=\"34.907518\"/>\n      </g>\n     </g>\n    </g>\n    <g id=\"ytick_36\">\n     <g id=\"line2d_77\">\n      <g>\n       <use style=\"stroke:#000000;stroke-width:0.6;\" x=\"44.990625\" xlink:href=\"#mb6d6ea419b\" y=\"30.068856\"/>\n      </g>\n     </g>\n    </g>\n    <g id=\"ytick_37\">\n     <g id=\"line2d_78\">\n      <g>\n       <use style=\"stroke:#000000;stroke-width:0.6;\" x=\"44.990625\" xlink:href=\"#mb6d6ea419b\" y=\"26.11538\"/>\n      </g>\n     </g>\n    </g>\n    <g id=\"ytick_38\">\n     <g id=\"line2d_79\">\n      <g>\n       <use style=\"stroke:#000000;stroke-width:0.6;\" x=\"44.990625\" xlink:href=\"#mb6d6ea419b\" y=\"22.772764\"/>\n      </g>\n     </g>\n    </g>\n    <g id=\"ytick_39\">\n     <g id=\"line2d_80\">\n      <g>\n       <use style=\"stroke:#000000;stroke-width:0.6;\" x=\"44.990625\" xlink:href=\"#mb6d6ea419b\" y=\"19.877259\"/>\n      </g>\n     </g>\n    </g>\n    <g id=\"ytick_40\">\n     <g id=\"line2d_81\">\n      <g>\n       <use style=\"stroke:#000000;stroke-width:0.6;\" x=\"44.990625\" xlink:href=\"#mb6d6ea419b\" y=\"17.323242\"/>\n      </g>\n     </g>\n    </g>\n    <g id=\"text_12\">\n     <!-- 出現頻度 -->\n     <g transform=\"translate(14.690625 135.92)rotate(-90)scale(0.1 -0.1)\">\n      <use xlink:href=\"#IPAexGothic-20986\"/>\n      <use x=\"100\" xlink:href=\"#IPAexGothic-29694\"/>\n      <use x=\"200\" xlink:href=\"#IPAexGothic-38971\"/>\n      <use x=\"300\" xlink:href=\"#IPAexGothic-24230\"/>\n     </g>\n    </g>\n   </g>\n   <g id=\"line2d_82\">\n    <path clip-path=\"url(#p8b805ae742)\" d=\"M 60.208807 17.083636 \nL 82.571117 23.79715 \nL 95.652229 24.7702 \nL 104.933426 25.594052 \nL 112.132482 25.871009 \nL 118.014539 26.738634 \nL 122.987747 28.104892 \nL 127.295736 28.977868 \nL 131.095651 33.880548 \nL 134.494792 37.538243 \nL 140.376849 45.679267 \nL 145.350057 49.004073 \nL 147.575904 49.948623 \nL 149.658046 53.03245 \nL 151.613917 57.212196 \nL 155.202277 57.563796 \nL 156.857101 61.434209 \nL 161.3661 63.219045 \nL 162.739158 64.264017 \nL 164.056157 65.583854 \nL 165.321496 66.011918 \nL 166.539074 66.588349 \nL 167.712366 66.823282 \nL 168.844482 67.71536 \nL 169.938214 72.609473 \nL 172.020355 73.587394 \nL 173.01311 74.409482 \nL 173.976226 74.815436 \nL 174.911422 75.61542 \nL 175.820271 76.22628 \nL 176.704216 77.540869 \nL 177.564587 79.231394 \nL 178.402608 79.954973 \nL 179.219411 80.085208 \nL 180.793479 81.948232 \nL 181.55262 82.379532 \nL 182.294307 82.427988 \nL 183.019327 83.31924 \nL 183.72841 83.47141 \nL 184.422243 85.000204 \nL 185.766687 86.527485 \nL 186.418467 87.919131 \nL 187.057339 88.170543 \nL 187.683805 88.233854 \nL 188.298338 88.617653 \nL 189.493363 90.364065 \nL 190.6457 91.293014 \nL 191.206792 91.293014 \nL 192.300524 91.661174 \nL 193.358389 92.726571 \nL 193.874592 93.040838 \nL 197.273732 94.01193 \nL 197.731357 94.684358 \nL 198.182581 96.278192 \nL 199.066526 96.555604 \nL 199.499579 96.555604 \nL 201.175904 97.702166 \nL 201.581721 98.198391 \nL 202.378354 98.501669 \nL 202.769413 99.121257 \nL 204.287905 99.544374 \nL 204.656617 99.86722 \nL 205.021163 100.5277 \nL 205.381636 100.865641 \nL 205.738126 100.865641 \nL 206.09072 101.675274 \nL 206.439501 101.793443 \nL 206.784553 102.516313 \nL 207.125953 102.88699 \nL 207.463778 102.88699 \nL 208.128997 103.137676 \nL 208.456533 103.137676 \nL 208.780777 103.519224 \nL 209.419649 103.519224 \nL 209.734402 103.777371 \nL 210.046115 103.777371 \nL 210.354845 103.907606 \nL 210.660648 104.303071 \nL 210.963579 104.436512 \nL 211.855673 105.818131 \nL 212.147639 105.818131 \nL 213.00801 106.250386 \nL 213.289775 106.250386 \nL 213.569102 106.396407 \nL 214.120602 106.396407 \nL 214.392857 106.840465 \nL 214.662833 106.840465 \nL 214.930569 106.990529 \nL 215.196102 107.601389 \nL 215.459466 107.913395 \nL 215.720698 108.551208 \nL 215.979832 108.551208 \nL 216.744975 109.375797 \nL 216.996042 109.544546 \nL 217.245171 110.232987 \nL 217.73773 110.585582 \nL 217.981218 110.585582 \nL 218.222882 110.764052 \nL 218.462749 110.764052 \nL 218.937199 111.125462 \nL 219.171832 111.125462 \nL 219.404772 111.308451 \nL 219.636042 111.308451 \nL 219.865665 111.679128 \nL 220.093666 111.679128 \nL 220.320067 112.056252 \nL 220.768158 112.056252 \nL 221.21011 112.440051 \nL 221.428836 112.440051 \nL 221.861889 113.22865 \nL 222.289207 113.22865 \nL 222.500761 113.430364 \nL 222.710938 113.430364 \nL 222.919754 113.633972 \nL 223.538214 113.633972 \nL 224.344806 114.468078 \nL 224.740663 114.468078 \nL 224.936786 114.89748 \nL 225.131723 114.89748 \nL 225.518098 115.335557 \nL 225.709565 115.335557 \nL 225.899902 115.55796 \nL 226.277239 115.55796 \nL 226.464266 116.009728 \nL 226.650214 116.009728 \nL 226.835097 116.239191 \nL 227.383473 116.239191 \nL 227.743946 116.705533 \nL 227.922683 116.705533 \nL 228.277214 117.182126 \nL 228.801811 117.182126 \nL 229.146862 117.669429 \nL 229.488262 117.669429 \nL 229.657617 117.91725 \nL 229.993683 117.91725 \nL 230.160412 118.167936 \nL 230.326283 118.167936 \nL 230.491307 118.421553 \nL 230.65549 118.421553 \nL 230.818842 118.678173 \nL 231.143086 118.678173 \nL 231.303994 118.937865 \nL 231.623423 118.937865 \nL 231.781959 119.200706 \nL 231.939719 119.200706 \nL 232.096712 119.466772 \nL 232.408425 119.466772 \nL 232.870418 120.285136 \nL 233.174779 120.285136 \nL 233.325889 120.564935 \nL 233.476295 120.564935 \nL 233.626003 120.848391 \nL 233.775019 120.848391 \nL 233.923351 121.135601 \nL 234.217983 121.135601 \nL 234.364296 121.426667 \nL 234.943002 121.426667 \nL 235.086071 121.721693 \nL 235.370319 121.721693 \nL 235.51151 122.020789 \nL 236.070173 122.020789 \nL 236.20834 122.324067 \nL 236.619327 122.324067 \nL 236.755167 122.631648 \nL 237.159289 122.631648 \nL 237.292879 122.943655 \nL 237.690362 122.943655 \nL 237.821776 123.260216 \nL 238.342142 123.260216 \nL 238.470933 123.90755 \nL 238.599211 123.90755 \nL 238.726982 124.238611 \nL 239.107284 124.238611 \nL 239.233062 124.574806 \nL 239.731327 124.574806 \nL 239.8547 124.916294 \nL 240.464586 124.916294 \nL 240.585191 125.263247 \nL 240.825059 125.263247 \nL 240.944327 125.615841 \nL 241.181548 125.615841 \nL 241.299508 125.974264 \nL 241.882924 125.974264 \nL 242.113367 126.338711 \nL 242.342177 126.338711 \nL 242.569375 126.709388 \nL 242.682377 126.709388 \nL 242.9072 127.086512 \nL 243.019027 127.086512 \nL 243.241524 127.470311 \nL 243.3522 127.470311 \nL 243.572419 127.861026 \nL 244.116479 127.861026 \nL 244.33156 128.25891 \nL 244.545216 128.25891 \nL 244.757467 128.664232 \nL 245.177825 128.664232 \nL 245.385967 129.077274 \nL 245.695685 129.077274 \nL 245.900524 129.498338 \nL 246.205364 129.498338 \nL 246.407002 129.927739 \nL 247.004463 129.927739 \nL 247.201183 130.812927 \nL 247.784247 130.812927 \nL 247.976283 131.269451 \nL 248.451432 131.269451 \nL 248.639549 131.735793 \nL 248.733198 131.735793 \nL 248.919684 132.212385 \nL 249.381237 132.212385 \nL 249.564025 132.699689 \nL 250.551256 132.699689 \nL 250.727551 133.198195 \nL 251.337108 133.198195 \nL 251.509172 133.708432 \nL 252.188397 133.708432 \nL 252.355992 134.230966 \nL 253.343681 134.230966 \nL 253.505396 134.766402 \nL 254.459022 134.766402 \nL 254.615255 135.315396 \nL 255.461267 135.315396 \nL 255.612732 135.87865 \nL 256.506886 135.87865 \nL 256.653532 136.456927 \nL 257.089511 136.456927 \nL 257.233538 137.051048 \nL 258.15436 137.051048 \nL 258.293721 137.661908 \nL 259.185183 137.661908 \nL 259.32017 138.290476 \nL 260.052672 138.290476 \nL 260.184086 138.93781 \nL 261.280003 138.93781 \nL 261.406521 139.605065 \nL 262.21701 139.605065 \nL 262.339913 140.293507 \nL 263.067658 140.293507 \nL 263.187368 141.004524 \nL 264.245233 141.004524 \nL 264.360661 141.739648 \nL 265.325472 141.739648 \nL 265.437105 142.500571 \nL 266.586509 142.500571 \nL 266.747417 143.28917 \nL 267.696367 143.28917 \nL 267.851847 144.107534 \nL 268.769311 144.107534 \nL 268.919717 144.957999 \nL 270.194673 144.957999 \nL 270.338593 145.843187 \nL 271.328447 145.843187 \nL 271.467408 146.766053 \nL 272.869341 146.766053 \nL 273.001834 147.729948 \nL 274.255304 147.729948 \nL 274.382236 148.738692 \nL 275.339142 148.738692 \nL 275.461889 149.796662 \nL 276.782155 149.796662 \nL 276.899543 150.90891 \nL 278.238407 150.90891 \nL 278.350622 152.081308 \nL 280.236129 152.081308 \nL 280.376705 153.320736 \nL 282.249959 153.320736 \nL 282.382045 154.635325 \nL 283.863394 154.635325 \nL 283.98905 156.034783 \nL 286.170974 156.034783 \nL 286.287971 157.53083 \nL 288.624574 157.53083 \nL 288.760072 159.137794 \nL 290.777923 159.137794 \nL 290.904689 160.873446 \nL 293.898974 160.873446 \nL 294.014072 162.760208 \nL 296.744546 162.760208 \nL 296.870981 164.826922 \nL 299.495354 164.826922 \nL 299.611474 167.111568 \nL 302.545565 167.111568 \nL 302.668803 169.665585 \nL 305.909407 169.665585 \nL 306.036298 172.56109 \nL 309.839732 172.56109 \nL 309.952094 175.903706 \nL 314.02967 175.903706 \nL 314.152996 179.857181 \nL 319.547228 179.857181 \nL 319.661577 184.695844 \nL 325.743634 184.695844 \nL 325.855163 190.933966 \nL 333.545481 190.933966 \nL 333.659992 199.726104 \nL 345.339384 199.726104 \nL 345.451551 214.756364 \nL 364.572443 214.756364 \nL 364.572443 214.756364 \n\" style=\"fill:none;stroke:#1f77b4;stroke-linecap:square;stroke-width:1.5;\"/>\n   </g>\n   <g id=\"patch_3\">\n    <path d=\"M 44.990625 224.64 \nL 44.990625 7.2 \n\" style=\"fill:none;stroke:#000000;stroke-linecap:square;stroke-linejoin:miter;stroke-width:0.8;\"/>\n   </g>\n   <g id=\"patch_4\">\n    <path d=\"M 379.790625 224.64 \nL 379.790625 7.2 \n\" style=\"fill:none;stroke:#000000;stroke-linecap:square;stroke-linejoin:miter;stroke-width:0.8;\"/>\n   </g>\n   <g id=\"patch_5\">\n    <path d=\"M 44.990625 224.64 \nL 379.790625 224.64 \n\" style=\"fill:none;stroke:#000000;stroke-linecap:square;stroke-linejoin:miter;stroke-width:0.8;\"/>\n   </g>\n   <g id=\"patch_6\">\n    <path d=\"M 44.990625 7.2 \nL 379.790625 7.2 \n\" style=\"fill:none;stroke:#000000;stroke-linecap:square;stroke-linejoin:miter;stroke-width:0.8;\"/>\n   </g>\n  </g>\n </g>\n <defs>\n  <clipPath id=\"p8b805ae742\">\n   <rect height=\"217.44\" width=\"334.8\" x=\"44.990625\" y=\"7.2\"/>\n  </clipPath>\n </defs>\n</svg>\n",
      "image/png": "[encoded data removed]"
     },
     "metadata": {
      "needs_background": "light"
     }
    }
   ],
   "source": [
    "x = [i+1 for i in range(len(histdata))]\n",
    "plt.plot(x, histdata)\n",
    "ax = plt.gca()\n",
    "ax.set_xscale(\"log\")\n",
    "plt.xlabel('出現頻度順位')\n",
    "ax.set_yscale(\"log\")\n",
    "plt.ylabel('出現頻度')\n",
    "\n",
    "plt.show()"
   ]
  },
  {
   "cell_type": "code",
   "execution_count": null,
   "metadata": {},
   "outputs": [],
   "source": []
  }
 ],
 "metadata": {
  "kernelspec": {
   "display_name": "Python 3",
   "language": "python",
   "name": "python3"
  },
  "language_info": {
   "codemirror_mode": {
    "name": "ipython",
    "version": 3
   },
   "file_extension": ".py",
   "mimetype": "text/x-python",
   "name": "python",
   "nbconvert_exporter": "python",
   "pygments_lexer": "ipython3",
   "version": "3.8.0-final"
  }
 },
 "nbformat": 4,
 "nbformat_minor": 4
}